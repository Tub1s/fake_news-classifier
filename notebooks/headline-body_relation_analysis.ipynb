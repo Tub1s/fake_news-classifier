{
 "cells": [
  {
   "cell_type": "code",
   "execution_count": 1,
   "metadata": {},
   "outputs": [],
   "source": [
    "# Utility \n",
    "import os\n",
    "import tqdm\n",
    "\n",
    "# Data manipulation\n",
    "import pandas as pd\n",
    "import numpy as np\n",
    "\n",
    "# Machine learning\n",
    "from sklearn.model_selection import train_test_split\n",
    "from sklearn.feature_extraction.text import TfidfVectorizer\n",
    "\n",
    "# NLP\n",
    "import nltk\n",
    "from nltk.corpus import stopwords\n",
    "from nltk.stem import WordNetLemmatizer\n",
    "from nltk.tokenize import RegexpTokenizer\n",
    "\n",
    "# Custom ultils\n",
    "from features.preprocessing import prepare_relation_labels"
   ]
  },
  {
   "cell_type": "code",
   "execution_count": null,
   "metadata": {},
   "outputs": [],
   "source": [
    "nltk.download('omw-1.4')"
   ]
  },
  {
   "cell_type": "code",
   "execution_count": 3,
   "metadata": {},
   "outputs": [],
   "source": [
    "bodies = pd.read_csv(\"../data/bodies.csv\", )\n",
    "stances = pd.read_csv(\"../data/stances.csv\")"
   ]
  },
  {
   "cell_type": "code",
   "execution_count": 4,
   "metadata": {},
   "outputs": [],
   "source": [
    "bodies = bodies.rename(columns={\"Body ID\": \"body_id\", \"articleBody\": \"article_body\"})\n",
    "stances = stances.rename(columns={\"Body ID\": \"body_id\"})\n",
    "stances.columns = stances.columns.str.lower()"
   ]
  },
  {
   "cell_type": "code",
   "execution_count": 5,
   "metadata": {},
   "outputs": [
    {
     "data": {
      "text/html": [
       "<div>\n",
       "<style scoped>\n",
       "    .dataframe tbody tr th:only-of-type {\n",
       "        vertical-align: middle;\n",
       "    }\n",
       "\n",
       "    .dataframe tbody tr th {\n",
       "        vertical-align: top;\n",
       "    }\n",
       "\n",
       "    .dataframe thead th {\n",
       "        text-align: right;\n",
       "    }\n",
       "</style>\n",
       "<table border=\"1\" class=\"dataframe\">\n",
       "  <thead>\n",
       "    <tr style=\"text-align: right;\">\n",
       "      <th></th>\n",
       "      <th>body_id</th>\n",
       "      <th>article_body</th>\n",
       "    </tr>\n",
       "  </thead>\n",
       "  <tbody>\n",
       "    <tr>\n",
       "      <th>0</th>\n",
       "      <td>0</td>\n",
       "      <td>A small meteorite crashed into a wooded area i...</td>\n",
       "    </tr>\n",
       "    <tr>\n",
       "      <th>1</th>\n",
       "      <td>4</td>\n",
       "      <td>Last week we hinted at what was to come as Ebo...</td>\n",
       "    </tr>\n",
       "    <tr>\n",
       "      <th>2</th>\n",
       "      <td>5</td>\n",
       "      <td>(NEWSER) – Wonder how long a Quarter Pounder w...</td>\n",
       "    </tr>\n",
       "    <tr>\n",
       "      <th>3</th>\n",
       "      <td>6</td>\n",
       "      <td>Posting photos of a gun-toting child online, I...</td>\n",
       "    </tr>\n",
       "    <tr>\n",
       "      <th>4</th>\n",
       "      <td>7</td>\n",
       "      <td>At least 25 suspected Boko Haram insurgents we...</td>\n",
       "    </tr>\n",
       "  </tbody>\n",
       "</table>\n",
       "</div>"
      ],
      "text/plain": [
       "   body_id                                       article_body\n",
       "0        0  A small meteorite crashed into a wooded area i...\n",
       "1        4  Last week we hinted at what was to come as Ebo...\n",
       "2        5  (NEWSER) – Wonder how long a Quarter Pounder w...\n",
       "3        6  Posting photos of a gun-toting child online, I...\n",
       "4        7  At least 25 suspected Boko Haram insurgents we..."
      ]
     },
     "execution_count": 5,
     "metadata": {},
     "output_type": "execute_result"
    }
   ],
   "source": [
    "bodies.head()"
   ]
  },
  {
   "cell_type": "code",
   "execution_count": 6,
   "metadata": {},
   "outputs": [
    {
     "data": {
      "text/html": [
       "<div>\n",
       "<style scoped>\n",
       "    .dataframe tbody tr th:only-of-type {\n",
       "        vertical-align: middle;\n",
       "    }\n",
       "\n",
       "    .dataframe tbody tr th {\n",
       "        vertical-align: top;\n",
       "    }\n",
       "\n",
       "    .dataframe thead th {\n",
       "        text-align: right;\n",
       "    }\n",
       "</style>\n",
       "<table border=\"1\" class=\"dataframe\">\n",
       "  <thead>\n",
       "    <tr style=\"text-align: right;\">\n",
       "      <th></th>\n",
       "      <th>headline</th>\n",
       "      <th>body_id</th>\n",
       "      <th>stance</th>\n",
       "    </tr>\n",
       "  </thead>\n",
       "  <tbody>\n",
       "    <tr>\n",
       "      <th>0</th>\n",
       "      <td>Police find mass graves with at least '15 bodi...</td>\n",
       "      <td>712</td>\n",
       "      <td>unrelated</td>\n",
       "    </tr>\n",
       "    <tr>\n",
       "      <th>1</th>\n",
       "      <td>Hundreds of Palestinians flee floods in Gaza a...</td>\n",
       "      <td>158</td>\n",
       "      <td>agree</td>\n",
       "    </tr>\n",
       "    <tr>\n",
       "      <th>2</th>\n",
       "      <td>Christian Bale passes on role of Steve Jobs, a...</td>\n",
       "      <td>137</td>\n",
       "      <td>unrelated</td>\n",
       "    </tr>\n",
       "    <tr>\n",
       "      <th>3</th>\n",
       "      <td>HBO and Apple in Talks for $15/Month Apple TV ...</td>\n",
       "      <td>1034</td>\n",
       "      <td>unrelated</td>\n",
       "    </tr>\n",
       "    <tr>\n",
       "      <th>4</th>\n",
       "      <td>Spider burrowed through tourist's stomach and ...</td>\n",
       "      <td>1923</td>\n",
       "      <td>disagree</td>\n",
       "    </tr>\n",
       "  </tbody>\n",
       "</table>\n",
       "</div>"
      ],
      "text/plain": [
       "                                            headline  body_id     stance\n",
       "0  Police find mass graves with at least '15 bodi...      712  unrelated\n",
       "1  Hundreds of Palestinians flee floods in Gaza a...      158      agree\n",
       "2  Christian Bale passes on role of Steve Jobs, a...      137  unrelated\n",
       "3  HBO and Apple in Talks for $15/Month Apple TV ...     1034  unrelated\n",
       "4  Spider burrowed through tourist's stomach and ...     1923   disagree"
      ]
     },
     "execution_count": 6,
     "metadata": {},
     "output_type": "execute_result"
    }
   ],
   "source": [
    "stances.head()"
   ]
  },
  {
   "cell_type": "code",
   "execution_count": 7,
   "metadata": {},
   "outputs": [
    {
     "name": "stdout",
     "output_type": "stream",
     "text": [
      "Bodies shape\n"
     ]
    },
    {
     "data": {
      "text/plain": [
       "(1683, 2)"
      ]
     },
     "execution_count": 7,
     "metadata": {},
     "output_type": "execute_result"
    }
   ],
   "source": [
    "print(\"Bodies shape\")\n",
    "bodies.shape"
   ]
  },
  {
   "cell_type": "code",
   "execution_count": 8,
   "metadata": {},
   "outputs": [
    {
     "name": "stdout",
     "output_type": "stream",
     "text": [
      "Stances shape\n"
     ]
    },
    {
     "data": {
      "text/plain": [
       "(49972, 3)"
      ]
     },
     "execution_count": 8,
     "metadata": {},
     "output_type": "execute_result"
    }
   ],
   "source": [
    "print(\"Stances shape\")\n",
    "stances.shape"
   ]
  },
  {
   "cell_type": "code",
   "execution_count": 9,
   "metadata": {},
   "outputs": [],
   "source": [
    "stances_uniqe_body_ids = np.unique(stances.body_id.values)"
   ]
  },
  {
   "cell_type": "code",
   "execution_count": 10,
   "metadata": {},
   "outputs": [
    {
     "name": "stdout",
     "output_type": "stream",
     "text": [
      "Matching body_ids?\n"
     ]
    },
    {
     "data": {
      "text/plain": [
       "True"
      ]
     },
     "execution_count": 10,
     "metadata": {},
     "output_type": "execute_result"
    }
   ],
   "source": [
    "print(\"Matching body_ids?\")\n",
    "sorted(bodies.body_id.values) == sorted(stances_uniqe_body_ids)"
   ]
  },
  {
   "cell_type": "code",
   "execution_count": 11,
   "metadata": {},
   "outputs": [
    {
     "name": "stdout",
     "output_type": "stream",
     "text": [
      "Unique stances: ['agree' 'disagree' 'discuss' 'unrelated']\n"
     ]
    }
   ],
   "source": [
    "print(f\"Unique stances: {np.unique(stances.stance)}\")"
   ]
  },
  {
   "cell_type": "code",
   "execution_count": 12,
   "metadata": {},
   "outputs": [],
   "source": [
    "df = pd.merge(bodies, stances, on=\"body_id\")"
   ]
  },
  {
   "cell_type": "code",
   "execution_count": 13,
   "metadata": {},
   "outputs": [
    {
     "name": "stdout",
     "output_type": "stream",
     "text": [
      "Class split in the dataset\n"
     ]
    },
    {
     "data": {
      "text/plain": [
       "unrelated    36545\n",
       "discuss       8909\n",
       "agree         3678\n",
       "disagree       840\n",
       "Name: stance, dtype: int64"
      ]
     },
     "execution_count": 13,
     "metadata": {},
     "output_type": "execute_result"
    }
   ],
   "source": [
    "print(\"Class split in the dataset\")\n",
    "df['stance'].value_counts()"
   ]
  },
  {
   "cell_type": "code",
   "execution_count": 14,
   "metadata": {},
   "outputs": [
    {
     "name": "stdout",
     "output_type": "stream",
     "text": [
      "Class split in the dataset (% of all labels)\n"
     ]
    },
    {
     "data": {
      "text/plain": [
       "unrelated    73.130953\n",
       "discuss      17.827984\n",
       "agree         7.360122\n",
       "disagree      1.680941\n",
       "Name: stance, dtype: float64"
      ]
     },
     "execution_count": 14,
     "metadata": {},
     "output_type": "execute_result"
    }
   ],
   "source": [
    "print(\"Class split in the dataset (% of all labels)\")\n",
    "df['stance'].value_counts(normalize=True) * 100"
   ]
  },
  {
   "cell_type": "code",
   "execution_count": 15,
   "metadata": {},
   "outputs": [
    {
     "data": {
      "text/html": [
       "<div>\n",
       "<style scoped>\n",
       "    .dataframe tbody tr th:only-of-type {\n",
       "        vertical-align: middle;\n",
       "    }\n",
       "\n",
       "    .dataframe tbody tr th {\n",
       "        vertical-align: top;\n",
       "    }\n",
       "\n",
       "    .dataframe thead th {\n",
       "        text-align: right;\n",
       "    }\n",
       "</style>\n",
       "<table border=\"1\" class=\"dataframe\">\n",
       "  <thead>\n",
       "    <tr style=\"text-align: right;\">\n",
       "      <th></th>\n",
       "      <th>body_id</th>\n",
       "      <th>article_body</th>\n",
       "      <th>headline</th>\n",
       "      <th>stance</th>\n",
       "    </tr>\n",
       "  </thead>\n",
       "  <tbody>\n",
       "    <tr>\n",
       "      <th>0</th>\n",
       "      <td>0</td>\n",
       "      <td>A small meteorite crashed into a wooded area i...</td>\n",
       "      <td>Soldier shot, Parliament locked down after gun...</td>\n",
       "      <td>unrelated</td>\n",
       "    </tr>\n",
       "    <tr>\n",
       "      <th>1</th>\n",
       "      <td>0</td>\n",
       "      <td>A small meteorite crashed into a wooded area i...</td>\n",
       "      <td>Tourist dubbed ‘Spider Man’ after spider burro...</td>\n",
       "      <td>unrelated</td>\n",
       "    </tr>\n",
       "    <tr>\n",
       "      <th>2</th>\n",
       "      <td>0</td>\n",
       "      <td>A small meteorite crashed into a wooded area i...</td>\n",
       "      <td>Luke Somers 'killed in failed rescue attempt i...</td>\n",
       "      <td>unrelated</td>\n",
       "    </tr>\n",
       "    <tr>\n",
       "      <th>3</th>\n",
       "      <td>0</td>\n",
       "      <td>A small meteorite crashed into a wooded area i...</td>\n",
       "      <td>BREAKING: Soldier shot at War Memorial in Ottawa</td>\n",
       "      <td>unrelated</td>\n",
       "    </tr>\n",
       "    <tr>\n",
       "      <th>4</th>\n",
       "      <td>0</td>\n",
       "      <td>A small meteorite crashed into a wooded area i...</td>\n",
       "      <td>Giant 8ft 9in catfish weighing 19 stone caught...</td>\n",
       "      <td>unrelated</td>\n",
       "    </tr>\n",
       "    <tr>\n",
       "      <th>...</th>\n",
       "      <td>...</td>\n",
       "      <td>...</td>\n",
       "      <td>...</td>\n",
       "      <td>...</td>\n",
       "    </tr>\n",
       "    <tr>\n",
       "      <th>49967</th>\n",
       "      <td>2532</td>\n",
       "      <td>ANN ARBOR, Mich. – A pizza delivery man in Mic...</td>\n",
       "      <td>Pizza delivery man gets tipped more than $2,00...</td>\n",
       "      <td>agree</td>\n",
       "    </tr>\n",
       "    <tr>\n",
       "      <th>49968</th>\n",
       "      <td>2532</td>\n",
       "      <td>ANN ARBOR, Mich. – A pizza delivery man in Mic...</td>\n",
       "      <td>Pizza delivery man gets $2,000 tip</td>\n",
       "      <td>agree</td>\n",
       "    </tr>\n",
       "    <tr>\n",
       "      <th>49969</th>\n",
       "      <td>2532</td>\n",
       "      <td>ANN ARBOR, Mich. – A pizza delivery man in Mic...</td>\n",
       "      <td>Luckiest Pizza Delivery Guy Ever Gets $2,000 Tip</td>\n",
       "      <td>agree</td>\n",
       "    </tr>\n",
       "    <tr>\n",
       "      <th>49970</th>\n",
       "      <td>2532</td>\n",
       "      <td>ANN ARBOR, Mich. – A pizza delivery man in Mic...</td>\n",
       "      <td>Ann Arbor pizza delivery driver surprised with...</td>\n",
       "      <td>agree</td>\n",
       "    </tr>\n",
       "    <tr>\n",
       "      <th>49971</th>\n",
       "      <td>2532</td>\n",
       "      <td>ANN ARBOR, Mich. – A pizza delivery man in Mic...</td>\n",
       "      <td>Ann Arbor pizza delivery driver surprised with...</td>\n",
       "      <td>agree</td>\n",
       "    </tr>\n",
       "  </tbody>\n",
       "</table>\n",
       "<p>49972 rows × 4 columns</p>\n",
       "</div>"
      ],
      "text/plain": [
       "       body_id                                       article_body  \\\n",
       "0            0  A small meteorite crashed into a wooded area i...   \n",
       "1            0  A small meteorite crashed into a wooded area i...   \n",
       "2            0  A small meteorite crashed into a wooded area i...   \n",
       "3            0  A small meteorite crashed into a wooded area i...   \n",
       "4            0  A small meteorite crashed into a wooded area i...   \n",
       "...        ...                                                ...   \n",
       "49967     2532  ANN ARBOR, Mich. – A pizza delivery man in Mic...   \n",
       "49968     2532  ANN ARBOR, Mich. – A pizza delivery man in Mic...   \n",
       "49969     2532  ANN ARBOR, Mich. – A pizza delivery man in Mic...   \n",
       "49970     2532  ANN ARBOR, Mich. – A pizza delivery man in Mic...   \n",
       "49971     2532  ANN ARBOR, Mich. – A pizza delivery man in Mic...   \n",
       "\n",
       "                                                headline     stance  \n",
       "0      Soldier shot, Parliament locked down after gun...  unrelated  \n",
       "1      Tourist dubbed ‘Spider Man’ after spider burro...  unrelated  \n",
       "2      Luke Somers 'killed in failed rescue attempt i...  unrelated  \n",
       "3       BREAKING: Soldier shot at War Memorial in Ottawa  unrelated  \n",
       "4      Giant 8ft 9in catfish weighing 19 stone caught...  unrelated  \n",
       "...                                                  ...        ...  \n",
       "49967  Pizza delivery man gets tipped more than $2,00...      agree  \n",
       "49968                 Pizza delivery man gets $2,000 tip      agree  \n",
       "49969   Luckiest Pizza Delivery Guy Ever Gets $2,000 Tip      agree  \n",
       "49970  Ann Arbor pizza delivery driver surprised with...      agree  \n",
       "49971  Ann Arbor pizza delivery driver surprised with...      agree  \n",
       "\n",
       "[49972 rows x 4 columns]"
      ]
     },
     "execution_count": 15,
     "metadata": {},
     "output_type": "execute_result"
    }
   ],
   "source": [
    "df"
   ]
  },
  {
   "cell_type": "code",
   "execution_count": 16,
   "metadata": {},
   "outputs": [
    {
     "data": {
      "text/html": [
       "<div>\n",
       "<style scoped>\n",
       "    .dataframe tbody tr th:only-of-type {\n",
       "        vertical-align: middle;\n",
       "    }\n",
       "\n",
       "    .dataframe tbody tr th {\n",
       "        vertical-align: top;\n",
       "    }\n",
       "\n",
       "    .dataframe thead th {\n",
       "        text-align: right;\n",
       "    }\n",
       "</style>\n",
       "<table border=\"1\" class=\"dataframe\">\n",
       "  <thead>\n",
       "    <tr style=\"text-align: right;\">\n",
       "      <th></th>\n",
       "      <th>body_id</th>\n",
       "      <th>article_body</th>\n",
       "      <th>headline</th>\n",
       "      <th>stance</th>\n",
       "      <th>relation</th>\n",
       "    </tr>\n",
       "  </thead>\n",
       "  <tbody>\n",
       "    <tr>\n",
       "      <th>0</th>\n",
       "      <td>0</td>\n",
       "      <td>A small meteorite crashed into a wooded area i...</td>\n",
       "      <td>Soldier shot, Parliament locked down after gun...</td>\n",
       "      <td>unrelated</td>\n",
       "      <td>unrelated</td>\n",
       "    </tr>\n",
       "    <tr>\n",
       "      <th>1</th>\n",
       "      <td>0</td>\n",
       "      <td>A small meteorite crashed into a wooded area i...</td>\n",
       "      <td>Tourist dubbed ‘Spider Man’ after spider burro...</td>\n",
       "      <td>unrelated</td>\n",
       "      <td>unrelated</td>\n",
       "    </tr>\n",
       "    <tr>\n",
       "      <th>2</th>\n",
       "      <td>0</td>\n",
       "      <td>A small meteorite crashed into a wooded area i...</td>\n",
       "      <td>Luke Somers 'killed in failed rescue attempt i...</td>\n",
       "      <td>unrelated</td>\n",
       "      <td>unrelated</td>\n",
       "    </tr>\n",
       "    <tr>\n",
       "      <th>3</th>\n",
       "      <td>0</td>\n",
       "      <td>A small meteorite crashed into a wooded area i...</td>\n",
       "      <td>BREAKING: Soldier shot at War Memorial in Ottawa</td>\n",
       "      <td>unrelated</td>\n",
       "      <td>unrelated</td>\n",
       "    </tr>\n",
       "    <tr>\n",
       "      <th>4</th>\n",
       "      <td>0</td>\n",
       "      <td>A small meteorite crashed into a wooded area i...</td>\n",
       "      <td>Giant 8ft 9in catfish weighing 19 stone caught...</td>\n",
       "      <td>unrelated</td>\n",
       "      <td>unrelated</td>\n",
       "    </tr>\n",
       "    <tr>\n",
       "      <th>...</th>\n",
       "      <td>...</td>\n",
       "      <td>...</td>\n",
       "      <td>...</td>\n",
       "      <td>...</td>\n",
       "      <td>...</td>\n",
       "    </tr>\n",
       "    <tr>\n",
       "      <th>49967</th>\n",
       "      <td>2532</td>\n",
       "      <td>ANN ARBOR, Mich. – A pizza delivery man in Mic...</td>\n",
       "      <td>Pizza delivery man gets tipped more than $2,00...</td>\n",
       "      <td>agree</td>\n",
       "      <td>related</td>\n",
       "    </tr>\n",
       "    <tr>\n",
       "      <th>49968</th>\n",
       "      <td>2532</td>\n",
       "      <td>ANN ARBOR, Mich. – A pizza delivery man in Mic...</td>\n",
       "      <td>Pizza delivery man gets $2,000 tip</td>\n",
       "      <td>agree</td>\n",
       "      <td>related</td>\n",
       "    </tr>\n",
       "    <tr>\n",
       "      <th>49969</th>\n",
       "      <td>2532</td>\n",
       "      <td>ANN ARBOR, Mich. – A pizza delivery man in Mic...</td>\n",
       "      <td>Luckiest Pizza Delivery Guy Ever Gets $2,000 Tip</td>\n",
       "      <td>agree</td>\n",
       "      <td>related</td>\n",
       "    </tr>\n",
       "    <tr>\n",
       "      <th>49970</th>\n",
       "      <td>2532</td>\n",
       "      <td>ANN ARBOR, Mich. – A pizza delivery man in Mic...</td>\n",
       "      <td>Ann Arbor pizza delivery driver surprised with...</td>\n",
       "      <td>agree</td>\n",
       "      <td>related</td>\n",
       "    </tr>\n",
       "    <tr>\n",
       "      <th>49971</th>\n",
       "      <td>2532</td>\n",
       "      <td>ANN ARBOR, Mich. – A pizza delivery man in Mic...</td>\n",
       "      <td>Ann Arbor pizza delivery driver surprised with...</td>\n",
       "      <td>agree</td>\n",
       "      <td>related</td>\n",
       "    </tr>\n",
       "  </tbody>\n",
       "</table>\n",
       "<p>49972 rows × 5 columns</p>\n",
       "</div>"
      ],
      "text/plain": [
       "       body_id                                       article_body  \\\n",
       "0            0  A small meteorite crashed into a wooded area i...   \n",
       "1            0  A small meteorite crashed into a wooded area i...   \n",
       "2            0  A small meteorite crashed into a wooded area i...   \n",
       "3            0  A small meteorite crashed into a wooded area i...   \n",
       "4            0  A small meteorite crashed into a wooded area i...   \n",
       "...        ...                                                ...   \n",
       "49967     2532  ANN ARBOR, Mich. – A pizza delivery man in Mic...   \n",
       "49968     2532  ANN ARBOR, Mich. – A pizza delivery man in Mic...   \n",
       "49969     2532  ANN ARBOR, Mich. – A pizza delivery man in Mic...   \n",
       "49970     2532  ANN ARBOR, Mich. – A pizza delivery man in Mic...   \n",
       "49971     2532  ANN ARBOR, Mich. – A pizza delivery man in Mic...   \n",
       "\n",
       "                                                headline     stance   relation  \n",
       "0      Soldier shot, Parliament locked down after gun...  unrelated  unrelated  \n",
       "1      Tourist dubbed ‘Spider Man’ after spider burro...  unrelated  unrelated  \n",
       "2      Luke Somers 'killed in failed rescue attempt i...  unrelated  unrelated  \n",
       "3       BREAKING: Soldier shot at War Memorial in Ottawa  unrelated  unrelated  \n",
       "4      Giant 8ft 9in catfish weighing 19 stone caught...  unrelated  unrelated  \n",
       "...                                                  ...        ...        ...  \n",
       "49967  Pizza delivery man gets tipped more than $2,00...      agree    related  \n",
       "49968                 Pizza delivery man gets $2,000 tip      agree    related  \n",
       "49969   Luckiest Pizza Delivery Guy Ever Gets $2,000 Tip      agree    related  \n",
       "49970  Ann Arbor pizza delivery driver surprised with...      agree    related  \n",
       "49971  Ann Arbor pizza delivery driver surprised with...      agree    related  \n",
       "\n",
       "[49972 rows x 5 columns]"
      ]
     },
     "execution_count": 16,
     "metadata": {},
     "output_type": "execute_result"
    }
   ],
   "source": [
    "mappings = { key: \"related\" for key in [\"agree\", \"disagree\", \"discuss\"]}\n",
    "mappings.update({\"unrelated\": \"unrelated\"})\n",
    "df[\"relation\"] = df.apply(lambda row: mappings[row[\"stance\"]], axis=1)\n",
    "df"
   ]
  },
  {
   "cell_type": "code",
   "execution_count": 17,
   "metadata": {},
   "outputs": [
    {
     "name": "stdout",
     "output_type": "stream",
     "text": [
      "Class split for relation analysis\n"
     ]
    },
    {
     "data": {
      "text/plain": [
       "unrelated    36545\n",
       "related      13427\n",
       "Name: relation, dtype: int64"
      ]
     },
     "execution_count": 17,
     "metadata": {},
     "output_type": "execute_result"
    }
   ],
   "source": [
    "print(\"Class split for relation analysis\")\n",
    "df['relation'].value_counts()"
   ]
  },
  {
   "cell_type": "code",
   "execution_count": 18,
   "metadata": {},
   "outputs": [
    {
     "name": "stdout",
     "output_type": "stream",
     "text": [
      "Class split for relation analysis (% of all labels)\n"
     ]
    },
    {
     "data": {
      "text/plain": [
       "unrelated    73.130953\n",
       "related      26.869047\n",
       "Name: relation, dtype: float64"
      ]
     },
     "execution_count": 18,
     "metadata": {},
     "output_type": "execute_result"
    }
   ],
   "source": [
    "print(\"Class split for relation analysis (% of all labels)\")\n",
    "df['relation'].value_counts(normalize=True) * 100"
   ]
  },
  {
   "cell_type": "code",
   "execution_count": 19,
   "metadata": {},
   "outputs": [],
   "source": [
    "example_unrelated = df[df[\"relation\"] == \"unrelated\"].first_valid_index()\n",
    "example_related = df[df[\"relation\"] == \"related\"].first_valid_index()"
   ]
  },
  {
   "cell_type": "code",
   "execution_count": 20,
   "metadata": {},
   "outputs": [],
   "source": [
    "def formatted_print(df, idx):\n",
    "    data = df.iloc[idx]\n",
    "    print(f\"Headline-Body relation: {data.relation.capitalize()}\")\n",
    "    print(\"---\")\n",
    "    print(data.headline)\n",
    "    print(\"---\")\n",
    "    print(data.article_body)"
   ]
  },
  {
   "cell_type": "code",
   "execution_count": 21,
   "metadata": {},
   "outputs": [
    {
     "name": "stdout",
     "output_type": "stream",
     "text": [
      "Headline-Body relation: Unrelated\n",
      "---\n",
      "Soldier shot, Parliament locked down after gunfire erupts at war memorial\n",
      "---\n",
      "A small meteorite crashed into a wooded area in Nicaragua's capital of Managua overnight, the government said Sunday. Residents reported hearing a mysterious boom that left a 16-foot deep crater near the city's airport, the Associated Press reports. \n",
      "\n",
      "Government spokeswoman Rosario Murillo said a committee formed by the government to study the event determined it was a \"relatively small\" meteorite that \"appears to have come off an asteroid that was passing close to Earth.\" House-sized asteroid 2014 RC, which measured 60 feet in diameter, skimmed the Earth this weekend, ABC News reports. \n",
      "Murillo said Nicaragua will ask international experts to help local scientists in understanding what happened.\n",
      "\n",
      "The crater left by the meteorite had a radius of 39 feet and a depth of 16 feet,  said Humberto Saballos, a volcanologist with the Nicaraguan Institute of Territorial Studies who was on the committee. He said it is still not clear if the meteorite disintegrated or was buried.\n",
      "\n",
      "Humberto Garcia, of the Astronomy Center at the National Autonomous University of Nicaragua, said the meteorite could be related to an asteroid that was forecast to pass by the planet Saturday night.\n",
      "\n",
      "\"We have to study it more because it could be ice or rock,\" he said.\n",
      "\n",
      "Wilfried Strauch, an adviser to the Institute of Territorial Studies, said it was \"very strange that no one reported a streak of light. We have to ask if anyone has a photo or something.\"\n",
      "\n",
      "Local residents reported hearing a loud boom Saturday night, but said they didn't see anything strange in the sky.\n",
      "\n",
      "\"I was sitting on my porch and I saw nothing, then all of a sudden I heard a large blast. We thought it was a bomb because we felt an expansive wave,\" Jorge Santamaria told The Associated Press.\n",
      "\n",
      "The site of the crater is near Managua's international airport and an air force base. Only journalists from state media were allowed to visit it.\n"
     ]
    }
   ],
   "source": [
    "formatted_print(df, example_unrelated)"
   ]
  },
  {
   "cell_type": "code",
   "execution_count": 22,
   "metadata": {},
   "outputs": [
    {
     "name": "stdout",
     "output_type": "stream",
     "text": [
      "Headline-Body relation: Related\n",
      "---\n",
      "Small Meteorite Strikes in Nicaragua's Capital City of Managua\n",
      "---\n",
      "A small meteorite crashed into a wooded area in Nicaragua's capital of Managua overnight, the government said Sunday. Residents reported hearing a mysterious boom that left a 16-foot deep crater near the city's airport, the Associated Press reports. \n",
      "\n",
      "Government spokeswoman Rosario Murillo said a committee formed by the government to study the event determined it was a \"relatively small\" meteorite that \"appears to have come off an asteroid that was passing close to Earth.\" House-sized asteroid 2014 RC, which measured 60 feet in diameter, skimmed the Earth this weekend, ABC News reports. \n",
      "Murillo said Nicaragua will ask international experts to help local scientists in understanding what happened.\n",
      "\n",
      "The crater left by the meteorite had a radius of 39 feet and a depth of 16 feet,  said Humberto Saballos, a volcanologist with the Nicaraguan Institute of Territorial Studies who was on the committee. He said it is still not clear if the meteorite disintegrated or was buried.\n",
      "\n",
      "Humberto Garcia, of the Astronomy Center at the National Autonomous University of Nicaragua, said the meteorite could be related to an asteroid that was forecast to pass by the planet Saturday night.\n",
      "\n",
      "\"We have to study it more because it could be ice or rock,\" he said.\n",
      "\n",
      "Wilfried Strauch, an adviser to the Institute of Territorial Studies, said it was \"very strange that no one reported a streak of light. We have to ask if anyone has a photo or something.\"\n",
      "\n",
      "Local residents reported hearing a loud boom Saturday night, but said they didn't see anything strange in the sky.\n",
      "\n",
      "\"I was sitting on my porch and I saw nothing, then all of a sudden I heard a large blast. We thought it was a bomb because we felt an expansive wave,\" Jorge Santamaria told The Associated Press.\n",
      "\n",
      "The site of the crater is near Managua's international airport and an air force base. Only journalists from state media were allowed to visit it.\n"
     ]
    }
   ],
   "source": [
    "formatted_print(df, example_related)"
   ]
  },
  {
   "cell_type": "code",
   "execution_count": 23,
   "metadata": {},
   "outputs": [
    {
     "data": {
      "text/html": [
       "<div>\n",
       "<style scoped>\n",
       "    .dataframe tbody tr th:only-of-type {\n",
       "        vertical-align: middle;\n",
       "    }\n",
       "\n",
       "    .dataframe tbody tr th {\n",
       "        vertical-align: top;\n",
       "    }\n",
       "\n",
       "    .dataframe thead th {\n",
       "        text-align: right;\n",
       "    }\n",
       "</style>\n",
       "<table border=\"1\" class=\"dataframe\">\n",
       "  <thead>\n",
       "    <tr style=\"text-align: right;\">\n",
       "      <th></th>\n",
       "      <th>article_body</th>\n",
       "      <th>headline</th>\n",
       "      <th>stance</th>\n",
       "      <th>relation</th>\n",
       "    </tr>\n",
       "  </thead>\n",
       "  <tbody>\n",
       "    <tr>\n",
       "      <th>0</th>\n",
       "      <td>A small meteorite crashed into a wooded area i...</td>\n",
       "      <td>Soldier shot, Parliament locked down after gun...</td>\n",
       "      <td>unrelated</td>\n",
       "      <td>unrelated</td>\n",
       "    </tr>\n",
       "    <tr>\n",
       "      <th>1</th>\n",
       "      <td>A small meteorite crashed into a wooded area i...</td>\n",
       "      <td>Tourist dubbed ‘Spider Man’ after spider burro...</td>\n",
       "      <td>unrelated</td>\n",
       "      <td>unrelated</td>\n",
       "    </tr>\n",
       "    <tr>\n",
       "      <th>2</th>\n",
       "      <td>A small meteorite crashed into a wooded area i...</td>\n",
       "      <td>Luke Somers 'killed in failed rescue attempt i...</td>\n",
       "      <td>unrelated</td>\n",
       "      <td>unrelated</td>\n",
       "    </tr>\n",
       "    <tr>\n",
       "      <th>3</th>\n",
       "      <td>A small meteorite crashed into a wooded area i...</td>\n",
       "      <td>BREAKING: Soldier shot at War Memorial in Ottawa</td>\n",
       "      <td>unrelated</td>\n",
       "      <td>unrelated</td>\n",
       "    </tr>\n",
       "    <tr>\n",
       "      <th>4</th>\n",
       "      <td>A small meteorite crashed into a wooded area i...</td>\n",
       "      <td>Giant 8ft 9in catfish weighing 19 stone caught...</td>\n",
       "      <td>unrelated</td>\n",
       "      <td>unrelated</td>\n",
       "    </tr>\n",
       "    <tr>\n",
       "      <th>...</th>\n",
       "      <td>...</td>\n",
       "      <td>...</td>\n",
       "      <td>...</td>\n",
       "      <td>...</td>\n",
       "    </tr>\n",
       "    <tr>\n",
       "      <th>49967</th>\n",
       "      <td>ANN ARBOR, Mich. – A pizza delivery man in Mic...</td>\n",
       "      <td>Pizza delivery man gets tipped more than $2,00...</td>\n",
       "      <td>agree</td>\n",
       "      <td>related</td>\n",
       "    </tr>\n",
       "    <tr>\n",
       "      <th>49968</th>\n",
       "      <td>ANN ARBOR, Mich. – A pizza delivery man in Mic...</td>\n",
       "      <td>Pizza delivery man gets $2,000 tip</td>\n",
       "      <td>agree</td>\n",
       "      <td>related</td>\n",
       "    </tr>\n",
       "    <tr>\n",
       "      <th>49969</th>\n",
       "      <td>ANN ARBOR, Mich. – A pizza delivery man in Mic...</td>\n",
       "      <td>Luckiest Pizza Delivery Guy Ever Gets $2,000 Tip</td>\n",
       "      <td>agree</td>\n",
       "      <td>related</td>\n",
       "    </tr>\n",
       "    <tr>\n",
       "      <th>49970</th>\n",
       "      <td>ANN ARBOR, Mich. – A pizza delivery man in Mic...</td>\n",
       "      <td>Ann Arbor pizza delivery driver surprised with...</td>\n",
       "      <td>agree</td>\n",
       "      <td>related</td>\n",
       "    </tr>\n",
       "    <tr>\n",
       "      <th>49971</th>\n",
       "      <td>ANN ARBOR, Mich. – A pizza delivery man in Mic...</td>\n",
       "      <td>Ann Arbor pizza delivery driver surprised with...</td>\n",
       "      <td>agree</td>\n",
       "      <td>related</td>\n",
       "    </tr>\n",
       "  </tbody>\n",
       "</table>\n",
       "<p>49972 rows × 4 columns</p>\n",
       "</div>"
      ],
      "text/plain": [
       "                                            article_body  \\\n",
       "0      A small meteorite crashed into a wooded area i...   \n",
       "1      A small meteorite crashed into a wooded area i...   \n",
       "2      A small meteorite crashed into a wooded area i...   \n",
       "3      A small meteorite crashed into a wooded area i...   \n",
       "4      A small meteorite crashed into a wooded area i...   \n",
       "...                                                  ...   \n",
       "49967  ANN ARBOR, Mich. – A pizza delivery man in Mic...   \n",
       "49968  ANN ARBOR, Mich. – A pizza delivery man in Mic...   \n",
       "49969  ANN ARBOR, Mich. – A pizza delivery man in Mic...   \n",
       "49970  ANN ARBOR, Mich. – A pizza delivery man in Mic...   \n",
       "49971  ANN ARBOR, Mich. – A pizza delivery man in Mic...   \n",
       "\n",
       "                                                headline     stance   relation  \n",
       "0      Soldier shot, Parliament locked down after gun...  unrelated  unrelated  \n",
       "1      Tourist dubbed ‘Spider Man’ after spider burro...  unrelated  unrelated  \n",
       "2      Luke Somers 'killed in failed rescue attempt i...  unrelated  unrelated  \n",
       "3       BREAKING: Soldier shot at War Memorial in Ottawa  unrelated  unrelated  \n",
       "4      Giant 8ft 9in catfish weighing 19 stone caught...  unrelated  unrelated  \n",
       "...                                                  ...        ...        ...  \n",
       "49967  Pizza delivery man gets tipped more than $2,00...      agree    related  \n",
       "49968                 Pizza delivery man gets $2,000 tip      agree    related  \n",
       "49969   Luckiest Pizza Delivery Guy Ever Gets $2,000 Tip      agree    related  \n",
       "49970  Ann Arbor pizza delivery driver surprised with...      agree    related  \n",
       "49971  Ann Arbor pizza delivery driver surprised with...      agree    related  \n",
       "\n",
       "[49972 rows x 4 columns]"
      ]
     },
     "execution_count": 23,
     "metadata": {},
     "output_type": "execute_result"
    }
   ],
   "source": [
    "df = df.drop(columns=\"body_id\")\n",
    "df"
   ]
  },
  {
   "cell_type": "code",
   "execution_count": 24,
   "metadata": {},
   "outputs": [
    {
     "data": {
      "text/html": [
       "<div>\n",
       "<style scoped>\n",
       "    .dataframe tbody tr th:only-of-type {\n",
       "        vertical-align: middle;\n",
       "    }\n",
       "\n",
       "    .dataframe tbody tr th {\n",
       "        vertical-align: top;\n",
       "    }\n",
       "\n",
       "    .dataframe thead th {\n",
       "        text-align: right;\n",
       "    }\n",
       "</style>\n",
       "<table border=\"1\" class=\"dataframe\">\n",
       "  <thead>\n",
       "    <tr style=\"text-align: right;\">\n",
       "      <th></th>\n",
       "      <th>article_body</th>\n",
       "      <th>headline</th>\n",
       "    </tr>\n",
       "  </thead>\n",
       "  <tbody>\n",
       "    <tr>\n",
       "      <th>0</th>\n",
       "      <td>A small meteorite crashed into a wooded area i...</td>\n",
       "      <td>Soldier shot, Parliament locked down after gun...</td>\n",
       "    </tr>\n",
       "    <tr>\n",
       "      <th>1</th>\n",
       "      <td>A small meteorite crashed into a wooded area i...</td>\n",
       "      <td>Tourist dubbed ‘Spider Man’ after spider burro...</td>\n",
       "    </tr>\n",
       "    <tr>\n",
       "      <th>2</th>\n",
       "      <td>A small meteorite crashed into a wooded area i...</td>\n",
       "      <td>Luke Somers 'killed in failed rescue attempt i...</td>\n",
       "    </tr>\n",
       "    <tr>\n",
       "      <th>3</th>\n",
       "      <td>A small meteorite crashed into a wooded area i...</td>\n",
       "      <td>BREAKING: Soldier shot at War Memorial in Ottawa</td>\n",
       "    </tr>\n",
       "    <tr>\n",
       "      <th>4</th>\n",
       "      <td>A small meteorite crashed into a wooded area i...</td>\n",
       "      <td>Giant 8ft 9in catfish weighing 19 stone caught...</td>\n",
       "    </tr>\n",
       "    <tr>\n",
       "      <th>...</th>\n",
       "      <td>...</td>\n",
       "      <td>...</td>\n",
       "    </tr>\n",
       "    <tr>\n",
       "      <th>49967</th>\n",
       "      <td>ANN ARBOR, Mich. – A pizza delivery man in Mic...</td>\n",
       "      <td>Pizza delivery man gets tipped more than $2,00...</td>\n",
       "    </tr>\n",
       "    <tr>\n",
       "      <th>49968</th>\n",
       "      <td>ANN ARBOR, Mich. – A pizza delivery man in Mic...</td>\n",
       "      <td>Pizza delivery man gets $2,000 tip</td>\n",
       "    </tr>\n",
       "    <tr>\n",
       "      <th>49969</th>\n",
       "      <td>ANN ARBOR, Mich. – A pizza delivery man in Mic...</td>\n",
       "      <td>Luckiest Pizza Delivery Guy Ever Gets $2,000 Tip</td>\n",
       "    </tr>\n",
       "    <tr>\n",
       "      <th>49970</th>\n",
       "      <td>ANN ARBOR, Mich. – A pizza delivery man in Mic...</td>\n",
       "      <td>Ann Arbor pizza delivery driver surprised with...</td>\n",
       "    </tr>\n",
       "    <tr>\n",
       "      <th>49971</th>\n",
       "      <td>ANN ARBOR, Mich. – A pizza delivery man in Mic...</td>\n",
       "      <td>Ann Arbor pizza delivery driver surprised with...</td>\n",
       "    </tr>\n",
       "  </tbody>\n",
       "</table>\n",
       "<p>49972 rows × 2 columns</p>\n",
       "</div>"
      ],
      "text/plain": [
       "                                            article_body  \\\n",
       "0      A small meteorite crashed into a wooded area i...   \n",
       "1      A small meteorite crashed into a wooded area i...   \n",
       "2      A small meteorite crashed into a wooded area i...   \n",
       "3      A small meteorite crashed into a wooded area i...   \n",
       "4      A small meteorite crashed into a wooded area i...   \n",
       "...                                                  ...   \n",
       "49967  ANN ARBOR, Mich. – A pizza delivery man in Mic...   \n",
       "49968  ANN ARBOR, Mich. – A pizza delivery man in Mic...   \n",
       "49969  ANN ARBOR, Mich. – A pizza delivery man in Mic...   \n",
       "49970  ANN ARBOR, Mich. – A pizza delivery man in Mic...   \n",
       "49971  ANN ARBOR, Mich. – A pizza delivery man in Mic...   \n",
       "\n",
       "                                                headline  \n",
       "0      Soldier shot, Parliament locked down after gun...  \n",
       "1      Tourist dubbed ‘Spider Man’ after spider burro...  \n",
       "2      Luke Somers 'killed in failed rescue attempt i...  \n",
       "3       BREAKING: Soldier shot at War Memorial in Ottawa  \n",
       "4      Giant 8ft 9in catfish weighing 19 stone caught...  \n",
       "...                                                  ...  \n",
       "49967  Pizza delivery man gets tipped more than $2,00...  \n",
       "49968                 Pizza delivery man gets $2,000 tip  \n",
       "49969   Luckiest Pizza Delivery Guy Ever Gets $2,000 Tip  \n",
       "49970  Ann Arbor pizza delivery driver surprised with...  \n",
       "49971  Ann Arbor pizza delivery driver surprised with...  \n",
       "\n",
       "[49972 rows x 2 columns]"
      ]
     },
     "execution_count": 24,
     "metadata": {},
     "output_type": "execute_result"
    }
   ],
   "source": [
    "X, y = df[[\"article_body\", \"headline\"]], df[[\"stance\", \"relation\"]]\n",
    "X"
   ]
  },
  {
   "cell_type": "code",
   "execution_count": 25,
   "metadata": {},
   "outputs": [
    {
     "data": {
      "text/html": [
       "<div>\n",
       "<style scoped>\n",
       "    .dataframe tbody tr th:only-of-type {\n",
       "        vertical-align: middle;\n",
       "    }\n",
       "\n",
       "    .dataframe tbody tr th {\n",
       "        vertical-align: top;\n",
       "    }\n",
       "\n",
       "    .dataframe thead th {\n",
       "        text-align: right;\n",
       "    }\n",
       "</style>\n",
       "<table border=\"1\" class=\"dataframe\">\n",
       "  <thead>\n",
       "    <tr style=\"text-align: right;\">\n",
       "      <th></th>\n",
       "      <th>stance</th>\n",
       "      <th>relation</th>\n",
       "    </tr>\n",
       "  </thead>\n",
       "  <tbody>\n",
       "    <tr>\n",
       "      <th>0</th>\n",
       "      <td>unrelated</td>\n",
       "      <td>unrelated</td>\n",
       "    </tr>\n",
       "    <tr>\n",
       "      <th>1</th>\n",
       "      <td>unrelated</td>\n",
       "      <td>unrelated</td>\n",
       "    </tr>\n",
       "    <tr>\n",
       "      <th>2</th>\n",
       "      <td>unrelated</td>\n",
       "      <td>unrelated</td>\n",
       "    </tr>\n",
       "    <tr>\n",
       "      <th>3</th>\n",
       "      <td>unrelated</td>\n",
       "      <td>unrelated</td>\n",
       "    </tr>\n",
       "    <tr>\n",
       "      <th>4</th>\n",
       "      <td>unrelated</td>\n",
       "      <td>unrelated</td>\n",
       "    </tr>\n",
       "    <tr>\n",
       "      <th>...</th>\n",
       "      <td>...</td>\n",
       "      <td>...</td>\n",
       "    </tr>\n",
       "    <tr>\n",
       "      <th>49967</th>\n",
       "      <td>agree</td>\n",
       "      <td>related</td>\n",
       "    </tr>\n",
       "    <tr>\n",
       "      <th>49968</th>\n",
       "      <td>agree</td>\n",
       "      <td>related</td>\n",
       "    </tr>\n",
       "    <tr>\n",
       "      <th>49969</th>\n",
       "      <td>agree</td>\n",
       "      <td>related</td>\n",
       "    </tr>\n",
       "    <tr>\n",
       "      <th>49970</th>\n",
       "      <td>agree</td>\n",
       "      <td>related</td>\n",
       "    </tr>\n",
       "    <tr>\n",
       "      <th>49971</th>\n",
       "      <td>agree</td>\n",
       "      <td>related</td>\n",
       "    </tr>\n",
       "  </tbody>\n",
       "</table>\n",
       "<p>49972 rows × 2 columns</p>\n",
       "</div>"
      ],
      "text/plain": [
       "          stance   relation\n",
       "0      unrelated  unrelated\n",
       "1      unrelated  unrelated\n",
       "2      unrelated  unrelated\n",
       "3      unrelated  unrelated\n",
       "4      unrelated  unrelated\n",
       "...          ...        ...\n",
       "49967      agree    related\n",
       "49968      agree    related\n",
       "49969      agree    related\n",
       "49970      agree    related\n",
       "49971      agree    related\n",
       "\n",
       "[49972 rows x 2 columns]"
      ]
     },
     "execution_count": 25,
     "metadata": {},
     "output_type": "execute_result"
    }
   ],
   "source": [
    "y"
   ]
  },
  {
   "cell_type": "code",
   "execution_count": 26,
   "metadata": {},
   "outputs": [],
   "source": [
    "X_train, X_test, y_train, y_test = train_test_split(X, y, test_size = 0.2)"
   ]
  },
  {
   "cell_type": "code",
   "execution_count": 27,
   "metadata": {},
   "outputs": [
    {
     "data": {
      "text/plain": [
       "(39977, 2)"
      ]
     },
     "execution_count": 27,
     "metadata": {},
     "output_type": "execute_result"
    }
   ],
   "source": [
    "y_train.shape"
   ]
  },
  {
   "cell_type": "code",
   "execution_count": 28,
   "metadata": {},
   "outputs": [
    {
     "data": {
      "text/plain": [
       "(9995, 2)"
      ]
     },
     "execution_count": 28,
     "metadata": {},
     "output_type": "execute_result"
    }
   ],
   "source": [
    "y_test.shape"
   ]
  },
  {
   "cell_type": "code",
   "execution_count": 29,
   "metadata": {},
   "outputs": [
    {
     "data": {
      "text/html": [
       "<div>\n",
       "<style scoped>\n",
       "    .dataframe tbody tr th:only-of-type {\n",
       "        vertical-align: middle;\n",
       "    }\n",
       "\n",
       "    .dataframe tbody tr th {\n",
       "        vertical-align: top;\n",
       "    }\n",
       "\n",
       "    .dataframe thead th {\n",
       "        text-align: right;\n",
       "    }\n",
       "</style>\n",
       "<table border=\"1\" class=\"dataframe\">\n",
       "  <thead>\n",
       "    <tr style=\"text-align: right;\">\n",
       "      <th></th>\n",
       "      <th>stance</th>\n",
       "      <th>relation</th>\n",
       "    </tr>\n",
       "  </thead>\n",
       "  <tbody>\n",
       "    <tr>\n",
       "      <th>28461</th>\n",
       "      <td>unrelated</td>\n",
       "      <td>unrelated</td>\n",
       "    </tr>\n",
       "    <tr>\n",
       "      <th>48602</th>\n",
       "      <td>agree</td>\n",
       "      <td>related</td>\n",
       "    </tr>\n",
       "    <tr>\n",
       "      <th>7440</th>\n",
       "      <td>unrelated</td>\n",
       "      <td>unrelated</td>\n",
       "    </tr>\n",
       "    <tr>\n",
       "      <th>24585</th>\n",
       "      <td>unrelated</td>\n",
       "      <td>unrelated</td>\n",
       "    </tr>\n",
       "    <tr>\n",
       "      <th>49698</th>\n",
       "      <td>unrelated</td>\n",
       "      <td>unrelated</td>\n",
       "    </tr>\n",
       "    <tr>\n",
       "      <th>...</th>\n",
       "      <td>...</td>\n",
       "      <td>...</td>\n",
       "    </tr>\n",
       "    <tr>\n",
       "      <th>10309</th>\n",
       "      <td>unrelated</td>\n",
       "      <td>unrelated</td>\n",
       "    </tr>\n",
       "    <tr>\n",
       "      <th>9630</th>\n",
       "      <td>unrelated</td>\n",
       "      <td>unrelated</td>\n",
       "    </tr>\n",
       "    <tr>\n",
       "      <th>22572</th>\n",
       "      <td>unrelated</td>\n",
       "      <td>unrelated</td>\n",
       "    </tr>\n",
       "    <tr>\n",
       "      <th>4823</th>\n",
       "      <td>unrelated</td>\n",
       "      <td>unrelated</td>\n",
       "    </tr>\n",
       "    <tr>\n",
       "      <th>491</th>\n",
       "      <td>unrelated</td>\n",
       "      <td>unrelated</td>\n",
       "    </tr>\n",
       "  </tbody>\n",
       "</table>\n",
       "<p>39977 rows × 2 columns</p>\n",
       "</div>"
      ],
      "text/plain": [
       "          stance   relation\n",
       "28461  unrelated  unrelated\n",
       "48602      agree    related\n",
       "7440   unrelated  unrelated\n",
       "24585  unrelated  unrelated\n",
       "49698  unrelated  unrelated\n",
       "...          ...        ...\n",
       "10309  unrelated  unrelated\n",
       "9630   unrelated  unrelated\n",
       "22572  unrelated  unrelated\n",
       "4823   unrelated  unrelated\n",
       "491    unrelated  unrelated\n",
       "\n",
       "[39977 rows x 2 columns]"
      ]
     },
     "execution_count": 29,
     "metadata": {},
     "output_type": "execute_result"
    }
   ],
   "source": [
    "y_train"
   ]
  },
  {
   "cell_type": "code",
   "execution_count": 30,
   "metadata": {},
   "outputs": [],
   "source": [
    "from sklearn.preprocessing import LabelEncoder"
   ]
  },
  {
   "cell_type": "code",
   "execution_count": 31,
   "metadata": {},
   "outputs": [
    {
     "data": {
      "text/plain": [
       "array(['agree', 'disagree', 'discuss'], dtype=object)"
      ]
     },
     "execution_count": 31,
     "metadata": {},
     "output_type": "execute_result"
    }
   ],
   "source": [
    "y_train_rel = np.array(y_train[\"relation\"])\n",
    "y_train_rel = np.where(y_train_rel == \"related\", 1, 0)\n",
    "\n",
    "y_test_rel = np.array(y_test[\"relation\"])\n",
    "y_test_rel = np.where(y_test_rel == \"related\", 1, 0)\n",
    "\n",
    "y_train_cls = y_train[\"stance\"] != \"unrelated\"\n",
    "y_test_cls = y_test[\"stance\"] != \"unrelated\"\n",
    "\n",
    "y_train_cls_indices = y_train_cls[y_train_cls].index\n",
    "y_test_cls_indices = y_test_cls[y_test_cls].index\n",
    "\n",
    "y_train_cls = np.array(y_train.loc[y_train_cls].drop(columns=[\"relation\"])).ravel()\n",
    "y_test_cls = np.array(y_test.loc[y_test_cls].drop(columns=[\"relation\"])).ravel()\n",
    "\n",
    "label_encoder = LabelEncoder()\n",
    "y_train_cls = label_encoder.fit_transform(y_train_cls)\n",
    "y_test_cls = label_encoder.fit_transform(y_test_cls)\n",
    "cls_labels = label_encoder.classes_\n",
    "cls_labels"
   ]
  },
  {
   "cell_type": "code",
   "execution_count": 32,
   "metadata": {},
   "outputs": [],
   "source": [
    "X_train_cls = X_train.loc[y_train_cls_indices]\n",
    "X_test_cls = X_test.loc[y_test_cls_indices]"
   ]
  },
  {
   "cell_type": "code",
   "execution_count": 33,
   "metadata": {},
   "outputs": [],
   "source": [
    "from scipy.sparse import hstack\n",
    "class TFIDFTransform:\n",
    "    def __init__(self, headline_vectorizer, body_vectorizer):\n",
    "        self._headline_vectorizer = headline_vectorizer\n",
    "        self._body_vectorizer = body_vectorizer\n",
    "\n",
    "\n",
    "    def fit_transform(self, df):\n",
    "        headline, body = df[\"headline\"], df[\"article_body\"]\n",
    "\n",
    "        X_headline = self._headline_vectorizer.fit_transform(headline)\n",
    "        X_body = self._body_vectorizer.fit_transform(body)\n",
    "\n",
    "        X = hstack((X_headline, X_body))\n",
    "        return X\n",
    "\n",
    "    def transform(self, df):\n",
    "        headline, body = df[\"headline\"], df[\"article_body\"]\n",
    "\n",
    "        X_headline = self._headline_vectorizer.transform(headline)\n",
    "        X_body = self._body_vectorizer.transform(body)\n",
    "\n",
    "        X = hstack((X_headline, X_body))\n",
    "        return X"
   ]
  },
  {
   "cell_type": "code",
   "execution_count": 34,
   "metadata": {},
   "outputs": [],
   "source": [
    "headline_vectorizer = TfidfVectorizer(analyzer=\"word\", stop_words=\"english\", lowercase=True, token_pattern=r\"\\w+\")\n",
    "body_vectorizer = TfidfVectorizer(analyzer=\"word\", stop_words=\"english\", lowercase=True, token_pattern=r\"\\w+\")\n",
    "\n",
    "tfidf_transform = TFIDFTransform(headline_vectorizer=headline_vectorizer, body_vectorizer=body_vectorizer)"
   ]
  },
  {
   "cell_type": "code",
   "execution_count": 35,
   "metadata": {},
   "outputs": [],
   "source": [
    "X_train_rel_vec = tfidf_transform.fit_transform(X_train)\n",
    "X_train_cls_vec = tfidf_transform.transform(X_train_cls)\n",
    "X_test_rel_vec = tfidf_transform.transform(X_test)\n",
    "X_test_cls_vec = tfidf_transform.transform(X_test_cls)"
   ]
  },
  {
   "cell_type": "code",
   "execution_count": 36,
   "metadata": {},
   "outputs": [
    {
     "data": {
      "text/plain": [
       "(39977, 25960)"
      ]
     },
     "execution_count": 36,
     "metadata": {},
     "output_type": "execute_result"
    }
   ],
   "source": [
    "X_train_rel_vec.shape"
   ]
  },
  {
   "cell_type": "code",
   "execution_count": 37,
   "metadata": {},
   "outputs": [
    {
     "data": {
      "text/plain": [
       "(9995, 25960)"
      ]
     },
     "execution_count": 37,
     "metadata": {},
     "output_type": "execute_result"
    }
   ],
   "source": [
    "X_test_rel_vec.shape"
   ]
  },
  {
   "cell_type": "code",
   "execution_count": 38,
   "metadata": {},
   "outputs": [],
   "source": [
    "import xgboost as xgb"
   ]
  },
  {
   "cell_type": "code",
   "execution_count": 39,
   "metadata": {},
   "outputs": [],
   "source": [
    "D_train_rel = xgb.DMatrix(X_train_rel_vec, label=y_train_rel)\n",
    "D_test_rel = xgb.DMatrix(X_test_rel_vec, label=y_test_rel)\n",
    "\n",
    "D_train_cls = xgb.DMatrix(X_train_cls_vec, label=y_train_cls)\n",
    "D_test_cls = xgb.DMatrix(X_test_cls_vec, label=y_test_cls)"
   ]
  },
  {
   "cell_type": "code",
   "execution_count": 40,
   "metadata": {},
   "outputs": [
    {
     "data": {
      "text/plain": [
       "(10688,)"
      ]
     },
     "execution_count": 40,
     "metadata": {},
     "output_type": "execute_result"
    }
   ],
   "source": [
    "y_train_cls.shape"
   ]
  },
  {
   "cell_type": "code",
   "execution_count": 41,
   "metadata": {},
   "outputs": [
    {
     "data": {
      "text/plain": [
       "(39977,)"
      ]
     },
     "execution_count": 41,
     "metadata": {},
     "output_type": "execute_result"
    }
   ],
   "source": [
    "y_train_rel.shape"
   ]
  },
  {
   "cell_type": "code",
   "execution_count": 42,
   "metadata": {},
   "outputs": [],
   "source": [
    "param = {\n",
    "    'eta': 0.3, \n",
    "    'max_depth': 12\n",
    "    } \n",
    "\n",
    "steps = 100  # The number of training iterations"
   ]
  },
  {
   "cell_type": "code",
   "execution_count": 43,
   "metadata": {},
   "outputs": [],
   "source": [
    "model = xgb.train(param, D_train_rel, steps)"
   ]
  },
  {
   "cell_type": "code",
   "execution_count": 44,
   "metadata": {},
   "outputs": [
    {
     "name": "stdout",
     "output_type": "stream",
     "text": [
      "Precision = 0.9768798553906102\n",
      "Recall = 0.9462304464927969\n",
      "Accuracy = 0.9692846423211606\n",
      "Balanced accuracy = 0.9462304464927969\n"
     ]
    }
   ],
   "source": [
    "import numpy as np\n",
    "from sklearn.metrics import precision_score, recall_score, accuracy_score, balanced_accuracy_score\n",
    "\n",
    "preds = model.predict(D_test_rel)\n",
    "best_preds = np.where(preds < 0.5, 0, 1)\n",
    "\n",
    "print(\"Precision = {}\".format(precision_score(y_test_rel, best_preds, average='macro')))\n",
    "print(\"Recall = {}\".format(recall_score(y_test_rel, best_preds, average='macro')))\n",
    "print(\"Accuracy = {}\".format(accuracy_score(y_test_rel, best_preds)))\n",
    "print(\"Balanced accuracy = {}\".format(balanced_accuracy_score(y_test_rel, best_preds)))"
   ]
  },
  {
   "cell_type": "code",
   "execution_count": 45,
   "metadata": {},
   "outputs": [
    {
     "data": {
      "text/plain": [
       "array([0, 0, 0, 0, 1, 0, 0, 1, 0, 1, 1, 0, 0, 0, 1, 0, 0, 0, 0, 0, 0, 1,\n",
       "       1, 0, 0, 0, 0, 1, 1, 0, 0, 0, 1, 0, 0, 1, 0, 0, 1, 1, 0, 0, 0, 0,\n",
       "       0, 0, 0, 0, 0, 0, 0, 1, 0, 1, 0, 0, 0, 0, 1, 0, 0, 0, 0, 0, 0, 1,\n",
       "       0, 0, 0, 0, 0, 0, 0, 0, 0, 1, 0, 0, 0, 0, 0, 1, 1, 1, 0, 0, 0, 0,\n",
       "       0, 0])"
      ]
     },
     "execution_count": 45,
     "metadata": {},
     "output_type": "execute_result"
    }
   ],
   "source": [
    "y_test_rel[10:100]"
   ]
  },
  {
   "cell_type": "code",
   "execution_count": 46,
   "metadata": {},
   "outputs": [
    {
     "data": {
      "text/plain": [
       "array([0, 0, 0, 0, 1, 0, 0, 1, 0, 1, 1, 0, 0, 0, 1, 0, 0, 0, 0, 0, 0, 1,\n",
       "       1, 0, 0, 0, 0, 0, 1, 0, 0, 0, 1, 0, 0, 1, 0, 0, 1, 1, 0, 0, 0, 0,\n",
       "       0, 0, 0, 0, 0, 0, 0, 1, 0, 1, 0, 0, 0, 0, 1, 0, 0, 0, 0, 0, 0, 1,\n",
       "       0, 0, 0, 0, 0, 0, 0, 0, 0, 1, 0, 0, 0, 0, 0, 1, 1, 1, 0, 0, 0, 0,\n",
       "       0, 0])"
      ]
     },
     "execution_count": 46,
     "metadata": {},
     "output_type": "execute_result"
    }
   ],
   "source": [
    "best_preds[10:100]"
   ]
  },
  {
   "cell_type": "code",
   "execution_count": 47,
   "metadata": {},
   "outputs": [],
   "source": [
    "param_cls = {\n",
    "    'eta': 0.3, \n",
    "    'max_depth': 20,\n",
    "    'num_class': 3\n",
    "    } \n",
    "\n",
    "steps = 100  # The number of training iterations"
   ]
  },
  {
   "cell_type": "code",
   "execution_count": 48,
   "metadata": {},
   "outputs": [],
   "source": [
    "model_cls = xgb.train(param_cls, D_train_cls, steps)"
   ]
  },
  {
   "cell_type": "code",
   "execution_count": 49,
   "metadata": {},
   "outputs": [
    {
     "name": "stdout",
     "output_type": "stream",
     "text": [
      "Precision = 0.8659209374717188\n",
      "Recall = 0.8409966132447281\n",
      "Accuracy = 0.9324571011317999\n",
      "Balanced accuracy = 0.8409966132447281\n"
     ]
    }
   ],
   "source": [
    "preds_cls = model_cls.predict(D_test_cls)\n",
    "print(\"Precision = {}\".format(precision_score(y_test_cls, preds_cls, average='macro')))\n",
    "print(\"Recall = {}\".format(recall_score(y_test_cls, preds_cls, average='macro')))\n",
    "print(\"Accuracy = {}\".format(accuracy_score(y_test_cls, preds_cls)))\n",
    "print(\"Balanced accuracy = {}\".format(balanced_accuracy_score(y_test_cls, preds_cls)))"
   ]
  },
  {
   "cell_type": "code",
   "execution_count": 54,
   "metadata": {},
   "outputs": [],
   "source": [
    "from sklearn.metrics import confusion_matrix, ConfusionMatrixDisplay"
   ]
  },
  {
   "cell_type": "code",
   "execution_count": 55,
   "metadata": {},
   "outputs": [],
   "source": [
    "cm = confusion_matrix(y_test_cls, preds_cls)"
   ]
  },
  {
   "cell_type": "code",
   "execution_count": 56,
   "metadata": {},
   "outputs": [],
   "source": [
    "disp = ConfusionMatrixDisplay(cm, display_labels=cls_labels)"
   ]
  },
  {
   "cell_type": "code",
   "execution_count": 57,
   "metadata": {},
   "outputs": [
    {
     "data": {
      "text/plain": [
       "<sklearn.metrics._plot.confusion_matrix.ConfusionMatrixDisplay at 0x1d8eccf2dd0>"
      ]
     },
     "execution_count": 57,
     "metadata": {},
     "output_type": "execute_result"
    },
    {
     "data": {
      "image/png": "[encoded data removed]",
      "text/plain": [
       "<Figure size 640x480 with 2 Axes>"
      ]
     },
     "metadata": {},
     "output_type": "display_data"
    }
   ],
   "source": [
    "disp.plot()"
   ]
  },
  {
   "cell_type": "code",
   "execution_count": null,
   "metadata": {},
   "outputs": [],
   "source": []
  }
 ],
 "metadata": {
  "kernelspec": {
   "display_name": "Python 3.10.4 ('venv': venv)",
   "language": "python",
   "name": "python3"
  },
  "language_info": {
   "codemirror_mode": {
    "name": "ipython",
    "version": 3
   },
   "file_extension": ".py",
   "mimetype": "text/x-python",
   "name": "python",
   "nbconvert_exporter": "python",
   "pygments_lexer": "ipython3",
   "version": "3.10.4"
  },
  "orig_nbformat": 4,
  "vscode": {
   "interpreter": {
    "hash": "94b3bfe163e1866afd3b3db8ecc20722c474becdc4507c570d23aead5fc9a2bd"
   }
  }
 },
 "nbformat": 4,
 "nbformat_minor": 2
}
