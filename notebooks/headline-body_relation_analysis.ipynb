{
 "cells": [
  {
   "cell_type": "code",
   "execution_count": 66,
   "metadata": {},
   "outputs": [],
   "source": [
    "# Utility \n",
    "import os\n",
    "import tqdm\n",
    "from typing import List\n",
    "\n",
    "# Data manipulation\n",
    "import pandas as pd\n",
    "import numpy as np\n",
    "\n",
    "# Scientific\n",
    "from scipy.sparse import hstack\n",
    "\n",
    "# Machine learning\n",
    "import xgboost as xgb\n",
    "from xgboost import XGBClassifier\n",
    "\n",
    "from sklearn.model_selection import train_test_split\n",
    "from sklearn.feature_extraction.text import TfidfVectorizer\n",
    "from sklearn.metrics import precision_score, recall_score, accuracy_score, balanced_accuracy_score, confusion_matrix, ConfusionMatrixDisplay\n",
    "from sklearn.preprocessing import LabelEncoder"
   ]
  },
  {
   "cell_type": "code",
   "execution_count": 4,
   "metadata": {},
   "outputs": [],
   "source": [
    "bodies = pd.read_csv(\"../data/bodies.csv\", )\n",
    "stances = pd.read_csv(\"../data/stances.csv\")"
   ]
  },
  {
   "cell_type": "code",
   "execution_count": 5,
   "metadata": {},
   "outputs": [],
   "source": [
    "bodies = bodies.rename(columns={\"Body ID\": \"body_id\", \"articleBody\": \"article_body\"})\n",
    "stances = stances.rename(columns={\"Body ID\": \"body_id\"})\n",
    "stances.columns = stances.columns.str.lower()"
   ]
  },
  {
   "cell_type": "code",
   "execution_count": 6,
   "metadata": {},
   "outputs": [
    {
     "data": {
      "text/html": [
       "<div>\n",
       "<style scoped>\n",
       "    .dataframe tbody tr th:only-of-type {\n",
       "        vertical-align: middle;\n",
       "    }\n",
       "\n",
       "    .dataframe tbody tr th {\n",
       "        vertical-align: top;\n",
       "    }\n",
       "\n",
       "    .dataframe thead th {\n",
       "        text-align: right;\n",
       "    }\n",
       "</style>\n",
       "<table border=\"1\" class=\"dataframe\">\n",
       "  <thead>\n",
       "    <tr style=\"text-align: right;\">\n",
       "      <th></th>\n",
       "      <th>body_id</th>\n",
       "      <th>article_body</th>\n",
       "    </tr>\n",
       "  </thead>\n",
       "  <tbody>\n",
       "    <tr>\n",
       "      <th>0</th>\n",
       "      <td>0</td>\n",
       "      <td>A small meteorite crashed into a wooded area i...</td>\n",
       "    </tr>\n",
       "    <tr>\n",
       "      <th>1</th>\n",
       "      <td>4</td>\n",
       "      <td>Last week we hinted at what was to come as Ebo...</td>\n",
       "    </tr>\n",
       "    <tr>\n",
       "      <th>2</th>\n",
       "      <td>5</td>\n",
       "      <td>(NEWSER) – Wonder how long a Quarter Pounder w...</td>\n",
       "    </tr>\n",
       "    <tr>\n",
       "      <th>3</th>\n",
       "      <td>6</td>\n",
       "      <td>Posting photos of a gun-toting child online, I...</td>\n",
       "    </tr>\n",
       "    <tr>\n",
       "      <th>4</th>\n",
       "      <td>7</td>\n",
       "      <td>At least 25 suspected Boko Haram insurgents we...</td>\n",
       "    </tr>\n",
       "  </tbody>\n",
       "</table>\n",
       "</div>"
      ],
      "text/plain": [
       "   body_id                                       article_body\n",
       "0        0  A small meteorite crashed into a wooded area i...\n",
       "1        4  Last week we hinted at what was to come as Ebo...\n",
       "2        5  (NEWSER) – Wonder how long a Quarter Pounder w...\n",
       "3        6  Posting photos of a gun-toting child online, I...\n",
       "4        7  At least 25 suspected Boko Haram insurgents we..."
      ]
     },
     "execution_count": 6,
     "metadata": {},
     "output_type": "execute_result"
    }
   ],
   "source": [
    "bodies.head()"
   ]
  },
  {
   "cell_type": "code",
   "execution_count": 7,
   "metadata": {},
   "outputs": [
    {
     "data": {
      "text/html": [
       "<div>\n",
       "<style scoped>\n",
       "    .dataframe tbody tr th:only-of-type {\n",
       "        vertical-align: middle;\n",
       "    }\n",
       "\n",
       "    .dataframe tbody tr th {\n",
       "        vertical-align: top;\n",
       "    }\n",
       "\n",
       "    .dataframe thead th {\n",
       "        text-align: right;\n",
       "    }\n",
       "</style>\n",
       "<table border=\"1\" class=\"dataframe\">\n",
       "  <thead>\n",
       "    <tr style=\"text-align: right;\">\n",
       "      <th></th>\n",
       "      <th>headline</th>\n",
       "      <th>body_id</th>\n",
       "      <th>stance</th>\n",
       "    </tr>\n",
       "  </thead>\n",
       "  <tbody>\n",
       "    <tr>\n",
       "      <th>0</th>\n",
       "      <td>Police find mass graves with at least '15 bodi...</td>\n",
       "      <td>712</td>\n",
       "      <td>unrelated</td>\n",
       "    </tr>\n",
       "    <tr>\n",
       "      <th>1</th>\n",
       "      <td>Hundreds of Palestinians flee floods in Gaza a...</td>\n",
       "      <td>158</td>\n",
       "      <td>agree</td>\n",
       "    </tr>\n",
       "    <tr>\n",
       "      <th>2</th>\n",
       "      <td>Christian Bale passes on role of Steve Jobs, a...</td>\n",
       "      <td>137</td>\n",
       "      <td>unrelated</td>\n",
       "    </tr>\n",
       "    <tr>\n",
       "      <th>3</th>\n",
       "      <td>HBO and Apple in Talks for $15/Month Apple TV ...</td>\n",
       "      <td>1034</td>\n",
       "      <td>unrelated</td>\n",
       "    </tr>\n",
       "    <tr>\n",
       "      <th>4</th>\n",
       "      <td>Spider burrowed through tourist's stomach and ...</td>\n",
       "      <td>1923</td>\n",
       "      <td>disagree</td>\n",
       "    </tr>\n",
       "  </tbody>\n",
       "</table>\n",
       "</div>"
      ],
      "text/plain": [
       "                                            headline  body_id     stance\n",
       "0  Police find mass graves with at least '15 bodi...      712  unrelated\n",
       "1  Hundreds of Palestinians flee floods in Gaza a...      158      agree\n",
       "2  Christian Bale passes on role of Steve Jobs, a...      137  unrelated\n",
       "3  HBO and Apple in Talks for $15/Month Apple TV ...     1034  unrelated\n",
       "4  Spider burrowed through tourist's stomach and ...     1923   disagree"
      ]
     },
     "execution_count": 7,
     "metadata": {},
     "output_type": "execute_result"
    }
   ],
   "source": [
    "stances.head()"
   ]
  },
  {
   "cell_type": "code",
   "execution_count": 8,
   "metadata": {},
   "outputs": [
    {
     "name": "stdout",
     "output_type": "stream",
     "text": [
      "Bodies shape\n"
     ]
    },
    {
     "data": {
      "text/plain": [
       "(1683, 2)"
      ]
     },
     "execution_count": 8,
     "metadata": {},
     "output_type": "execute_result"
    }
   ],
   "source": [
    "print(\"Bodies shape\")\n",
    "bodies.shape"
   ]
  },
  {
   "cell_type": "code",
   "execution_count": 9,
   "metadata": {},
   "outputs": [
    {
     "name": "stdout",
     "output_type": "stream",
     "text": [
      "Stances shape\n"
     ]
    },
    {
     "data": {
      "text/plain": [
       "(49972, 3)"
      ]
     },
     "execution_count": 9,
     "metadata": {},
     "output_type": "execute_result"
    }
   ],
   "source": [
    "print(\"Stances shape\")\n",
    "stances.shape"
   ]
  },
  {
   "cell_type": "code",
   "execution_count": 10,
   "metadata": {},
   "outputs": [],
   "source": [
    "stances_uniqe_body_ids = np.unique(stances.body_id.values)"
   ]
  },
  {
   "cell_type": "code",
   "execution_count": 11,
   "metadata": {},
   "outputs": [
    {
     "name": "stdout",
     "output_type": "stream",
     "text": [
      "Matching body_ids?\n"
     ]
    },
    {
     "data": {
      "text/plain": [
       "True"
      ]
     },
     "execution_count": 11,
     "metadata": {},
     "output_type": "execute_result"
    }
   ],
   "source": [
    "print(\"Matching body_ids?\")\n",
    "sorted(bodies.body_id.values) == sorted(stances_uniqe_body_ids)"
   ]
  },
  {
   "cell_type": "code",
   "execution_count": 12,
   "metadata": {},
   "outputs": [
    {
     "name": "stdout",
     "output_type": "stream",
     "text": [
      "Unique stances: ['agree' 'disagree' 'discuss' 'unrelated']\n"
     ]
    }
   ],
   "source": [
    "print(f\"Unique stances: {np.unique(stances.stance)}\")"
   ]
  },
  {
   "cell_type": "code",
   "execution_count": 13,
   "metadata": {},
   "outputs": [],
   "source": [
    "df = pd.merge(bodies, stances, on=\"body_id\")"
   ]
  },
  {
   "cell_type": "code",
   "execution_count": 14,
   "metadata": {},
   "outputs": [
    {
     "name": "stdout",
     "output_type": "stream",
     "text": [
      "Class split in the dataset\n"
     ]
    },
    {
     "data": {
      "text/plain": [
       "unrelated    36545\n",
       "discuss       8909\n",
       "agree         3678\n",
       "disagree       840\n",
       "Name: stance, dtype: int64"
      ]
     },
     "execution_count": 14,
     "metadata": {},
     "output_type": "execute_result"
    }
   ],
   "source": [
    "print(\"Class split in the dataset\")\n",
    "df['stance'].value_counts()"
   ]
  },
  {
   "cell_type": "code",
   "execution_count": 15,
   "metadata": {},
   "outputs": [
    {
     "name": "stdout",
     "output_type": "stream",
     "text": [
      "Class split in the dataset (% of all labels)\n"
     ]
    },
    {
     "data": {
      "text/plain": [
       "unrelated    73.130953\n",
       "discuss      17.827984\n",
       "agree         7.360122\n",
       "disagree      1.680941\n",
       "Name: stance, dtype: float64"
      ]
     },
     "execution_count": 15,
     "metadata": {},
     "output_type": "execute_result"
    }
   ],
   "source": [
    "print(\"Class split in the dataset (% of all labels)\")\n",
    "df['stance'].value_counts(normalize=True) * 100"
   ]
  },
  {
   "cell_type": "code",
   "execution_count": 16,
   "metadata": {},
   "outputs": [
    {
     "data": {
      "text/html": [
       "<div>\n",
       "<style scoped>\n",
       "    .dataframe tbody tr th:only-of-type {\n",
       "        vertical-align: middle;\n",
       "    }\n",
       "\n",
       "    .dataframe tbody tr th {\n",
       "        vertical-align: top;\n",
       "    }\n",
       "\n",
       "    .dataframe thead th {\n",
       "        text-align: right;\n",
       "    }\n",
       "</style>\n",
       "<table border=\"1\" class=\"dataframe\">\n",
       "  <thead>\n",
       "    <tr style=\"text-align: right;\">\n",
       "      <th></th>\n",
       "      <th>body_id</th>\n",
       "      <th>article_body</th>\n",
       "      <th>headline</th>\n",
       "      <th>stance</th>\n",
       "    </tr>\n",
       "  </thead>\n",
       "  <tbody>\n",
       "    <tr>\n",
       "      <th>0</th>\n",
       "      <td>0</td>\n",
       "      <td>A small meteorite crashed into a wooded area i...</td>\n",
       "      <td>Soldier shot, Parliament locked down after gun...</td>\n",
       "      <td>unrelated</td>\n",
       "    </tr>\n",
       "    <tr>\n",
       "      <th>1</th>\n",
       "      <td>0</td>\n",
       "      <td>A small meteorite crashed into a wooded area i...</td>\n",
       "      <td>Tourist dubbed ‘Spider Man’ after spider burro...</td>\n",
       "      <td>unrelated</td>\n",
       "    </tr>\n",
       "    <tr>\n",
       "      <th>2</th>\n",
       "      <td>0</td>\n",
       "      <td>A small meteorite crashed into a wooded area i...</td>\n",
       "      <td>Luke Somers 'killed in failed rescue attempt i...</td>\n",
       "      <td>unrelated</td>\n",
       "    </tr>\n",
       "    <tr>\n",
       "      <th>3</th>\n",
       "      <td>0</td>\n",
       "      <td>A small meteorite crashed into a wooded area i...</td>\n",
       "      <td>BREAKING: Soldier shot at War Memorial in Ottawa</td>\n",
       "      <td>unrelated</td>\n",
       "    </tr>\n",
       "    <tr>\n",
       "      <th>4</th>\n",
       "      <td>0</td>\n",
       "      <td>A small meteorite crashed into a wooded area i...</td>\n",
       "      <td>Giant 8ft 9in catfish weighing 19 stone caught...</td>\n",
       "      <td>unrelated</td>\n",
       "    </tr>\n",
       "    <tr>\n",
       "      <th>...</th>\n",
       "      <td>...</td>\n",
       "      <td>...</td>\n",
       "      <td>...</td>\n",
       "      <td>...</td>\n",
       "    </tr>\n",
       "    <tr>\n",
       "      <th>49967</th>\n",
       "      <td>2532</td>\n",
       "      <td>ANN ARBOR, Mich. – A pizza delivery man in Mic...</td>\n",
       "      <td>Pizza delivery man gets tipped more than $2,00...</td>\n",
       "      <td>agree</td>\n",
       "    </tr>\n",
       "    <tr>\n",
       "      <th>49968</th>\n",
       "      <td>2532</td>\n",
       "      <td>ANN ARBOR, Mich. – A pizza delivery man in Mic...</td>\n",
       "      <td>Pizza delivery man gets $2,000 tip</td>\n",
       "      <td>agree</td>\n",
       "    </tr>\n",
       "    <tr>\n",
       "      <th>49969</th>\n",
       "      <td>2532</td>\n",
       "      <td>ANN ARBOR, Mich. – A pizza delivery man in Mic...</td>\n",
       "      <td>Luckiest Pizza Delivery Guy Ever Gets $2,000 Tip</td>\n",
       "      <td>agree</td>\n",
       "    </tr>\n",
       "    <tr>\n",
       "      <th>49970</th>\n",
       "      <td>2532</td>\n",
       "      <td>ANN ARBOR, Mich. – A pizza delivery man in Mic...</td>\n",
       "      <td>Ann Arbor pizza delivery driver surprised with...</td>\n",
       "      <td>agree</td>\n",
       "    </tr>\n",
       "    <tr>\n",
       "      <th>49971</th>\n",
       "      <td>2532</td>\n",
       "      <td>ANN ARBOR, Mich. – A pizza delivery man in Mic...</td>\n",
       "      <td>Ann Arbor pizza delivery driver surprised with...</td>\n",
       "      <td>agree</td>\n",
       "    </tr>\n",
       "  </tbody>\n",
       "</table>\n",
       "<p>49972 rows × 4 columns</p>\n",
       "</div>"
      ],
      "text/plain": [
       "       body_id  ...     stance\n",
       "0            0  ...  unrelated\n",
       "1            0  ...  unrelated\n",
       "2            0  ...  unrelated\n",
       "3            0  ...  unrelated\n",
       "4            0  ...  unrelated\n",
       "...        ...  ...        ...\n",
       "49967     2532  ...      agree\n",
       "49968     2532  ...      agree\n",
       "49969     2532  ...      agree\n",
       "49970     2532  ...      agree\n",
       "49971     2532  ...      agree\n",
       "\n",
       "[49972 rows x 4 columns]"
      ]
     },
     "execution_count": 16,
     "metadata": {},
     "output_type": "execute_result"
    }
   ],
   "source": [
    "df"
   ]
  },
  {
   "cell_type": "code",
   "execution_count": 17,
   "metadata": {},
   "outputs": [
    {
     "data": {
      "text/html": [
       "<div>\n",
       "<style scoped>\n",
       "    .dataframe tbody tr th:only-of-type {\n",
       "        vertical-align: middle;\n",
       "    }\n",
       "\n",
       "    .dataframe tbody tr th {\n",
       "        vertical-align: top;\n",
       "    }\n",
       "\n",
       "    .dataframe thead th {\n",
       "        text-align: right;\n",
       "    }\n",
       "</style>\n",
       "<table border=\"1\" class=\"dataframe\">\n",
       "  <thead>\n",
       "    <tr style=\"text-align: right;\">\n",
       "      <th></th>\n",
       "      <th>body_id</th>\n",
       "      <th>article_body</th>\n",
       "      <th>headline</th>\n",
       "      <th>stance</th>\n",
       "      <th>relation</th>\n",
       "    </tr>\n",
       "  </thead>\n",
       "  <tbody>\n",
       "    <tr>\n",
       "      <th>0</th>\n",
       "      <td>0</td>\n",
       "      <td>A small meteorite crashed into a wooded area i...</td>\n",
       "      <td>Soldier shot, Parliament locked down after gun...</td>\n",
       "      <td>unrelated</td>\n",
       "      <td>unrelated</td>\n",
       "    </tr>\n",
       "    <tr>\n",
       "      <th>1</th>\n",
       "      <td>0</td>\n",
       "      <td>A small meteorite crashed into a wooded area i...</td>\n",
       "      <td>Tourist dubbed ‘Spider Man’ after spider burro...</td>\n",
       "      <td>unrelated</td>\n",
       "      <td>unrelated</td>\n",
       "    </tr>\n",
       "    <tr>\n",
       "      <th>2</th>\n",
       "      <td>0</td>\n",
       "      <td>A small meteorite crashed into a wooded area i...</td>\n",
       "      <td>Luke Somers 'killed in failed rescue attempt i...</td>\n",
       "      <td>unrelated</td>\n",
       "      <td>unrelated</td>\n",
       "    </tr>\n",
       "    <tr>\n",
       "      <th>3</th>\n",
       "      <td>0</td>\n",
       "      <td>A small meteorite crashed into a wooded area i...</td>\n",
       "      <td>BREAKING: Soldier shot at War Memorial in Ottawa</td>\n",
       "      <td>unrelated</td>\n",
       "      <td>unrelated</td>\n",
       "    </tr>\n",
       "    <tr>\n",
       "      <th>4</th>\n",
       "      <td>0</td>\n",
       "      <td>A small meteorite crashed into a wooded area i...</td>\n",
       "      <td>Giant 8ft 9in catfish weighing 19 stone caught...</td>\n",
       "      <td>unrelated</td>\n",
       "      <td>unrelated</td>\n",
       "    </tr>\n",
       "    <tr>\n",
       "      <th>...</th>\n",
       "      <td>...</td>\n",
       "      <td>...</td>\n",
       "      <td>...</td>\n",
       "      <td>...</td>\n",
       "      <td>...</td>\n",
       "    </tr>\n",
       "    <tr>\n",
       "      <th>49967</th>\n",
       "      <td>2532</td>\n",
       "      <td>ANN ARBOR, Mich. – A pizza delivery man in Mic...</td>\n",
       "      <td>Pizza delivery man gets tipped more than $2,00...</td>\n",
       "      <td>agree</td>\n",
       "      <td>related</td>\n",
       "    </tr>\n",
       "    <tr>\n",
       "      <th>49968</th>\n",
       "      <td>2532</td>\n",
       "      <td>ANN ARBOR, Mich. – A pizza delivery man in Mic...</td>\n",
       "      <td>Pizza delivery man gets $2,000 tip</td>\n",
       "      <td>agree</td>\n",
       "      <td>related</td>\n",
       "    </tr>\n",
       "    <tr>\n",
       "      <th>49969</th>\n",
       "      <td>2532</td>\n",
       "      <td>ANN ARBOR, Mich. – A pizza delivery man in Mic...</td>\n",
       "      <td>Luckiest Pizza Delivery Guy Ever Gets $2,000 Tip</td>\n",
       "      <td>agree</td>\n",
       "      <td>related</td>\n",
       "    </tr>\n",
       "    <tr>\n",
       "      <th>49970</th>\n",
       "      <td>2532</td>\n",
       "      <td>ANN ARBOR, Mich. – A pizza delivery man in Mic...</td>\n",
       "      <td>Ann Arbor pizza delivery driver surprised with...</td>\n",
       "      <td>agree</td>\n",
       "      <td>related</td>\n",
       "    </tr>\n",
       "    <tr>\n",
       "      <th>49971</th>\n",
       "      <td>2532</td>\n",
       "      <td>ANN ARBOR, Mich. – A pizza delivery man in Mic...</td>\n",
       "      <td>Ann Arbor pizza delivery driver surprised with...</td>\n",
       "      <td>agree</td>\n",
       "      <td>related</td>\n",
       "    </tr>\n",
       "  </tbody>\n",
       "</table>\n",
       "<p>49972 rows × 5 columns</p>\n",
       "</div>"
      ],
      "text/plain": [
       "       body_id  ...   relation\n",
       "0            0  ...  unrelated\n",
       "1            0  ...  unrelated\n",
       "2            0  ...  unrelated\n",
       "3            0  ...  unrelated\n",
       "4            0  ...  unrelated\n",
       "...        ...  ...        ...\n",
       "49967     2532  ...    related\n",
       "49968     2532  ...    related\n",
       "49969     2532  ...    related\n",
       "49970     2532  ...    related\n",
       "49971     2532  ...    related\n",
       "\n",
       "[49972 rows x 5 columns]"
      ]
     },
     "execution_count": 17,
     "metadata": {},
     "output_type": "execute_result"
    }
   ],
   "source": [
    "mappings = { key: \"related\" for key in [\"agree\", \"disagree\", \"discuss\"]}\n",
    "mappings.update({\"unrelated\": \"unrelated\"})\n",
    "df[\"relation\"] = df.apply(lambda row: mappings[row[\"stance\"]], axis=1)\n",
    "df"
   ]
  },
  {
   "cell_type": "code",
   "execution_count": 18,
   "metadata": {},
   "outputs": [
    {
     "name": "stdout",
     "output_type": "stream",
     "text": [
      "Class split for relation analysis\n"
     ]
    },
    {
     "data": {
      "text/plain": [
       "unrelated    36545\n",
       "related      13427\n",
       "Name: relation, dtype: int64"
      ]
     },
     "execution_count": 18,
     "metadata": {},
     "output_type": "execute_result"
    }
   ],
   "source": [
    "print(\"Class split for relation analysis\")\n",
    "df['relation'].value_counts()"
   ]
  },
  {
   "cell_type": "code",
   "execution_count": 19,
   "metadata": {},
   "outputs": [
    {
     "name": "stdout",
     "output_type": "stream",
     "text": [
      "Class split for relation analysis (% of all labels)\n"
     ]
    },
    {
     "data": {
      "text/plain": [
       "unrelated    73.130953\n",
       "related      26.869047\n",
       "Name: relation, dtype: float64"
      ]
     },
     "execution_count": 19,
     "metadata": {},
     "output_type": "execute_result"
    }
   ],
   "source": [
    "print(\"Class split for relation analysis (% of all labels)\")\n",
    "df['relation'].value_counts(normalize=True) * 100"
   ]
  },
  {
   "cell_type": "code",
   "execution_count": 20,
   "metadata": {},
   "outputs": [],
   "source": [
    "example_unrelated = df[df[\"relation\"] == \"unrelated\"].first_valid_index()\n",
    "example_related = df[df[\"relation\"] == \"related\"].first_valid_index()"
   ]
  },
  {
   "cell_type": "code",
   "execution_count": 21,
   "metadata": {},
   "outputs": [],
   "source": [
    "def formatted_print(df, idx):\n",
    "    data = df.iloc[idx]\n",
    "    print(f\"Headline-Body relation: {data.relation.capitalize()}\")\n",
    "    print(\"---\")\n",
    "    print(data.headline)\n",
    "    print(\"---\")\n",
    "    print(data.article_body)"
   ]
  },
  {
   "cell_type": "code",
   "execution_count": 22,
   "metadata": {},
   "outputs": [
    {
     "name": "stdout",
     "output_type": "stream",
     "text": [
      "Headline-Body relation: Unrelated\n",
      "---\n",
      "Soldier shot, Parliament locked down after gunfire erupts at war memorial\n",
      "---\n",
      "A small meteorite crashed into a wooded area in Nicaragua's capital of Managua overnight, the government said Sunday. Residents reported hearing a mysterious boom that left a 16-foot deep crater near the city's airport, the Associated Press reports. \n",
      "\n",
      "Government spokeswoman Rosario Murillo said a committee formed by the government to study the event determined it was a \"relatively small\" meteorite that \"appears to have come off an asteroid that was passing close to Earth.\" House-sized asteroid 2014 RC, which measured 60 feet in diameter, skimmed the Earth this weekend, ABC News reports. \n",
      "Murillo said Nicaragua will ask international experts to help local scientists in understanding what happened.\n",
      "\n",
      "The crater left by the meteorite had a radius of 39 feet and a depth of 16 feet,  said Humberto Saballos, a volcanologist with the Nicaraguan Institute of Territorial Studies who was on the committee. He said it is still not clear if the meteorite disintegrated or was buried.\n",
      "\n",
      "Humberto Garcia, of the Astronomy Center at the National Autonomous University of Nicaragua, said the meteorite could be related to an asteroid that was forecast to pass by the planet Saturday night.\n",
      "\n",
      "\"We have to study it more because it could be ice or rock,\" he said.\n",
      "\n",
      "Wilfried Strauch, an adviser to the Institute of Territorial Studies, said it was \"very strange that no one reported a streak of light. We have to ask if anyone has a photo or something.\"\n",
      "\n",
      "Local residents reported hearing a loud boom Saturday night, but said they didn't see anything strange in the sky.\n",
      "\n",
      "\"I was sitting on my porch and I saw nothing, then all of a sudden I heard a large blast. We thought it was a bomb because we felt an expansive wave,\" Jorge Santamaria told The Associated Press.\n",
      "\n",
      "The site of the crater is near Managua's international airport and an air force base. Only journalists from state media were allowed to visit it.\n"
     ]
    }
   ],
   "source": [
    "formatted_print(df, example_unrelated)"
   ]
  },
  {
   "cell_type": "code",
   "execution_count": 23,
   "metadata": {},
   "outputs": [
    {
     "name": "stdout",
     "output_type": "stream",
     "text": [
      "Headline-Body relation: Related\n",
      "---\n",
      "Small Meteorite Strikes in Nicaragua's Capital City of Managua\n",
      "---\n",
      "A small meteorite crashed into a wooded area in Nicaragua's capital of Managua overnight, the government said Sunday. Residents reported hearing a mysterious boom that left a 16-foot deep crater near the city's airport, the Associated Press reports. \n",
      "\n",
      "Government spokeswoman Rosario Murillo said a committee formed by the government to study the event determined it was a \"relatively small\" meteorite that \"appears to have come off an asteroid that was passing close to Earth.\" House-sized asteroid 2014 RC, which measured 60 feet in diameter, skimmed the Earth this weekend, ABC News reports. \n",
      "Murillo said Nicaragua will ask international experts to help local scientists in understanding what happened.\n",
      "\n",
      "The crater left by the meteorite had a radius of 39 feet and a depth of 16 feet,  said Humberto Saballos, a volcanologist with the Nicaraguan Institute of Territorial Studies who was on the committee. He said it is still not clear if the meteorite disintegrated or was buried.\n",
      "\n",
      "Humberto Garcia, of the Astronomy Center at the National Autonomous University of Nicaragua, said the meteorite could be related to an asteroid that was forecast to pass by the planet Saturday night.\n",
      "\n",
      "\"We have to study it more because it could be ice or rock,\" he said.\n",
      "\n",
      "Wilfried Strauch, an adviser to the Institute of Territorial Studies, said it was \"very strange that no one reported a streak of light. We have to ask if anyone has a photo or something.\"\n",
      "\n",
      "Local residents reported hearing a loud boom Saturday night, but said they didn't see anything strange in the sky.\n",
      "\n",
      "\"I was sitting on my porch and I saw nothing, then all of a sudden I heard a large blast. We thought it was a bomb because we felt an expansive wave,\" Jorge Santamaria told The Associated Press.\n",
      "\n",
      "The site of the crater is near Managua's international airport and an air force base. Only journalists from state media were allowed to visit it.\n"
     ]
    }
   ],
   "source": [
    "formatted_print(df, example_related)"
   ]
  },
  {
   "cell_type": "code",
   "execution_count": 24,
   "metadata": {},
   "outputs": [
    {
     "data": {
      "text/html": [
       "<div>\n",
       "<style scoped>\n",
       "    .dataframe tbody tr th:only-of-type {\n",
       "        vertical-align: middle;\n",
       "    }\n",
       "\n",
       "    .dataframe tbody tr th {\n",
       "        vertical-align: top;\n",
       "    }\n",
       "\n",
       "    .dataframe thead th {\n",
       "        text-align: right;\n",
       "    }\n",
       "</style>\n",
       "<table border=\"1\" class=\"dataframe\">\n",
       "  <thead>\n",
       "    <tr style=\"text-align: right;\">\n",
       "      <th></th>\n",
       "      <th>article_body</th>\n",
       "      <th>headline</th>\n",
       "      <th>stance</th>\n",
       "      <th>relation</th>\n",
       "    </tr>\n",
       "  </thead>\n",
       "  <tbody>\n",
       "    <tr>\n",
       "      <th>0</th>\n",
       "      <td>A small meteorite crashed into a wooded area i...</td>\n",
       "      <td>Soldier shot, Parliament locked down after gun...</td>\n",
       "      <td>unrelated</td>\n",
       "      <td>unrelated</td>\n",
       "    </tr>\n",
       "    <tr>\n",
       "      <th>1</th>\n",
       "      <td>A small meteorite crashed into a wooded area i...</td>\n",
       "      <td>Tourist dubbed ‘Spider Man’ after spider burro...</td>\n",
       "      <td>unrelated</td>\n",
       "      <td>unrelated</td>\n",
       "    </tr>\n",
       "    <tr>\n",
       "      <th>2</th>\n",
       "      <td>A small meteorite crashed into a wooded area i...</td>\n",
       "      <td>Luke Somers 'killed in failed rescue attempt i...</td>\n",
       "      <td>unrelated</td>\n",
       "      <td>unrelated</td>\n",
       "    </tr>\n",
       "    <tr>\n",
       "      <th>3</th>\n",
       "      <td>A small meteorite crashed into a wooded area i...</td>\n",
       "      <td>BREAKING: Soldier shot at War Memorial in Ottawa</td>\n",
       "      <td>unrelated</td>\n",
       "      <td>unrelated</td>\n",
       "    </tr>\n",
       "    <tr>\n",
       "      <th>4</th>\n",
       "      <td>A small meteorite crashed into a wooded area i...</td>\n",
       "      <td>Giant 8ft 9in catfish weighing 19 stone caught...</td>\n",
       "      <td>unrelated</td>\n",
       "      <td>unrelated</td>\n",
       "    </tr>\n",
       "    <tr>\n",
       "      <th>...</th>\n",
       "      <td>...</td>\n",
       "      <td>...</td>\n",
       "      <td>...</td>\n",
       "      <td>...</td>\n",
       "    </tr>\n",
       "    <tr>\n",
       "      <th>49967</th>\n",
       "      <td>ANN ARBOR, Mich. – A pizza delivery man in Mic...</td>\n",
       "      <td>Pizza delivery man gets tipped more than $2,00...</td>\n",
       "      <td>agree</td>\n",
       "      <td>related</td>\n",
       "    </tr>\n",
       "    <tr>\n",
       "      <th>49968</th>\n",
       "      <td>ANN ARBOR, Mich. – A pizza delivery man in Mic...</td>\n",
       "      <td>Pizza delivery man gets $2,000 tip</td>\n",
       "      <td>agree</td>\n",
       "      <td>related</td>\n",
       "    </tr>\n",
       "    <tr>\n",
       "      <th>49969</th>\n",
       "      <td>ANN ARBOR, Mich. – A pizza delivery man in Mic...</td>\n",
       "      <td>Luckiest Pizza Delivery Guy Ever Gets $2,000 Tip</td>\n",
       "      <td>agree</td>\n",
       "      <td>related</td>\n",
       "    </tr>\n",
       "    <tr>\n",
       "      <th>49970</th>\n",
       "      <td>ANN ARBOR, Mich. – A pizza delivery man in Mic...</td>\n",
       "      <td>Ann Arbor pizza delivery driver surprised with...</td>\n",
       "      <td>agree</td>\n",
       "      <td>related</td>\n",
       "    </tr>\n",
       "    <tr>\n",
       "      <th>49971</th>\n",
       "      <td>ANN ARBOR, Mich. – A pizza delivery man in Mic...</td>\n",
       "      <td>Ann Arbor pizza delivery driver surprised with...</td>\n",
       "      <td>agree</td>\n",
       "      <td>related</td>\n",
       "    </tr>\n",
       "  </tbody>\n",
       "</table>\n",
       "<p>49972 rows × 4 columns</p>\n",
       "</div>"
      ],
      "text/plain": [
       "                                            article_body  ...   relation\n",
       "0      A small meteorite crashed into a wooded area i...  ...  unrelated\n",
       "1      A small meteorite crashed into a wooded area i...  ...  unrelated\n",
       "2      A small meteorite crashed into a wooded area i...  ...  unrelated\n",
       "3      A small meteorite crashed into a wooded area i...  ...  unrelated\n",
       "4      A small meteorite crashed into a wooded area i...  ...  unrelated\n",
       "...                                                  ...  ...        ...\n",
       "49967  ANN ARBOR, Mich. – A pizza delivery man in Mic...  ...    related\n",
       "49968  ANN ARBOR, Mich. – A pizza delivery man in Mic...  ...    related\n",
       "49969  ANN ARBOR, Mich. – A pizza delivery man in Mic...  ...    related\n",
       "49970  ANN ARBOR, Mich. – A pizza delivery man in Mic...  ...    related\n",
       "49971  ANN ARBOR, Mich. – A pizza delivery man in Mic...  ...    related\n",
       "\n",
       "[49972 rows x 4 columns]"
      ]
     },
     "execution_count": 24,
     "metadata": {},
     "output_type": "execute_result"
    }
   ],
   "source": [
    "df = df.drop(columns=\"body_id\")\n",
    "df"
   ]
  },
  {
   "cell_type": "code",
   "execution_count": 25,
   "metadata": {},
   "outputs": [
    {
     "data": {
      "text/html": [
       "<div>\n",
       "<style scoped>\n",
       "    .dataframe tbody tr th:only-of-type {\n",
       "        vertical-align: middle;\n",
       "    }\n",
       "\n",
       "    .dataframe tbody tr th {\n",
       "        vertical-align: top;\n",
       "    }\n",
       "\n",
       "    .dataframe thead th {\n",
       "        text-align: right;\n",
       "    }\n",
       "</style>\n",
       "<table border=\"1\" class=\"dataframe\">\n",
       "  <thead>\n",
       "    <tr style=\"text-align: right;\">\n",
       "      <th></th>\n",
       "      <th>article_body</th>\n",
       "      <th>headline</th>\n",
       "    </tr>\n",
       "  </thead>\n",
       "  <tbody>\n",
       "    <tr>\n",
       "      <th>0</th>\n",
       "      <td>A small meteorite crashed into a wooded area i...</td>\n",
       "      <td>Soldier shot, Parliament locked down after gun...</td>\n",
       "    </tr>\n",
       "    <tr>\n",
       "      <th>1</th>\n",
       "      <td>A small meteorite crashed into a wooded area i...</td>\n",
       "      <td>Tourist dubbed ‘Spider Man’ after spider burro...</td>\n",
       "    </tr>\n",
       "    <tr>\n",
       "      <th>2</th>\n",
       "      <td>A small meteorite crashed into a wooded area i...</td>\n",
       "      <td>Luke Somers 'killed in failed rescue attempt i...</td>\n",
       "    </tr>\n",
       "    <tr>\n",
       "      <th>3</th>\n",
       "      <td>A small meteorite crashed into a wooded area i...</td>\n",
       "      <td>BREAKING: Soldier shot at War Memorial in Ottawa</td>\n",
       "    </tr>\n",
       "    <tr>\n",
       "      <th>4</th>\n",
       "      <td>A small meteorite crashed into a wooded area i...</td>\n",
       "      <td>Giant 8ft 9in catfish weighing 19 stone caught...</td>\n",
       "    </tr>\n",
       "    <tr>\n",
       "      <th>...</th>\n",
       "      <td>...</td>\n",
       "      <td>...</td>\n",
       "    </tr>\n",
       "    <tr>\n",
       "      <th>49967</th>\n",
       "      <td>ANN ARBOR, Mich. – A pizza delivery man in Mic...</td>\n",
       "      <td>Pizza delivery man gets tipped more than $2,00...</td>\n",
       "    </tr>\n",
       "    <tr>\n",
       "      <th>49968</th>\n",
       "      <td>ANN ARBOR, Mich. – A pizza delivery man in Mic...</td>\n",
       "      <td>Pizza delivery man gets $2,000 tip</td>\n",
       "    </tr>\n",
       "    <tr>\n",
       "      <th>49969</th>\n",
       "      <td>ANN ARBOR, Mich. – A pizza delivery man in Mic...</td>\n",
       "      <td>Luckiest Pizza Delivery Guy Ever Gets $2,000 Tip</td>\n",
       "    </tr>\n",
       "    <tr>\n",
       "      <th>49970</th>\n",
       "      <td>ANN ARBOR, Mich. – A pizza delivery man in Mic...</td>\n",
       "      <td>Ann Arbor pizza delivery driver surprised with...</td>\n",
       "    </tr>\n",
       "    <tr>\n",
       "      <th>49971</th>\n",
       "      <td>ANN ARBOR, Mich. – A pizza delivery man in Mic...</td>\n",
       "      <td>Ann Arbor pizza delivery driver surprised with...</td>\n",
       "    </tr>\n",
       "  </tbody>\n",
       "</table>\n",
       "<p>49972 rows × 2 columns</p>\n",
       "</div>"
      ],
      "text/plain": [
       "                                            article_body                                           headline\n",
       "0      A small meteorite crashed into a wooded area i...  Soldier shot, Parliament locked down after gun...\n",
       "1      A small meteorite crashed into a wooded area i...  Tourist dubbed ‘Spider Man’ after spider burro...\n",
       "2      A small meteorite crashed into a wooded area i...  Luke Somers 'killed in failed rescue attempt i...\n",
       "3      A small meteorite crashed into a wooded area i...   BREAKING: Soldier shot at War Memorial in Ottawa\n",
       "4      A small meteorite crashed into a wooded area i...  Giant 8ft 9in catfish weighing 19 stone caught...\n",
       "...                                                  ...                                                ...\n",
       "49967  ANN ARBOR, Mich. – A pizza delivery man in Mic...  Pizza delivery man gets tipped more than $2,00...\n",
       "49968  ANN ARBOR, Mich. – A pizza delivery man in Mic...                 Pizza delivery man gets $2,000 tip\n",
       "49969  ANN ARBOR, Mich. – A pizza delivery man in Mic...   Luckiest Pizza Delivery Guy Ever Gets $2,000 Tip\n",
       "49970  ANN ARBOR, Mich. – A pizza delivery man in Mic...  Ann Arbor pizza delivery driver surprised with...\n",
       "49971  ANN ARBOR, Mich. – A pizza delivery man in Mic...  Ann Arbor pizza delivery driver surprised with...\n",
       "\n",
       "[49972 rows x 2 columns]"
      ]
     },
     "execution_count": 25,
     "metadata": {},
     "output_type": "execute_result"
    }
   ],
   "source": [
    "X, y = df[[\"article_body\", \"headline\"]], df[[\"stance\", \"relation\"]]\n",
    "X"
   ]
  },
  {
   "cell_type": "code",
<<<<<<< HEAD
   "execution_count": 26,
=======
   "execution_count": 25,
>>>>>>> 08f785dc4e9d2582dfe7b8b6b7863df5a5b25a9b
   "metadata": {},
   "outputs": [
    {
     "data": {
      "text/html": [
       "<div>\n",
       "<style scoped>\n",
       "    .dataframe tbody tr th:only-of-type {\n",
       "        vertical-align: middle;\n",
       "    }\n",
       "\n",
       "    .dataframe tbody tr th {\n",
       "        vertical-align: top;\n",
       "    }\n",
       "\n",
       "    .dataframe thead th {\n",
       "        text-align: right;\n",
       "    }\n",
       "</style>\n",
       "<table border=\"1\" class=\"dataframe\">\n",
       "  <thead>\n",
       "    <tr style=\"text-align: right;\">\n",
       "      <th></th>\n",
       "      <th>stance</th>\n",
       "      <th>relation</th>\n",
       "    </tr>\n",
       "  </thead>\n",
       "  <tbody>\n",
       "    <tr>\n",
       "      <th>0</th>\n",
       "      <td>unrelated</td>\n",
       "      <td>unrelated</td>\n",
       "    </tr>\n",
       "    <tr>\n",
       "      <th>1</th>\n",
       "      <td>unrelated</td>\n",
       "      <td>unrelated</td>\n",
       "    </tr>\n",
       "    <tr>\n",
       "      <th>2</th>\n",
       "      <td>unrelated</td>\n",
       "      <td>unrelated</td>\n",
       "    </tr>\n",
       "    <tr>\n",
       "      <th>3</th>\n",
       "      <td>unrelated</td>\n",
       "      <td>unrelated</td>\n",
       "    </tr>\n",
       "    <tr>\n",
       "      <th>4</th>\n",
       "      <td>unrelated</td>\n",
       "      <td>unrelated</td>\n",
       "    </tr>\n",
       "    <tr>\n",
       "      <th>...</th>\n",
       "      <td>...</td>\n",
       "      <td>...</td>\n",
       "    </tr>\n",
       "    <tr>\n",
       "      <th>49967</th>\n",
       "      <td>agree</td>\n",
       "      <td>related</td>\n",
       "    </tr>\n",
       "    <tr>\n",
       "      <th>49968</th>\n",
       "      <td>agree</td>\n",
       "      <td>related</td>\n",
       "    </tr>\n",
       "    <tr>\n",
       "      <th>49969</th>\n",
       "      <td>agree</td>\n",
       "      <td>related</td>\n",
       "    </tr>\n",
       "    <tr>\n",
       "      <th>49970</th>\n",
       "      <td>agree</td>\n",
       "      <td>related</td>\n",
       "    </tr>\n",
       "    <tr>\n",
       "      <th>49971</th>\n",
       "      <td>agree</td>\n",
       "      <td>related</td>\n",
       "    </tr>\n",
       "  </tbody>\n",
       "</table>\n",
       "<p>49972 rows × 2 columns</p>\n",
       "</div>"
      ],
      "text/plain": [
       "          stance   relation\n",
       "0      unrelated  unrelated\n",
       "1      unrelated  unrelated\n",
       "2      unrelated  unrelated\n",
       "3      unrelated  unrelated\n",
       "4      unrelated  unrelated\n",
       "...          ...        ...\n",
       "49967      agree    related\n",
       "49968      agree    related\n",
       "49969      agree    related\n",
       "49970      agree    related\n",
       "49971      agree    related\n",
       "\n",
       "[49972 rows x 2 columns]"
      ]
     },
<<<<<<< HEAD
     "execution_count": 26,
=======
     "execution_count": 25,
>>>>>>> 08f785dc4e9d2582dfe7b8b6b7863df5a5b25a9b
     "metadata": {},
     "output_type": "execute_result"
    }
   ],
   "source": [
    "y"
   ]
  },
  {
   "cell_type": "code",
<<<<<<< HEAD
   "execution_count": 27,
=======
   "execution_count": 26,
>>>>>>> 08f785dc4e9d2582dfe7b8b6b7863df5a5b25a9b
   "metadata": {},
   "outputs": [],
   "source": [
    "X_train, X_test, y_train, y_test = train_test_split(X, y, test_size = 0.2)"
   ]
  },
  {
   "cell_type": "code",
<<<<<<< HEAD
   "execution_count": 83,
=======
   "execution_count": 27,
   "metadata": {},
   "outputs": [
    {
     "data": {
      "text/plain": [
       "(39977, 2)"
      ]
     },
     "execution_count": 27,
     "metadata": {},
     "output_type": "execute_result"
    }
   ],
   "source": [
    "y_train.shape"
   ]
  },
  {
   "cell_type": "code",
   "execution_count": 28,
>>>>>>> 08f785dc4e9d2582dfe7b8b6b7863df5a5b25a9b
   "metadata": {},
   "outputs": [
    {
     "data": {
      "text/plain": [
<<<<<<< HEAD
       "((39977, 2), (9995, 2))"
      ]
     },
     "execution_count": 83,
=======
       "(9995, 2)"
      ]
     },
     "execution_count": 28,
>>>>>>> 08f785dc4e9d2582dfe7b8b6b7863df5a5b25a9b
     "metadata": {},
     "output_type": "execute_result"
    }
   ],
   "source": [
<<<<<<< HEAD
    "y_train.shape, y_test.shape"
=======
    "y_test.shape"
>>>>>>> 08f785dc4e9d2582dfe7b8b6b7863df5a5b25a9b
   ]
  },
  {
   "cell_type": "code",
<<<<<<< HEAD
   "execution_count": 30,
=======
   "execution_count": 29,
>>>>>>> 08f785dc4e9d2582dfe7b8b6b7863df5a5b25a9b
   "metadata": {},
   "outputs": [
    {
     "data": {
      "text/html": [
       "<div>\n",
       "<style scoped>\n",
       "    .dataframe tbody tr th:only-of-type {\n",
       "        vertical-align: middle;\n",
       "    }\n",
       "\n",
       "    .dataframe tbody tr th {\n",
       "        vertical-align: top;\n",
       "    }\n",
       "\n",
       "    .dataframe thead th {\n",
       "        text-align: right;\n",
       "    }\n",
       "</style>\n",
       "<table border=\"1\" class=\"dataframe\">\n",
       "  <thead>\n",
       "    <tr style=\"text-align: right;\">\n",
       "      <th></th>\n",
       "      <th>stance</th>\n",
       "      <th>relation</th>\n",
       "    </tr>\n",
       "  </thead>\n",
       "  <tbody>\n",
       "    <tr>\n",
<<<<<<< HEAD
       "      <th>32196</th>\n",
       "      <td>discuss</td>\n",
       "      <td>related</td>\n",
       "    </tr>\n",
       "    <tr>\n",
       "      <th>42226</th>\n",
       "      <td>unrelated</td>\n",
       "      <td>unrelated</td>\n",
       "    </tr>\n",
       "    <tr>\n",
       "      <th>45726</th>\n",
=======
       "      <th>28461</th>\n",
       "      <td>unrelated</td>\n",
       "      <td>unrelated</td>\n",
       "    </tr>\n",
       "    <tr>\n",
       "      <th>48602</th>\n",
       "      <td>agree</td>\n",
       "      <td>related</td>\n",
       "    </tr>\n",
       "    <tr>\n",
       "      <th>7440</th>\n",
>>>>>>> 08f785dc4e9d2582dfe7b8b6b7863df5a5b25a9b
       "      <td>unrelated</td>\n",
       "      <td>unrelated</td>\n",
       "    </tr>\n",
       "    <tr>\n",
<<<<<<< HEAD
       "      <th>44791</th>\n",
=======
       "      <th>24585</th>\n",
>>>>>>> 08f785dc4e9d2582dfe7b8b6b7863df5a5b25a9b
       "      <td>unrelated</td>\n",
       "      <td>unrelated</td>\n",
       "    </tr>\n",
       "    <tr>\n",
<<<<<<< HEAD
       "      <th>29751</th>\n",
=======
       "      <th>49698</th>\n",
>>>>>>> 08f785dc4e9d2582dfe7b8b6b7863df5a5b25a9b
       "      <td>unrelated</td>\n",
       "      <td>unrelated</td>\n",
       "    </tr>\n",
       "    <tr>\n",
       "      <th>...</th>\n",
       "      <td>...</td>\n",
       "      <td>...</td>\n",
       "    </tr>\n",
       "    <tr>\n",
<<<<<<< HEAD
       "      <th>2760</th>\n",
=======
       "      <th>10309</th>\n",
>>>>>>> 08f785dc4e9d2582dfe7b8b6b7863df5a5b25a9b
       "      <td>unrelated</td>\n",
       "      <td>unrelated</td>\n",
       "    </tr>\n",
       "    <tr>\n",
<<<<<<< HEAD
       "      <th>49091</th>\n",
=======
       "      <th>9630</th>\n",
>>>>>>> 08f785dc4e9d2582dfe7b8b6b7863df5a5b25a9b
       "      <td>unrelated</td>\n",
       "      <td>unrelated</td>\n",
       "    </tr>\n",
       "    <tr>\n",
<<<<<<< HEAD
       "      <th>7408</th>\n",
=======
       "      <th>22572</th>\n",
>>>>>>> 08f785dc4e9d2582dfe7b8b6b7863df5a5b25a9b
       "      <td>unrelated</td>\n",
       "      <td>unrelated</td>\n",
       "    </tr>\n",
       "    <tr>\n",
<<<<<<< HEAD
       "      <th>37429</th>\n",
       "      <td>disagree</td>\n",
       "      <td>related</td>\n",
       "    </tr>\n",
       "    <tr>\n",
       "      <th>10078</th>\n",
       "      <td>discuss</td>\n",
       "      <td>related</td>\n",
=======
       "      <th>4823</th>\n",
       "      <td>unrelated</td>\n",
       "      <td>unrelated</td>\n",
       "    </tr>\n",
       "    <tr>\n",
       "      <th>491</th>\n",
       "      <td>unrelated</td>\n",
       "      <td>unrelated</td>\n",
>>>>>>> 08f785dc4e9d2582dfe7b8b6b7863df5a5b25a9b
       "    </tr>\n",
       "  </tbody>\n",
       "</table>\n",
       "<p>39977 rows × 2 columns</p>\n",
       "</div>"
      ],
      "text/plain": [
       "          stance   relation\n",
<<<<<<< HEAD
       "32196    discuss    related\n",
       "42226  unrelated  unrelated\n",
       "45726  unrelated  unrelated\n",
       "44791  unrelated  unrelated\n",
       "29751  unrelated  unrelated\n",
       "...          ...        ...\n",
       "2760   unrelated  unrelated\n",
       "49091  unrelated  unrelated\n",
       "7408   unrelated  unrelated\n",
       "37429   disagree    related\n",
       "10078    discuss    related\n",
=======
       "28461  unrelated  unrelated\n",
       "48602      agree    related\n",
       "7440   unrelated  unrelated\n",
       "24585  unrelated  unrelated\n",
       "49698  unrelated  unrelated\n",
       "...          ...        ...\n",
       "10309  unrelated  unrelated\n",
       "9630   unrelated  unrelated\n",
       "22572  unrelated  unrelated\n",
       "4823   unrelated  unrelated\n",
       "491    unrelated  unrelated\n",
>>>>>>> 08f785dc4e9d2582dfe7b8b6b7863df5a5b25a9b
       "\n",
       "[39977 rows x 2 columns]"
      ]
     },
<<<<<<< HEAD
     "execution_count": 30,
=======
     "execution_count": 29,
>>>>>>> 08f785dc4e9d2582dfe7b8b6b7863df5a5b25a9b
     "metadata": {},
     "output_type": "execute_result"
    }
   ],
   "source": [
    "y_train"
   ]
  },
  {
   "cell_type": "code",
<<<<<<< HEAD
=======
   "execution_count": 30,
   "metadata": {},
   "outputs": [],
   "source": [
    "from sklearn.preprocessing import LabelEncoder"
   ]
  },
  {
   "cell_type": "code",
>>>>>>> 08f785dc4e9d2582dfe7b8b6b7863df5a5b25a9b
   "execution_count": 31,
   "metadata": {},
   "outputs": [
    {
     "data": {
      "text/plain": [
       "array(['agree', 'disagree', 'discuss'], dtype=object)"
      ]
     },
     "execution_count": 31,
     "metadata": {},
     "output_type": "execute_result"
    }
   ],
   "source": [
    "y_train_rel = np.array(y_train[\"relation\"])\n",
    "y_train_rel = np.where(y_train_rel == \"related\", 1, 0)\n",
    "\n",
    "y_test_rel = np.array(y_test[\"relation\"])\n",
    "y_test_rel = np.where(y_test_rel == \"related\", 1, 0)\n",
    "\n",
    "y_train_cls = y_train[\"stance\"] != \"unrelated\"\n",
    "y_test_cls = y_test[\"stance\"] != \"unrelated\"\n",
    "\n",
    "y_train_cls_indices = y_train_cls[y_train_cls].index\n",
    "y_test_cls_indices = y_test_cls[y_test_cls].index\n",
    "\n",
    "y_train_cls = np.array(y_train.loc[y_train_cls].drop(columns=[\"relation\"])).ravel()\n",
    "y_test_cls = np.array(y_test.loc[y_test_cls].drop(columns=[\"relation\"])).ravel()\n",
    "\n",
    "label_encoder = LabelEncoder()\n",
    "y_train_cls = label_encoder.fit_transform(y_train_cls)\n",
    "y_test_cls = label_encoder.fit_transform(y_test_cls)\n",
    "cls_labels = label_encoder.classes_\n",
    "cls_labels"
   ]
  },
  {
   "cell_type": "code",
   "execution_count": 32,
   "metadata": {},
   "outputs": [],
   "source": [
    "X_train_cls = X_train.loc[y_train_cls_indices]\n",
    "X_test_cls = X_test.loc[y_test_cls_indices]"
   ]
  },
  {
   "cell_type": "code",
   "execution_count": 33,
   "metadata": {},
   "outputs": [],
   "source": [
    "class TFIDFTransform:\n",
    "    def __init__(self, headline_vectorizer, body_vectorizer):\n",
    "        self._headline_vectorizer = headline_vectorizer\n",
    "        self._body_vectorizer = body_vectorizer\n",
    "\n",
    "\n",
    "    def fit_transform(self, df):\n",
    "        headline, body = df[\"headline\"], df[\"article_body\"]\n",
    "\n",
    "        X_headline = self._headline_vectorizer.fit_transform(headline)\n",
    "        X_body = self._body_vectorizer.fit_transform(body)\n",
    "\n",
    "        X = hstack((X_headline, X_body))\n",
    "        return X\n",
    "\n",
    "    def transform(self, df):\n",
    "        headline, body = df[\"headline\"], df[\"article_body\"]\n",
    "\n",
    "        X_headline = self._headline_vectorizer.transform(headline)\n",
    "        X_body = self._body_vectorizer.transform(body)\n",
    "\n",
    "        X = hstack((X_headline, X_body))\n",
    "        return X"
   ]
  },
  {
   "cell_type": "code",
   "execution_count": 34,
   "metadata": {},
   "outputs": [],
   "source": [
    "headline_vectorizer = TfidfVectorizer(analyzer=\"word\", stop_words=\"english\", lowercase=True, token_pattern=r\"\\w+\")\n",
    "body_vectorizer = TfidfVectorizer(analyzer=\"word\", stop_words=\"english\", lowercase=True, token_pattern=r\"\\w+\")\n",
    "\n",
    "tfidf_transform = TFIDFTransform(headline_vectorizer=headline_vectorizer, body_vectorizer=body_vectorizer)"
   ]
  },
  {
   "cell_type": "code",
   "execution_count": 35,
   "metadata": {},
   "outputs": [],
   "source": [
    "X_train_rel_vec = tfidf_transform.fit_transform(X_train)\n",
    "X_train_cls_vec = tfidf_transform.transform(X_train_cls)\n",
    "X_test_rel_vec = tfidf_transform.transform(X_test)\n",
    "X_test_cls_vec = tfidf_transform.transform(X_test_cls)"
   ]
  },
  {
   "cell_type": "code",
   "execution_count": 36,
   "metadata": {},
   "outputs": [
    {
     "data": {
      "text/plain": [
<<<<<<< HEAD
       "(39977, 26001)"
=======
       "(39977, 25960)"
>>>>>>> 08f785dc4e9d2582dfe7b8b6b7863df5a5b25a9b
      ]
     },
     "execution_count": 36,
     "metadata": {},
     "output_type": "execute_result"
    }
   ],
   "source": [
    "X_train_rel_vec.shape"
   ]
  },
  {
   "cell_type": "code",
   "execution_count": 37,
   "metadata": {},
   "outputs": [
    {
     "data": {
      "text/plain": [
<<<<<<< HEAD
       "(9995, 26001)"
=======
       "(9995, 25960)"
>>>>>>> 08f785dc4e9d2582dfe7b8b6b7863df5a5b25a9b
      ]
     },
     "execution_count": 37,
     "metadata": {},
     "output_type": "execute_result"
    }
   ],
   "source": [
    "X_test_rel_vec.shape"
   ]
  },
  {
   "cell_type": "code",
   "execution_count": 38,
   "metadata": {},
   "outputs": [],
   "source": [
    "D_train_rel = xgb.DMatrix(X_train_rel_vec, label=y_train_rel)\n",
    "D_test_rel = xgb.DMatrix(X_test_rel_vec, label=y_test_rel)\n",
    "\n",
    "D_train_cls = xgb.DMatrix(X_train_cls_vec, label=y_train_cls)\n",
    "D_test_cls = xgb.DMatrix(X_test_cls_vec, label=y_test_cls)"
   ]
  },
  {
   "cell_type": "code",
   "execution_count": 39,
   "metadata": {},
   "outputs": [
    {
     "data": {
      "text/plain": [
       "(10769,)"
      ]
     },
     "execution_count": 39,
     "metadata": {},
     "output_type": "execute_result"
    }
   ],
   "source": [
<<<<<<< HEAD
    "y_train_cls.shape"
   ]
  },
  {
   "cell_type": "code",
   "execution_count": 40,
   "metadata": {},
   "outputs": [
    {
     "data": {
      "text/plain": [
       "(39977,)"
      ]
     },
     "execution_count": 40,
     "metadata": {},
     "output_type": "execute_result"
    }
   ],
   "source": [
    "y_train_rel.shape"
=======
    "D_train_rel = xgb.DMatrix(X_train_rel_vec, label=y_train_rel)\n",
    "D_test_rel = xgb.DMatrix(X_test_rel_vec, label=y_test_rel)\n",
    "\n",
    "D_train_cls = xgb.DMatrix(X_train_cls_vec, label=y_train_cls)\n",
    "D_test_cls = xgb.DMatrix(X_test_cls_vec, label=y_test_cls)"
>>>>>>> 08f785dc4e9d2582dfe7b8b6b7863df5a5b25a9b
   ]
  },
  {
   "cell_type": "code",
<<<<<<< HEAD
   "execution_count": 76,
=======
   "execution_count": 40,
>>>>>>> 08f785dc4e9d2582dfe7b8b6b7863df5a5b25a9b
   "metadata": {},
   "outputs": [
    {
     "data": {
      "text/plain": [
       "(10688,)"
      ]
     },
     "execution_count": 40,
     "metadata": {},
     "output_type": "execute_result"
    }
   ],
   "source": [
<<<<<<< HEAD
    "def print_metrics(y_true: np.ndarray | List[int], y_pred: np.ndarray | List[int], average: str=\"binary\") -> None:\n",
    "    print(\"Precision = {}\".format(precision_score(y_true, y_pred, average=average)))\n",
    "    print(\"Recall = {}\".format(recall_score(y_true, y_pred, average=average)))\n",
    "    print(\"Accuracy = {}\".format(accuracy_score(y_true, y_pred)))\n",
    "    print(\"Balanced accuracy = {}\".format(balanced_accuracy_score(y_true, y_pred)))\n",
    "\n",
    "def plot_cm(y_true: np.ndarray | List[int], y_pred: np.ndarray | List[int], labels: List[str]) -> None:\n",
    "    cm = confusion_matrix(y_true, y_pred)\n",
    "    disp = ConfusionMatrixDisplay(cm, display_labels=labels)\n",
    "    disp.plot()"
=======
    "y_train_cls.shape"
>>>>>>> 08f785dc4e9d2582dfe7b8b6b7863df5a5b25a9b
   ]
  },
  {
   "cell_type": "code",
<<<<<<< HEAD
   "execution_count": 68,
=======
   "execution_count": 41,
   "metadata": {},
   "outputs": [
    {
     "data": {
      "text/plain": [
       "(39977,)"
      ]
     },
     "execution_count": 41,
     "metadata": {},
     "output_type": "execute_result"
    }
   ],
   "source": [
    "y_train_rel.shape"
   ]
  },
  {
   "cell_type": "code",
   "execution_count": 42,
>>>>>>> 08f785dc4e9d2582dfe7b8b6b7863df5a5b25a9b
   "metadata": {},
   "outputs": [],
   "source": [
    "param = {\n",
    "    'eta': 0.3, \n",
    "    'max_depth': 12\n",
    "    } \n",
    "\n",
    "steps = 100  # The number of training iterations"
   ]
  },
  {
   "cell_type": "code",
<<<<<<< HEAD
   "execution_count": 69,
=======
   "execution_count": 43,
>>>>>>> 08f785dc4e9d2582dfe7b8b6b7863df5a5b25a9b
   "metadata": {},
   "outputs": [],
   "source": [
    "rel_classifier = xgb.train(param, D_train_rel, steps)"
   ]
  },
  {
   "cell_type": "code",
<<<<<<< HEAD
   "execution_count": 74,
=======
   "execution_count": 44,
>>>>>>> 08f785dc4e9d2582dfe7b8b6b7863df5a5b25a9b
   "metadata": {},
   "outputs": [
    {
     "name": "stdout",
     "output_type": "stream",
     "text": [
<<<<<<< HEAD
      "Precision = 0.9844961240310077\n",
      "Recall = 0.9078254326561325\n",
      "Accuracy = 0.9716858429214608\n",
      "Balanced accuracy = 0.951323102044299\n"
=======
      "Precision = 0.9768798553906102\n",
      "Recall = 0.9462304464927969\n",
      "Accuracy = 0.9692846423211606\n",
      "Balanced accuracy = 0.9462304464927969\n"
>>>>>>> 08f785dc4e9d2582dfe7b8b6b7863df5a5b25a9b
     ]
    }
   ],
   "source": [
    "rel_pred = rel_classifier.predict(D_test_rel)\n",
    "rel_pred = np.where(rel_pred < 0.5, 0, 1)\n",
    "\n",
<<<<<<< HEAD
    "print_metrics(y_test_rel, rel_pred)"
=======
    "preds = model.predict(D_test_rel)\n",
    "best_preds = np.where(preds < 0.5, 0, 1)\n",
    "\n",
    "print(\"Precision = {}\".format(precision_score(y_test_rel, best_preds, average='macro')))\n",
    "print(\"Recall = {}\".format(recall_score(y_test_rel, best_preds, average='macro')))\n",
    "print(\"Accuracy = {}\".format(accuracy_score(y_test_rel, best_preds)))\n",
    "print(\"Balanced accuracy = {}\".format(balanced_accuracy_score(y_test_rel, best_preds)))"
>>>>>>> 08f785dc4e9d2582dfe7b8b6b7863df5a5b25a9b
   ]
  },
  {
   "cell_type": "code",
<<<<<<< HEAD
   "execution_count": 78,
=======
   "execution_count": 45,
>>>>>>> 08f785dc4e9d2582dfe7b8b6b7863df5a5b25a9b
   "metadata": {},
   "outputs": [
    {
     "data": {
      "image/png": "iVBORw0KGgoAAAANSUhEUgAAAj0AAAGwCAYAAABCV9SaAAAAOXRFWHRTb2Z0d2FyZQBNYXRwbG90bGliIHZlcnNpb24zLjUuMywgaHR0cHM6Ly9tYXRwbG90bGliLm9yZy/NK7nSAAAACXBIWXMAAA9hAAAPYQGoP6dpAABRBUlEQVR4nO3deVhUZfsH8O+wzLDOICqbImJuULhh6bxpLhloZJqWP80FU/O1sARzLTWXEtNM0RYqTbS0cikzyAUXcENTDHdxw0AFNBVGUBiYOb8/eDk5wijDgOCZ7+e6zhVzznOecx+acW6e7cgEQRBAREREJHFWNR0AERER0aPApIeIiIgsApMeIiIisghMeoiIiMgiMOkhIiIii8Ckh4iIiCwCkx4iIiKyCDY1HQA9nF6vx9WrV+Hs7AyZTFbT4RARkYkEQcDt27fh5eUFK6vqa28oKCiAVqs1ux65XA47O7sqiKh2YdLzGLh69Sq8vb1rOgwiIjJTRkYGGjZsWC11FxQUwNfHCVnXdGbX5eHhgbS0NMklPkx6HgPOzs4AgL+PNIbSiT2SJE2vNA+o6RCIqk0xirAXf4j/nlcHrVaLrGs6/J3cGErnyn9XaG7r4RN4CVqtlkkPPXqlXVpKJyuz3shEtZmNzLamQyCqPv974NOjGKLg5CyDk3Plr6OHdIdRMOkhIiKSEJ2gh86Mp2rqBH3VBVPLMOkhIiKSED0E6FH5rMecc2s79pUQERGRRWBLDxERkYTooYc5HVTmnV27MekhIiKSEJ0gQCdUvovKnHNrO3ZvERERkUVgSw8REZGEcCCzcUx6iIiIJEQPATomPeVi9xYRERFZBCY9REREElLavWXOZorGjRtDJpOV2cLCwgCUPBMsLCwMdevWhZOTE/r374/s7GyDOtLT0xESEgIHBwe4ublh4sSJKC4uNiiTkJCAdu3aQaFQoGnTpoiJiTH5d8Okh4iISEJKZ2+Zs5ni0KFDyMzMFLf4+HgAwGuvvQYAiIiIwO+//45169YhMTERV69eRb9+/f6NV6dDSEgItFot9u/fj5UrVyImJgYzZswQy6SlpSEkJATdunVDSkoKwsPDMWrUKGzdutWkWGWCIOG5aRKh0WigUqlw62wTPnuLJCvYq01Nh0BUbYqFIiTgN+Tm5kKpVFbLNUq/K86edoezGd8Vt2/r0dwvGxkZGQaxKhQKKBSKh54fHh6O2NhYnDt3DhqNBvXr18eaNWvw6quvAgDOnDkDPz8/JCUloWPHjti8eTNeeuklXL16Fe7u7gCA6OhoTJ48GdevX4dcLsfkyZMRFxeHEydOiNcZOHAgcnJysGXLlgrfG79BiYiIJERfBRsAeHt7Q6VSiVtkZORDr63VavHDDz9gxIgRkMlkSE5ORlFREXr06CGWadmyJRo1aoSkpCQAQFJSEgICAsSEBwCCg4Oh0Whw8uRJscy9dZSWKa2jojh7i4iISEJ0Zs7eKj23vJaeh9m4cSNycnIwfPhwAEBWVhbkcjlcXFwMyrm7uyMrK0ssc2/CU3q89NiDymg0Gty9exf29vYVujcmPURERBKiE2DmU9ZL/qtUKk3uilu+fDl69eoFLy+vygdQjdi9RURERGb7+++/sX37dowaNUrc5+HhAa1Wi5ycHIOy2dnZ8PDwEMvcP5ur9PXDyiiVygq38gBMeoiIiCSlqsb0mGrFihVwc3NDSEiIuC8wMBC2trbYsWOHuC81NRXp6elQq9UAALVajePHj+PatWtimfj4eCiVSvj7+4tl7q2jtExpHRXF7i0iIiIJ0UMGHWRmnW/yOXo9VqxYgdDQUNjY/JtaqFQqjBw5EuPHj4erqyuUSiXeeecdqNVqdOzYEQAQFBQEf39/DB06FPPnz0dWVhamTZuGsLAwcRzRmDFj8Pnnn2PSpEkYMWIEdu7cibVr1yIuLs6kOJn0EBERkVm2b9+O9PR0jBgxosyxRYsWwcrKCv3790dhYSGCg4Px5Zdfisetra0RGxuLt956C2q1Go6OjggNDcXs2bPFMr6+voiLi0NERASioqLQsGFDLFu2DMHBwSbFyXV6HgNcp4csAdfpISl7lOv0HD7pDiczvivybuvR/snsao21prClh4iISEJ0ZnZvmXNubcdmAyIiIrIIbOkhIiKSELb0GMekh4iISEL0ggx6wYzZW2acW9uxe4uIiIgsAlt6iIiIJITdW8Yx6SEiIpIQHaygM6MjR1eFsdQ2THqIiIgkRDBzTI/AMT1EREREjze29BAREUkIx/QYx6SHiIhIQnSCFXSCGWN6JPxwKnZvERERkUVgSw8REZGE6CGD3ow2DT2k29TDpIeIiEhCOKbHOHZvERERkUVgSw8REZGEmD+Qmd1bRERE9BgoGdNjxgNH2b1FRERE9HhjSw8REZGE6M189hZnbxEREdFjgWN6jGPSQ0REJCF6WHGdHiM4poeIiIgsAlt6iIiIJEQnyKATzFic0IxzazsmPURERBKiM3Mgs47dW0RERESPN7b0EBERSYhesILejNlbes7eIiIioscBu7eMY/cWERERWQS29BAREUmIHubNwNJXXSi1DpMeIiIiCTF/cULpdgJJ986IiIiI7sGWHiIiIgkx/9lb0m0PYdJDREQkIXrIoIc5Y3q4IjMRERE9BtjSY5x074yIiIjoHmzpISIikhDzFyeUbnsIkx4iIiIJ0Qsy6M1Zp0fCT1mXbjpHREREdA+29BAREUmI3szuLSkvTsikh4iISELMf8q6dJMe6d4ZERERPRJXrlzBkCFDULduXdjb2yMgIACHDx8WjwuCgBkzZsDT0xP29vbo0aMHzp07Z1DHzZs3MXjwYCiVSri4uGDkyJHIy8szKHPs2DF07twZdnZ28Pb2xvz5802Kk0kPERGRhOggM3szxa1bt/Dss8/C1tYWmzdvxqlTp7Bw4ULUqVNHLDN//nwsWbIE0dHROHjwIBwdHREcHIyCggKxzODBg3Hy5EnEx8cjNjYWu3fvxujRo8XjGo0GQUFB8PHxQXJyMhYsWICZM2fim2++qXCs7N4iIiKSkKrq3tJoNAb7FQoFFApFmfKffPIJvL29sWLFCnGfr6+v+LMgCFi8eDGmTZuGPn36AABWrVoFd3d3bNy4EQMHDsTp06exZcsWHDp0CO3btwcALF26FC+++CI+/fRTeHl5YfXq1dBqtfjuu+8gl8vx5JNPIiUlBZ999plBcvQgbOkhIiKiMry9vaFSqcQtMjKy3HKbNm1C+/bt8dprr8HNzQ1t27bFt99+Kx5PS0tDVlYWevToIe5TqVTo0KEDkpKSAABJSUlwcXEREx4A6NGjB6ysrHDw4EGxzHPPPQe5XC6WCQ4ORmpqKm7dulWhe2JLDxERkYToAJO7qO4/HwAyMjKgVCrF/eW18gDAxYsX8dVXX2H8+PF4//33cejQIbz77ruQy+UIDQ1FVlYWAMDd3d3gPHd3d/FYVlYW3NzcDI7b2NjA1dXVoMy9LUj31pmVlWXQnWYMkx4iIiIJqaruLaVSaZD0GC2v16N9+/aYO3cuAKBt27Y4ceIEoqOjERoaWuk4qgO7t4iIiCSk9IGj5mym8PT0hL+/v8E+Pz8/pKenAwA8PDwAANnZ2QZlsrOzxWMeHh64du2awfHi4mLcvHnToEx5ddx7jYdh0kNERESV9uyzzyI1NdVg39mzZ+Hj4wOgZFCzh4cHduzYIR7XaDQ4ePAg1Go1AECtViMnJwfJyclimZ07d0Kv16NDhw5imd27d6OoqEgsEx8fjxYtWlSoawtg0kNERCQpAmTQm7EJJo4HioiIwIEDBzB37lycP38ea9aswTfffIOwsDAAgEwmQ3h4OD766CNs2rQJx48fx7Bhw+Dl5YW+ffsCKGkZ6tmzJ9588038+eef2LdvH8aOHYuBAwfCy8sLAPD6669DLpdj5MiROHnyJH7++WdERUVh/PjxFY6VY3qIiIgkpDJdVPefb4qnn34av/76K6ZOnYrZs2fD19cXixcvxuDBg8UykyZNQn5+PkaPHo2cnBx06tQJW7ZsgZ2dnVhm9erVGDt2LJ5//nlYWVmhf//+WLJkiXhcpVJh27ZtCAsLQ2BgIOrVq4cZM2ZUeLo6AMgEQRBMujt65DQaDVQqFW6dbQKlMxvnSJqCvdrUdAhE1aZYKEICfkNubm6FBgdXRul3xcT9IVA42Va6nsK8Iiz4T1y1xlpT2NJDREQkIXpBBr1Q+Snr5pxb2zHpISIikhCdmU9ZN+fc2k66d0ZERER0D7b0EBERSQi7t4xj0kNERCQhelhBb0ZHjjnn1nbSvTMiIiKie7Clh4iISEJ0ggw6M7qozDm3tmPSQ0REJCEc02Mckx4iIiIJEcx8yrpgxrm1nXTvjIiIiOgebOkhIiKSEB1k0Jn40ND7z5cqJj1EREQSohfMG5ejl/ATOdm9RURERBaBLT0kScOe8Uf2ZXmZ/b1Dr2PYpCx8/6kHjiQ649pVOVSuxfhPz1yETsqEo1Ivlv1rjxNWzvfEpTN2sHPQo8drN/HGlExY3/OpSdzkgp+WuOPKRQVUdYvx8hvX8drb1x/FLRI91EvD/kHIsBtw99YCAP5OtcPqRe44vKvkydl16hdh1PRMtHvuNhyc9Mi4oMBPUW7Y+4dLDUZN5tKbOZDZnHNrO4tMehISEtCtWzfcunULLi4uj/z6Xbt2RZs2bbB48eJHfm1LsWRzKvS6f5t3L52xw9SBTdG5dy5uZtviRrYt3pxxFY2aF+DaZTmWTGmIG9m2mP7tJQDAhZN2mD60CQa+m42JS/7GjSxbLJnsDb1OhtEfXgUAHNrpjE/G+uDtjy4jsMttpJ+zw+KJ3pDbCegz4p+auG0iA9czbfHdXE9cSVNAJgNeeO0mZq64hLCg5vj7rB0mLkmHk1KHmcN9kXvTGt1eycH7X/+Nd3rJceGEQ02HT5Wkhwx6M8blmHNubSfddK6Kde3aFeHh4TUdBlWQS10dXN2Kxe3gdhU8GxeilToPjVsWYMayS+gYpIFXYy3adMrD8MmZOBivhK645PzETXXg61eAIeOz0cBXi1bqfIyadhW/r6yHO3klH5vt613xn565eGnYDXj6aNGhhwYDx2Zj7RduECTcJ06Pj4PxKhzaqcTVNAWuXFQg5hNPFORboWVgPgDAv/0d/PZdPaSmOCArXYEfo9yRn2uNZq3u1nDkRNVDUkmPIAgoLi6u6TColinSyrBzQx0ED7wBmZE/YPI11nBw0otdV0VaGWwVeoMycjs9tAVWOHfMQSwjL6fMP5nycrvWiGqSlZWALn1uQeGgx+nDjgCAU4cd0OXlHDi7FEMmKzkutxNwbL9TDUdL5ihdkdmcTapqNOlp3LhxmS6eNm3aYObMmQAAmUyGZcuW4ZVXXoGDgwOaNWuGTZs2iWUTEhIgk8mwefNmBAYGQqFQYO/evdDr9YiMjISvry/s7e3RunVrrF+/3mgcN27cwKBBg9CgQQM4ODggICAAP/74o3h8+PDhSExMRFRUFGQyGWQyGS5dugQAOHHiBHr16gUnJye4u7tj6NCh+Oeff7s28vPzMWzYMDg5OcHT0xMLFy40/xdHJtm/RYU8jTWCBtws93juDWusWeyBXkP+/f/WvsttnD7siF2/ukCnA/7JtMXqRR4AgJvZJZlR+663sfcPFf7a4wS9Hrh8QYENX7sZlCGqaY1b3sXGc8cRe+kY3p13GbNHNkb6OTsAwMf/bQxrWwHrT51E7KVjGPfJZcwa2RhXLylqOGoyR+mYHnM2qar1dzZr1iwMGDAAx44dw4svvojBgwfj5k3DL68pU6Zg3rx5OH36NFq1aoXIyEisWrUK0dHROHnyJCIiIjBkyBAkJiaWe42CggIEBgYiLi4OJ06cwOjRozF06FD8+eefAICoqCio1Wq8+eabyMzMRGZmJry9vZGTk4Pu3bujbdu2OHz4MLZs2YLs7GwMGDBArHvixIlITEzEb7/9hm3btiEhIQFHjhx54D0XFhZCo9EYbFR5W390xdPdNKjrUbYVMP+2FaYPa4JGzQsw9L0scX9g19sYNf0qlkzxxkuNW2NEp5Z4pnvJ/wfZ/z41vQbfwMtv/IMZoU0Q4tMa43o3Q9c+twAAVrX+k0WW4vIFBd5+oTneDWmG2FX1MCEqHY2aFQAAQidlwkmpx+QBTfBOr+bY8E19fBB9CY1bsnuLpKnW/zk6fPhwDBo0CAAwd+5cLFmyBH/++Sd69uwplpk9ezZeeOEFACUJw9y5c7F9+3ao1WoAQJMmTbB37158/fXX6NKlS5lrNGjQABMmTBBfv/POO9i6dSvWrl2LZ555BiqVCnK5HA4ODvDw8BDLff7552jbti3mzp0r7vvuu+/g7e2Ns2fPwsvLC8uXL8cPP/yA559/HgCwcuVKNGzY8IH3HBkZiVmzZpn6q6JyZF+2xV97nDF9WVqZY3fyrPDB60/A3lGPD5enwcbW8Hj//15Hv9HXcTPbBk4qHbIvy/FdpBc8fQoBADIZMGpaJt6Ymolb12yhqluMlL0l3QIe/ytDVNOKi6zElpvzxx3Qos0d9B11Heu+dEOfETcwumsL/H22pOXn4il7BHTIx8vDb2DJlAf/O0W1lx5mPntLwgOZa33S06pVK/FnR0dHKJVKXLt2zaBM+/btxZ/Pnz+PO3fuiElQKa1Wi7Zt25Z7DZ1Oh7lz52Lt2rW4cuUKtFotCgsL4eDw4NkLR48exa5du+DkVLb/+8KFC7h79y60Wi06dOgg7nd1dUWLFi0eWO/UqVMxfvx48bVGo4G3t/cDz6HybfupLlzqFaNDD8PWsvzbJQmPrVzArJiLkNuVP/JYJoPYQrTr1zqo76VF0wDDv4KtrYF6nkUlZTbWgV9gPlzq6qrhbojMJ5MBtnIBCvuS8Wh6w2Fp0OkAmRVH4j/OBDNnbwlMeqqHlZUVhPumuRQVFRm8trU1/PNbJpNBf9+n1NHRUfw5Ly8PABAXF4cGDRoYlFMoyu+nXrBgAaKiorB48WIEBATA0dER4eHh0Gq1D4w/Ly8PvXv3xieffFLmmKenJ86fP//A841RKBRGY6WK0+uBbT+7osdrNw3W1sm/bYX3Bz2BwrtWmLQ0DXfyrHGn5G0DVd1iWFuX/Lzuy/po3+02ZFbAvj9UWPuFGz6I/ls8nnvDGnviXNBKnYeiQits+9kVe2JdsGBD5f6/E1W1N6Zm4tBOZ1y/Ioe9kw7dXslBq//k4YPXmyDjvB2uXJRj3PzL+Ha2FzS3rPGfnrlo91weZgzzrenQyQx8yrpxNZr01K9fH5mZmeJrjUaDtLSy3RCm8Pf3h0KhQHp6erldWeXZt28f+vTpgyFDhgAA9Ho9zp49C39/f7GMXC6HTmf413u7du2wYcMGNG7cGDY2ZX+VTzzxBGxtbXHw4EE0atQIAHDr1i2cPXu2wrFR5f212xnXrsgRPNBwDNj54w44c6QkUX7jP/4Gx1YePAWP/y3kdmiXEj8u8UCRVoYm/ncxc0Uanu5+26D89nWu+Ha2FwQB8Au8gwXrz6Nl2zvVeFdEFedSrxgTl6TD1a0Yd25bI+20HT54vQmO7HYGAEwb2gQj38/ErJVpsHfU42qaHJ+O88ahncoajpyoetRo0tO9e3fExMSgd+/ecHFxwYwZM2Bd+md0JTk7O2PChAmIiIiAXq9Hp06dkJubi3379kGpVCI0NLTMOc2aNcP69euxf/9+1KlTB5999hmys7MNkp7GjRvj4MGDuHTpEpycnODq6oqwsDB8++23GDRoECZNmgRXV1ecP38eP/30E5YtWwYnJyeMHDkSEydORN26deHm5oYPPvgAVhzl+kgEdr2NrVdTyuxv/Z+8cvffb/66Cw88rqqrw+Lfz1UyOqLqt+i9B3eLX01TYM6bjR9NMPTIcEVm42o06Zk6dSrS0tLw0ksvQaVSYc6cOWa39ADAnDlzUL9+fURGRuLixYtwcXFBu3bt8P7775dbftq0abh48SKCg4Ph4OCA0aNHo2/fvsjNzRXLTJgwAaGhofD398fdu3eRlpaGxo0bY9++fZg8eTKCgoJQWFgIHx8f9OzZU0xsFixYIHaDOTs747333jOol4iIqCqxe8s4mXD/oBqqdTQaDVQqFW6dbQKls3QzcLJswV5tajoEompTLBQhAb8hNzcXSmX1dB+Wflf02TYCto6VXyC1KF+L34K+q9ZYa0qtn71FREREFcdnbxnHpIeIiEhC2L1lHPtKiIiIyCKwpYeIiEhC2NJjHJMeIiIiCWHSYxy7t4iIiMgisKWHiIhIQtjSYxyTHiIiIgkRYN60cykv3sekh4iISELY0mMcx/QQERGRRWBLDxERkYSwpcc4Jj1EREQSwqTHOHZvERERkUVgSw8REZGEsKXHOLb0EBERSYggyMzeTDFz5kzIZDKDrWXLluLxgoIChIWFoW7dunByckL//v2RnZ1tUEd6ejpCQkLg4OAANzc3TJw4EcXFxQZlEhIS0K5dOygUCjRt2hQxMTEm/26Y9BAREZFZnnzySWRmZorb3r17xWMRERH4/fffsW7dOiQmJuLq1avo16+feFyn0yEkJARarRb79+/HypUrERMTgxkzZohl0tLSEBISgm7duiElJQXh4eEYNWoUtm7dalKc7N4iIiKSED1kZi1OWHquRqMx2K9QKKBQKMo9x8bGBh4eHmX25+bmYvny5VizZg26d+8OAFixYgX8/Pxw4MABdOzYEdu2bcOpU6ewfft2uLu7o02bNpgzZw4mT56MmTNnQi6XIzo6Gr6+vli4cCEAwM/PD3v37sWiRYsQHBxc4XtjSw8REZGElI7pMWcDAG9vb6hUKnGLjIw0es1z587By8sLTZo0weDBg5Geng4ASE5ORlFREXr06CGWbdmyJRo1aoSkpCQAQFJSEgICAuDu7i6WCQ4OhkajwcmTJ8Uy99ZRWqa0jopiSw8RERGVkZGRAaVSKb421srToUMHxMTEoEWLFsjMzMSsWbPQuXNnnDhxAllZWZDL5XBxcTE4x93dHVlZWQCArKwsg4Sn9HjpsQeV0Wg0uHv3Luzt7St0T0x6iIiIJKQyg5HvPx8AlEqlQdJjTK9evcSfW7VqhQ4dOsDHxwdr166tcDLyqLB7i4iISEKqqnurslxcXNC8eXOcP38eHh4e0Gq1yMnJMSiTnZ0tjgHy8PAoM5ur9PXDyiiVSpMSKyY9REREEvKop6zfLy8vDxcuXICnpycCAwNha2uLHTt2iMdTU1ORnp4OtVoNAFCr1Th+/DiuXbsmlomPj4dSqYS/v79Y5t46SsuU1lFRTHqIiIio0iZMmIDExERcunQJ+/fvxyuvvAJra2sMGjQIKpUKI0eOxPjx47Fr1y4kJyfjjTfegFqtRseOHQEAQUFB8Pf3x9ChQ3H06FFs3boV06ZNQ1hYmDiOaMyYMbh48SImTZqEM2fO4Msvv8TatWsRERFhUqwc00NERCQhgpldVKa29Fy+fBmDBg3CjRs3UL9+fXTq1AkHDhxA/fr1AQCLFi2ClZUV+vfvj8LCQgQHB+PLL78Uz7e2tkZsbCzeeustqNVqODo6IjQ0FLNnzxbL+Pr6Ii4uDhEREYiKikLDhg2xbNkyk6arA4BMEATBpDPokdNoNFCpVLh1tgmUzmycI2kK9mpT0yEQVZtioQgJ+A25ubkVGhxcGaXfFW3Xj4e1Q/kzrSpCd6cQf736WbXGWlP4DUpEREQWgd1bREREEqKHDLIqWJFZipj0EBERSUhVrdMjRezeIiIiIovAlh4iIiIJ0QsyyMxorTF3ccLajEkPERGRhAhCyWbO+VLF7i0iIiKyCGzpISIikhAOZDaOSQ8REZGEMOkxjkkPERGRhHAgs3Ec00NEREQWgS09REREEsLZW8Yx6SEiIpKQkqTHnDE9VRhMLcPuLSIiIrIIbOkhIiKSEM7eMo5JDxERkYQI/9vMOV+q2L1FREREFoEtPURERBLC7i3jmPQQERFJCfu3jGLSQ0REJCVmtvRAwi09HNNDREREFoEtPURERBLCFZmNY9JDREQkIRzIbBy7t4iIiMgisKWHiIhISgSZeYORJdzSw6SHiIhIQjimxzh2bxEREZFFYEsPERGRlHBxQqOY9BAREUkIZ28ZV6GkZ9OmTRWu8OWXX650MERERETVpUJJT9++fStUmUwmg06nMyceIiIiMpeEu6jMUaGkR6/XV3ccREREVAXYvWWcWbO3CgoKqioOIiIiqgpCFWwSZXLSo9PpMGfOHDRo0ABOTk64ePEiAGD69OlYvnx5lQdIREREVBVMTno+/vhjxMTEYP78+ZDL5eL+p556CsuWLavS4IiIiMhUsirYpMnkpGfVqlX45ptvMHjwYFhbW4v7W7dujTNnzlRpcERERGQidm8ZZXLSc+XKFTRt2rTMfr1ej6KioioJioiIiKiqmZz0+Pv7Y8+ePWX2r1+/Hm3btq2SoIiIiKiS2NJjlMkrMs+YMQOhoaG4cuUK9Ho9fvnlF6SmpmLVqlWIjY2tjhiJiIiooviUdaNMbunp06cPfv/9d2zfvh2Ojo6YMWMGTp8+jd9//x0vvPBCdcRIREREj4F58+ZBJpMhPDxc3FdQUICwsDDUrVsXTk5O6N+/P7Kzsw3OS09PR0hICBwcHODm5oaJEyeiuLjYoExCQgLatWsHhUKBpk2bIiYmxuT4KvXsrc6dOyM+Pr4ypxIREVE1EoSSzZzzK+PQoUP4+uuv0apVK4P9ERERiIuLw7p166BSqTB27Fj069cP+/btA1CyFE5ISAg8PDywf/9+ZGZmYtiwYbC1tcXcuXMBAGlpaQgJCcGYMWOwevVq7NixA6NGjYKnpyeCg4MrHGOlHzh6+PBhnD59GkDJOJ/AwMDKVkVERERVpQaesp6Xl4fBgwfj22+/xUcffSTuz83NxfLly7FmzRp0794dALBixQr4+fnhwIED6NixI7Zt24ZTp05h+/btcHd3R5s2bTBnzhxMnjwZM2fOhFwuR3R0NHx9fbFw4UIAgJ+fH/bu3YtFixaZlPSY3L11+fJldO7cGc888wzGjRuHcePG4emnn0anTp1w+fJlU6sjIiKiWkij0RhshYWFRsuGhYUhJCQEPXr0MNifnJyMoqIig/0tW7ZEo0aNkJSUBABISkpCQEAA3N3dxTLBwcHQaDQ4efKkWOb+uoODg8U6KsrkpGfUqFEoKirC6dOncfPmTdy8eROnT5+GXq/HqFGjTK2OiIiIqlLpQGZzNgDe3t5QqVTiFhkZWe7lfvrpJxw5cqTc41lZWZDL5XBxcTHY7+7ujqysLLHMvQlP6fHSYw8qo9FocPfu3Qr/akzu3kpMTMT+/fvRokULcV+LFi2wdOlSdO7c2dTqiIiIqArJhJLNnPMBICMjA0qlUtyvUCjKlM3IyMC4ceMQHx8POzu7yl/0ETG5pcfb27vcRQh1Oh28vLyqJCgiIiKqpCpap0epVBps5SU9ycnJuHbtGtq1awcbGxvY2NggMTERS5YsgY2NDdzd3aHVapGTk2NwXnZ2Njw8PAAAHh4eZWZzlb5+WBmlUgl7e/sK/2pMTnoWLFiAd955B4cPHxb3HT58GOPGjcOnn35qanVERET0mHr++edx/PhxpKSkiFv79u0xePBg8WdbW1vs2LFDPCc1NRXp6elQq9UAALVajePHj+PatWtimfj4eCiVSvj7+4tl7q2jtExpHRVVoe6tOnXqQCb7d7Gi/Px8dOjQATY2JacXFxfDxsYGI0aMQN++fU0KgIiIiKrQI1yc0NnZGU899ZTBPkdHR9StW1fcP3LkSIwfPx6urq5QKpV45513oFar0bFjRwBAUFAQ/P39MXToUMyfPx9ZWVmYNm0awsLCxNalMWPG4PPPP8ekSZMwYsQI7Ny5E2vXrkVcXJxJt1ahpGfx4sUmVUpEREQ1pAamrD/IokWLYGVlhf79+6OwsBDBwcH48ssvxePW1taIjY3FW2+9BbVaDUdHR4SGhmL27NliGV9fX8TFxSEiIgJRUVFo2LAhli1bZtJ0dQCQCYI5SxjRo6DRaKBSqXDrbBMonU3ukSR6LAR7tanpEIiqTbFQhAT8htzcXIPBwVWp9LvC+7M5sLKv/KBi/d0CZIyfXq2x1pRKL04IlCwtrdVqDfZJ7RdERET0WKllLT21icnNBvn5+Rg7dizc3Nzg6OiIOnXqGGxERERUg/iUdaNMTnomTZqEnTt34quvvoJCocCyZcswa9YseHl5YdWqVdURIxEREZHZTO7e+v3337Fq1Sp07doVb7zxBjp37oymTZvCx8cHq1evxuDBg6sjTiIiIqqIRzh763FjckvPzZs30aRJEwAl43du3rwJAOjUqRN2795dtdERERGRSUpXZDZnkyqTk54mTZogLS0NQMlDw9auXQugpAXo/mdrEBEREdUWJic9b7zxBo4ePQoAmDJlCr744gvY2dkhIiICEydOrPIAiYiIyAQcyGyUyWN6IiIixJ979OiBM2fOIDk5GU2bNkWrVq2qNDgiIiKiqmLWOj0A4OPjAx8fn6qIhYiIiMwkg5lPWa+ySGqfCiU9S5YsqXCF7777bqWDISIiIqouFUp6Fi1aVKHKZDIZk55q1L/NM7CRyWs6DKJqcWNU65oOgaja6LQFwMrfHs3FOGXdqAolPaWztYiIiKiW42MojOLTK4mIiMgimD2QmYiIiGoRtvQYxaSHiIhIQsxdVZkrMhMRERE95tjSQ0REJCXs3jKqUi09e/bswZAhQ6BWq3HlyhUAwPfff4+9e/dWaXBERERkIj6GwiiTk54NGzYgODgY9vb2+Ouvv1BYWAgAyM3Nxdy5c6s8QCIiIqKqYHLS89FHHyE6OhrffvstbG1txf3PPvssjhw5UqXBERERkWlKBzKbs0mVyWN6UlNT8dxzz5XZr1KpkJOTUxUxERERUWVxRWajTG7p8fDwwPnz58vs37t3L5o0aVIlQREREVElcUyPUSYnPW+++SbGjRuHgwcPQiaT4erVq1i9ejUmTJiAt956qzpiJCIiIjKbyd1bU6ZMgV6vx/PPP487d+7gueeeg0KhwIQJE/DOO+9UR4xERERUQVyc0DiTkx6ZTIYPPvgAEydOxPnz55GXlwd/f384OTlVR3xERERkCq7TY1SlFyeUy+Xw9/evyliIiIiIqo3JSU+3bt0gkxkf2b1z506zAiIiIiIzmDvtnC09/2rTpo3B66KiIqSkpODEiRMIDQ2tqriIiIioMti9ZZTJSc+iRYvK3T9z5kzk5eWZHRARERFRdaiyp6wPGTIE3333XVVVR0RERJXBdXqMqrKnrCclJcHOzq6qqiMiIqJK4JR140xOevr162fwWhAEZGZm4vDhw5g+fXqVBUZERERUlUxOelQqlcFrKysrtGjRArNnz0ZQUFCVBUZERERUlUxKenQ6Hd544w0EBASgTp061RUTERERVRZnbxll0kBma2trBAUF8WnqREREtVTpmB5zNqkyefbWU089hYsXL1ZHLERERETVxuSk56OPPsKECRMQGxuLzMxMaDQag42IiIhqGKerl6vCY3pmz56N9957Dy+++CIA4OWXXzZ4HIUgCJDJZNDpdFUfJREREVUMx/QYVeGkZ9asWRgzZgx27dpVnfEQERERVYsKJz2CUJL6denSpdqCISIiIvNwcULjTBrT86CnqxMREVEt8IgfQ/HVV1+hVatWUCqVUCqVUKvV2Lx5s3i8oKAAYWFhqFu3LpycnNC/f39kZ2cb1JGeno6QkBA4ODjAzc0NEydORHFxsUGZhIQEtGvXDgqFAk2bNkVMTIxpgcLEdXqaN2/+0MTn5s2bJgdBREREj6eGDRti3rx5aNasGQRBwMqVK9GnTx/89ddfePLJJxEREYG4uDisW7cOKpUKY8eORb9+/bBv3z4AJWsAhoSEwMPDA/v370dmZiaGDRsGW1tbzJ07FwCQlpaGkJAQjBkzBqtXr8aOHTswatQoeHp6Ijg4uMKxmpT0zJo1q8yKzERERFR7POrurd69exu8/vjjj/HVV1/hwIEDaNiwIZYvX441a9age/fuAIAVK1bAz88PBw4cQMeOHbFt2zacOnUK27dvh7u7O9q0aYM5c+Zg8uTJmDlzJuRyOaKjo+Hr64uFCxcCAPz8/LB3714sWrSo+pKegQMHws3NzZRTiIiI6FGqotlb9y9Do1AooFAoHniqTqfDunXrkJ+fD7VajeTkZBQVFaFHjx5imZYtW6JRo0ZISkpCx44dkZSUhICAALi7u4tlgoOD8dZbb+HkyZNo27YtkpKSDOooLRMeHm7SrVV4TA/H8xAREVkOb29vqFQqcYuMjDRa9vjx43BycoJCocCYMWPw66+/wt/fH1lZWZDL5XBxcTEo7+7ujqysLABAVlaWQcJTerz02IPKaDQa3L17t8L3ZPLsLSIiIqrFqqilJyMjA0qlUtz9oFaeFi1aICUlBbm5uVi/fj1CQ0ORmJhoRhDVo8JJj16vr844iIiIqApU1Zie0tlYFSGXy9G0aVMAQGBgIA4dOoSoqCj83//9H7RaLXJycgxae7Kzs+Hh4QEA8PDwwJ9//mlQX+nsrnvL3D/jKzs7G0qlEvb29hW+N5MfQ0FERES12COesl4evV6PwsJCBAYGwtbWFjt27BCPpaamIj09HWq1GgCgVqtx/PhxXLt2TSwTHx8PpVIJf39/scy9dZSWKa2jokwayExERER0r6lTp6JXr15o1KgRbt++jTVr1iAhIQFbt26FSqXCyJEjMX78eLi6ukKpVOKdd96BWq1Gx44dAQBBQUHw9/fH0KFDMX/+fGRlZWHatGkICwsTu9TGjBmDzz//HJMmTcKIESOwc+dOrF27FnFxcSbFyqSHiIhISh7xs7euXbuGYcOGITMzEyqVCq1atcLWrVvxwgsvAAAWLVoEKysr9O/fH4WFhQgODsaXX34pnm9tbY3Y2Fi89dZbUKvVcHR0RGhoKGbPni2W8fX1RVxcHCIiIhAVFYWGDRti2bJlJk1XBwCZwBHKtZ5Go4FKpUJ3h4GwkclrOhyianH99dY1HQJRtdFpC3Bs5QfIzc2t8DgZU5V+V7R8dy6sFXaVrkdXWIAzS96v1lhrCsf0EBERkUVg9xYREZGUPOLurccJkx4iIiIJ4VPWjWP3FhEREVkEtvQQERFJCbu3jGLSQ0REJCVMeoxi9xYRERFZBLb0EBERSYjsf5s550sVkx4iIiIpYfeWUUx6iIiIJIRT1o3jmB4iIiKyCGzpISIikhJ2bxnFpIeIiEhqJJy4mIPdW0RERGQR2NJDREQkIRzIbByTHiIiIinhmB6j2L1FREREFoEtPURERBLC7i3jmPQQERFJCbu3jGL3FhEREVkEtvQQERFJCLu3jGPSQ0REJCXs3jKKSQ8REZGUMOkximN6iIiIyCKwpYeIiEhCOKbHOCY9REREUsLuLaPYvUVEREQWgS09REREEiITBMiEyjfXmHNubcekh4iISErYvWUUu7eIiIjIIrClh4iISEI4e8s4Jj1ERERSwu4to9i9RURERBaBLT1EREQSwu4t45j0EBERSQm7t4xi0kNERCQhbOkxjmN6iIiIyCKwpYeIiEhK2L1lFJMeIiIiiZFyF5U52L1FREREFoFJDxERkZQIgvmbCSIjI/H000/D2dkZbm5u6Nu3L1JTUw3KFBQUICwsDHXr1oWTkxP69++P7OxsgzLp6ekICQmBg4MD3NzcMHHiRBQXFxuUSUhIQLt27aBQKNC0aVPExMSYFCuTHiIiIgkpnb1lzmaKxMREhIWF4cCBA4iPj0dRURGCgoKQn58vlomIiMDvv/+OdevWITExEVevXkW/fv3E4zqdDiEhIdBqtdi/fz9WrlyJmJgYzJgxQyyTlpaGkJAQdOvWDSkpKQgPD8eoUaOwdetWE343goSfIS8RGo0GKpUK3R0GwkYmr+lwiKrF9ddb13QIRNVGpy3AsZUfIDc3F0qlslquUfpd0f7Vj2Bja1fpeoqLCnB4/bRKx3r9+nW4ubkhMTERzz33HHJzc1G/fn2sWbMGr776KgDgzJkz8PPzQ1JSEjp27IjNmzfjpZdewtWrV+Hu7g4AiI6OxuTJk3H9+nXI5XJMnjwZcXFxOHHihHitgQMHIicnB1u2bKlQbGzpISIikhKhCjaUJFH3boWFhRW6fG5uLgDA1dUVAJCcnIyioiL06NFDLNOyZUs0atQISUlJAICkpCQEBASICQ8ABAcHQ6PR4OTJk2KZe+soLVNaR0Uw6SEiIpIQmd78DQC8vb2hUqnELTIy8qHX1uv1CA8Px7PPPounnnoKAJCVlQW5XA4XFxeDsu7u7sjKyhLL3JvwlB4vPfagMhqNBnfv3q3Q74ZT1omIiKiMjIwMg+4thULx0HPCwsJw4sQJ7N27tzpDqzQmPWQRBoy5gmeDbqBhk7vQFlrh1BFnfDffB1fS7MspLWD28jN4uksOZo9pgaTtruKRzefLNqPOG9cMiXH1qjF6orKGdz6Cbv5paFwvB4VF1jiW4YGl2zri7xsu5ZQWEDX0DzzbLAPvrQlG4hlf8ciEF/eidaMsPOF2E2nX62DwV68ZnOlTNwdTX94N3/q34KTQ4vptB2w93gzf7AqETm9dvTdJlVNFixMqlUqTxvSMHTsWsbGx2L17Nxo2bCju9/DwgFarRU5OjkFrT3Z2Njw8PMQyf/75p0F9pbO77i1z/4yv7OxsKJVK2NuX9295WRaZ9HTt2hVt2rTB4sWLH/m1ExIS0K1bN9y6datMUx9Vn4BncvH7Dx44e9wJ1tYChr+Xjo9jTuG/Pdug8K7hP9x938h84D8YCyc9geTdLuLrPI1FfoyohrVrnIl1B5/EqStusLbSI+yFP/F5aCxeW/p/KCiyNSj7uvrYA9/Tm460xFMNr6Gp+40yx4r1VohLaY4zV+vhdoECzT1u4IM+iZDJBHy5vUNV3xZVgUf97C1BEPDOO+/g119/RUJCAnx9fQ2OBwYGwtbWFjt27ED//v0BAKmpqUhPT4darQYAqNVqfPzxx7h27Rrc3NwAAPHx8VAqlfD39xfL/PHHHwZ1x8fHi3VUBMf0VEBCQgJkMhlycnJqOhSqpOkj/LH9Fzekn3NA2hlHfDa5KdwbaNHsqXyDck388tF/ZCYWTXnCaF35Ghvc+kcubkVafozo0Xv3+xDEprTExeuuOJddDzN/6QZPlzz4eV03KNfc4x8M/s8xzN7Yrdx6Pv2jE9b9+RSu3HIu9/iVW0r8/ldLnMuuh6xcZ+xObYwtx5qhrU9mld8TVZFHvE5PWFgYfvjhB6xZswbOzs7IyspCVlaWOM5GpVJh5MiRGD9+PHbt2oXk5GS88cYbUKvV6NixIwAgKCgI/v7+GDp0KI4ePYqtW7di2rRpCAsLE7vVxowZg4sXL2LSpEk4c+YMvvzyS6xduxYREREVjlVy/1prtdqaDoEeAw7OJQte3c75t5VGYafD5EXn8MVMX9z6x/jSAG/PvIif/jyExRuOIejVa5D0g2roseFkV/Jvn+buv1OVFbZF+OjVHZgf1wk38hyq5DoNXXOhbpqBI5e8qqQ+evx99dVXyM3NRdeuXeHp6SluP//8s1hm0aJFeOmll9C/f38899xz8PDwwC+//CIet7a2RmxsLKytraFWqzFkyBAMGzYMs2fPFsv4+voiLi4O8fHxaN26NRYuXIhly5YhODi4wrE+9u3yXbt2xVNPPQUbGxv88MMPCAgIwNKlSzFx4kTs2bMHjo6OCAoKwqJFi1CvXvnjLr7//ntERUUhNTUVjo6O6N69OxYvXgw3NzdcunQJ3bqV/IVUp04dAEBoaChiYmKg1+vxySef4JtvvkFWVhaaN2+O6dOni+sQAMAff/yB8PBwZGRkoGPHjggNDX3oPRUWFhpMDdRoNOb8iug+MpmA/35wCScPO+Pvc/9+EYz+4BJOHXHGgXvG8Nxv1SJvHE1SorDAGu065SBs1kXYOeiwaZXnowidqFwymYD3eu1Dyt8euHDt3/fvez3341iGu8EYnspaPupXtPT8BwpbHX455IfonU+bXSdVj5ro3noYOzs7fPHFF/jiiy+MlvHx8SnTfXW/rl274q+//jItwHtIoqVn5cqVkMvl2LdvH+bNm4fu3bujbdu2OHz4MLZs2YLs7GwMGDDA6PlFRUWYM2cOjh49io0bN+LSpUsYPnw4gJIpexs2bABQ0geZmZmJqKgoACVLb69atQrR0dE4efIkIiIiMGTIECQmJgIoGfner18/9O7dGykpKRg1ahSmTJny0PuJjIw0mCbo7e1t5m+I7hU2Mw2Nm9/FvPBm4r4Oz99Ea7UGX3/U+IHn/vhFQ5w6osSFU45Y900DrP/GC6++ebWaIyZ6sMkhe/CE2028v+7fNUyea3EJ7ZtcwcLNz1bJNd5f+wKGRPfHB+uex7PN0zH02ZQqqZeqQRWt0yNFj31LDwA0a9YM8+fPBwB89NFHaNu2LebOnSse/+677+Dt7Y2zZ8+iefPmZc4fMWKE+HOTJk2wZMkSPP3008jLy4OTk5O4wJKbm5s4+LiwsBBz587F9u3bxUFUTZo0wd69e/H111+jS5cu+Oqrr/DEE09g4cKFAIAWLVrg+PHj+OSTTx54P1OnTsX48ePF1xqNholPFXnrw4t4pvstTBz0JP7J+nf6ZZuOufBsVID1RwxnD3zwRSpOHlZi8uAny63vzFFnvP7OFdjK9RzbQzViUsgedGrxN0Yv74NrGidxf/smV9Cwjga7pn5nUH7+wG1I+dsD/13Rx6TrZP+v7rTrrrCSCfjg5d34YV9r6AW+7+nxIYmkJzAwUPz56NGj2LVrF5ycnMqUu3DhQrlJT3JyMmbOnImjR4/i1q1b0OtLVmZKT08XR43f7/z587hz5w5eeOEFg/1arRZt27YFAJw+fRodOhjObqjIKHOFQlGh9RDIFALe+jAN/3nhJiYPfhLZlw2XaF/7dQNsWWu46FX05qP45uPGOLizjtFan/DLx+0cayY8VAMETArZi65+afjvdy/jao7h1OKVe9rit2Q/g30/j12Lzzb/B3tSfcy6spVMgI21HjKZIOlWgcfVo+7eepxIIulxdHQUf87Ly0Pv3r3LbU3x9Cw77iI/Px/BwcEIDg7G6tWrUb9+faSnpyM4OPiBg6Lz8vIAAHFxcWjQoIHBMSYstU/YrDR07f0PZo9pgbv51qhTr+T/bf5ta2gLrcWZWPe7flUhJkgdut+ES70inPnLGVqtDO2ezcX/vXUFG5ZzQCc9epNf2oOeAefx3o89cUcrR12nOwCAvAI5CottcCPPodzBy1m5TgYJUkPXXDjIi1DX6S7sbIvR3OMfAMDF63VQrLNGz1ZnUayzwvnsuijSWcPP6xrCXjiIbSee4Do9tVUlZmCVOV+iJJH03Ktdu3bYsGEDGjduDBubh9/emTNncOPGDcybN0/sQjp8+LBBGbm85MtQp9OJ+/z9/aFQKJCeno4uXbqUW7efnx82bdpksO/AgQMm3Q9VjZcGlyxoNX/NKYP9Cyc9ge2/uFWojuJiGXoPycLo9y9BJgOu/m2Hb+Y2xpafK3Y+UVV67ZmS9/I3Iwz/jZn5S1fEprSscD3T+yQg0Pff6edr3l4PAOj92evIzFFCp7dCaOcUNKqbCxkEZOY6Y+3Bp7AmqVUV3AXRoyW5pCcsLAzffvstBg0ahEmTJsHV1RXnz5/HTz/9hGXLlsHa2vAvk0aNGkEul2Pp0qUYM2YMTpw4gTlz5hiU8fHxgUwmQ2xsLF588UXY29vD2dkZEyZMQEREBPR6PTp16oTc3Fzs27cPSqUSoaGhGDNmDBYuXIiJEydi1KhRSE5ORkxMzCP8bVCpXk0rvniVsXOSd9dB8m7jXV1Ej1L7GWOq5JyHje2JP9EU8Seamnwtqjns3jJOcgMRvLy8sG/fPuh0OgQFBSEgIADh4eFwcXGBlVXZ261fvz5iYmKwbt06+Pv7Y968efj0008NyjRo0ACzZs3ClClT4O7ujrFjxwIA5syZg+nTpyMyMhJ+fn7o2bMn4uLixNUoGzVqhA0bNmDjxo1o3bo1oqOjDQZYExERVTnO3jJKJlRkgj3VKI1GA5VKhe4OA2EjM75oHtHj7PrrrWs6BKJqo9MW4NjKD5Cbm2vS86xMUfpdoe45Gza2dg8/wYjiogIkbZlRrbHWFMl1bxEREVkydm8Zx6SHiIhISvRCyWbO+RLFpIeIiEhKzB2XI92cR3oDmYmIiIjKw5YeIiIiCZHBzDE9VRZJ7cOkh4iISEq4IrNR7N4iIiIii8CWHiIiIgnhlHXjmPQQERFJCWdvGcXuLSIiIrIIbOkhIiKSEJkgQGbGYGRzzq3tmPQQERFJif5/mznnSxS7t4iIiMgisKWHiIhIQti9ZRyTHiIiIinh7C2jmPQQERFJCVdkNopjeoiIiMgisKWHiIhIQrgis3FMeoiIiKSE3VtGsXuLiIiILAJbeoiIiCREpi/ZzDlfqpj0EBERSQm7t4xi9xYRERFZBLb0EBERSQkXJzSKSQ8REZGE8DEUxrF7i4iIiCwCW3qIiIikhAOZjWLSQ0REJCUCAHOmnUs352HSQ0REJCUc02Mcx/QQERGRRWBLDxERkZQIMHNMT5VFUusw6SEiIpISDmQ2it1bREREVGm7d+9G79694eXlBZlMho0bNxocFwQBM2bMgKenJ+zt7dGjRw+cO3fOoMzNmzcxePBgKJVKuLi4YOTIkcjLyzMoc+zYMXTu3Bl2dnbw9vbG/PnzTY6VSQ8REZGU6KtgM0F+fj5at26NL774otzj8+fPx5IlSxAdHY2DBw/C0dERwcHBKCgoEMsMHjwYJ0+eRHx8PGJjY7F7926MHj1aPK7RaBAUFAQfHx8kJydjwYIFmDlzJr755huTYmX3FhERkYQ86tlbvXr1Qq9evco9JggCFi9ejGnTpqFPnz4AgFWrVsHd3R0bN27EwIEDcfr0aWzZsgWHDh1C+/btAQBLly7Fiy++iE8//RReXl5YvXo1tFotvvvuO8jlcjz55JNISUnBZ599ZpAcPQxbeoiIiKgMjUZjsBUWFppcR1paGrKystCjRw9xn0qlQocOHZCUlAQASEpKgouLi5jwAECPHj1gZWWFgwcPimWee+45yOVysUxwcDBSU1Nx69atCsfDpIeIiEhKSgcym7MB8Pb2hkqlErfIyEiTQ8nKygIAuLu7G+x3d3cXj2VlZcHNzc3guI2NDVxdXQ3KlFfHvdeoCHZvERERSUkVzd7KyMiAUqkUdysUCnMjq3Fs6SEiIqIylEqlwVaZpMfDwwMAkJ2dbbA/OztbPObh4YFr164ZHC8uLsbNmzcNypRXx73XqAgmPURERFJSRd1bVcHX1xceHh7YsWOHuE+j0eDgwYNQq9UAALVajZycHCQnJ4tldu7cCb1ejw4dOohldu/ejaKiIrFMfHw8WrRogTp16lQ4HiY9REREUvKIp6zn5eUhJSUFKSkpAEoGL6ekpCA9PR0ymQzh4eH46KOPsGnTJhw/fhzDhg2Dl5cX+vbtCwDw8/NDz5498eabb+LPP//Evn37MHbsWAwcOBBeXl4AgNdffx1yuRwjR47EyZMn8fPPPyMqKgrjx483KVaO6SEiIpKQRz1l/fDhw+jWrZv4ujQRCQ0NRUxMDCZNmoT8/HyMHj0aOTk56NSpE7Zs2QI7OzvxnNWrV2Ps2LF4/vnnYWVlhf79+2PJkiXicZVKhW3btiEsLAyBgYGoV68eZsyYYdJ09f/dm4TXm5YIjUYDlUqF7g4DYSOTP/wEosfQ9ddb13QIRNVGpy3AsZUfIDc312BwcFUq/a7o0Xw8bKwrP+i4WFeI7Wc/q9ZYawpbeoiIiKSEz94yikkPERGRlOgFQGZG4qKXbtLDgcxERERkEdjSQ0REJCXs3jKKSQ8REZGkmLvWjnSTHnZvERERkUVgSw8REZGUsHvLKCY9REREUqIXYFYXFWdvERERET3e2NJDREQkJYK+ZDPnfIli0kNERCQlHNNjFJMeIiIiKeGYHqM4poeIiIgsAlt6iIiIpITdW0Yx6SEiIpISAWYmPVUWSa3D7i0iIiKyCGzpISIikhJ2bxnFpIeIiEhK9HoAZqy1o5fuOj3s3iIiIiKLwJYeIiIiKWH3llFMeoiIiKSESY9R7N4iIiIii8CWHiIiIinhYyiMYtJDREQkIYKgh2DGk9LNObe2Y9JDREQkJYJgXmsNx/QQERERPd7Y0kNERCQlgpljeiTc0sOkh4iISEr0ekBmxrgcCY/pYfcWERERWQS29BAREUkJu7eMYtJDREQkIYJeD8GM7i0pT1ln9xYRERFZBLb0EBERSQm7t4xi0kNERCQlegGQMekpD7u3iIiIyCKwpYeIiEhKBAGAOev0SLelh0kPERGRhAh6AYIZ3VsCkx4iIiJ6LAh6mNfSwynrRERERI81tvQQERFJCLu3jGPSQ0REJCXs3jKKSc9joDTrLhaKajgSouqj0xbUdAhE1ab0/f0oWlGKUWTW2oTFkO53jUyQcjuWRFy+fBne3t41HQYREZkpIyMDDRs2rJa6CwoK4Ovri6ysLLPr8vDwQFpaGuzs7KogstqDSc9jQK/X4+rVq3B2doZMJqvpcCyCRqOBt7c3MjIyoFQqazocoirF9/ejJwgCbt++DS8vL1hZVd8cooKCAmi1WrPrkcvlkkt4AHZvPRasrKyq7S8DejClUskvBZIsvr8fLZVKVe3XsLOzk2SyUlU4ZZ2IiIgsApMeIiIisghMeojKoVAo8OGHH0KhUNR0KERVju9vslQcyExEREQWgS09REREZBGY9BAREZFFYNJDREREFoFJD9E9EhISIJPJkJOTUyPX79q1K8LDw2vk2iQNNfkequnPD9HDMOkhMhMTFXqcMVEhS8KkhyyCIAgoLi6u6TCIzFIVjxcgsmRMeqhWaty4MRYvXmywr02bNpg5cyYAQCaTYdmyZXjllVfg4OCAZs2aYdOmTWLZ0r9eN2/ejMDAQCgUCuzduxd6vR6RkZHw9fWFvb09WrdujfXr1xuN48aNGxg0aBAaNGgABwcHBAQE4McffxSPDx8+HImJiYiKioJMJoNMJsOlS5cAACdOnECvXr3g5OQEd3d3DB06FP/88494bn5+PoYNGwYnJyd4enpi4cKF5v/iSFK6du2KsWPHIjw8HPXq1UNwcPBD31f3+/7779G+fXs4OzvDw8MDr7/+Oq5duwYAuHTpErp16wYAqFOnDmQyGYYPHw4AFfqs/PHHH2jevDns7e3RrVs38b1PVFsx6aHH1qxZszBgwAAcO3YML774IgYPHoybN28alJkyZQrmzZuH06dPo1WrVoiMjMSqVasQHR2NkydPIiIiAkOGDEFiYmK51ygoKEBgYCDi4uJw4sQJjB49GkOHDsWff/4JAIiKioJarcabb76JzMxMZGZmwtvbGzk5OejevTvatm2Lw4cPY8uWLcjOzsaAAQPEuidOnIjExET89ttv2LZtGxISEnDkyJHq+4XRY2nlypWQy+XYt28f5s2b99D31f2KioowZ84cHD16FBs3bsSlS5fExMbb2xsbNmwAAKSmpiIzMxNRUVEA8NDPSkZGBvr164fevXsjJSUFo0aNwpQpU6r3l0FkLoGoFvLx8REWLVpksK9169bChx9+KAiCIAAQpk2bJh7Ly8sTAAibN28WBEEQdu3aJQAQNm7cKJYpKCgQHBwchP379xvUO3LkSGHQoEEG5926dctobCEhIcJ7770nvu7SpYswbtw4gzJz5swRgoKCDPZlZGQIAITU1FTh9u3bglwuF9auXSsev3HjhmBvb1+mLrJcXbp0Edq2bSu+ftj7qvScB72HDh06JAAQbt++LQhC+e/5inxWpk6dKvj7+xscnzx58kM/P0Q1iU9Zp8dWq1atxJ8dHR2hVCrFZvtS7du3F38+f/487ty5gxdeeMGgjFarRdu2bcu9hk6nw9y5c7F27VpcuXIFWq0WhYWFcHBweGBsR48exa5du+Dk5FTm2IULF3D37l1otVp06NBB3O/q6ooWLVo8sF6yPIGBgeLPD3tfNW/evMz+5ORkzJw5E0ePHsWtW7eg1+sBAOnp6fD39y/3mhX5rJw+fdrg/QsAarXatJsjesSY9FCtZGVlBeG+J6QUFRUZvLa1tTV4LZPJxH/QSzk6Ooo/5+XlAQDi4uLQoEEDg3LGnkG0YMECREVFYfHixQgICICjoyPCw8MfOqA0Ly8PvXv3xieffFLmmKenJ86fP//A84lK3f8eftD76n75+fkIDg5GcHAwVq9ejfr16yM9PR3BwcEPfA9X5rNC9Dhg0kO1Uv369ZGZmSm+1mg0SEtLM6tOf39/KBQKpKeno0uXLhU6Z9++fejTpw+GDBkCoGRw59mzZw3+QpbL5dDpdAbntWvXDhs2bEDjxo1hY1P2Y/bEE0/A1tYWBw8eRKNGjQAAt27dwtmzZyscG1meh72v7nfmzBncuHED8+bNg7e3NwDg8OHDBmXkcjkAGLyHK/JZ8fPzM5g8AAAHDhww6X6IHjUOZKZaqXv37vj++++xZ88eHD9+HKGhobC2tjarTmdnZ0yYMAERERFYuXIlLly4gCNHjmDp0qVYuXJluec0a9YM8fHx2L9/P06fPo3//ve/yM7ONijTuHFjHDx4EJcuXcI///wDvV6PsLAw3Lx5E4MGDcKhQ4dw4cIFbN26FW+88QZ0Oh2cnJwwcuRITJw4ETt37sSJEycwfPhwWFnxI0nGPex9db9GjRpBLpdj6dKluHjxIjZt2oQ5c+YYlPHx8YFMJkNsbCyuX7+OvLy8Cn1WxowZg3PnzmHixIlITU3FmjVrEBMT8yh+DUSVxn9hqVaaOnUqunTpgpdeegkhISHo27cvnnjiCbPrnTNnDqZPn47IyEj4+fmhZ8+eiIuLg6+vb7nlp02bhnbt2iE4OBhdu3aFh4cH+vbta1BmwoQJsLa2hr+/v9h94OXlhX379kGn0yEoKAgBAQEIDw+Hi4uLmNgsWLAAnTt3Ru/evdGjRw906tTJYPwG0f0q8r66V/369RETE4N169bB398f8+bNw6effmpQpkGDBpg1axamTJkCd3d3jB07FsDDPyuNGjXChg0bsHHjRrRu3RrR0dGYO3du9f8SiMwgE+4fOEFEREQkQWzpISIiIovApIeIiIgsApMeIiIisghMeoiIiMgiMOkhIiIii8Ckh4iIiCwCkx4iIiKyCEx6iIiIyCIw6SGiChk+fLjBatRdu3ZFeHj4I48jISEBMpkMOTk5RsvIZDJs3LixwnXOnDkTbdq0MSuuS5cuQSaTISUlxax6iKj6MOkheowNHz4cMpkMMpkMcrkcTZs2xezZs1FcXFzt1/7ll1/KPMfJmIokKkRE1Y1PWSd6zPXs2RMrVqxAYWEh/vjjD4SFhcHW1hZTp04tU1ar1YpP1TaXq6trldRDRPSosKWH6DGnUCjg4eEBHx8fvPXWW+jRowc2bdoE4N8uqY8//hheXl5o0aIFACAjIwMDBgyAi4sLXF1d0adPH1y6dEmsU6fTYfz48XBxcUHdunUxadIk3P+Yvvu7twoLCzF58mR4e3tDoVCgadOmWL58OS5duoRu3boBAOrUqQOZTIbhw4cDAPR6PSIjI+Hr6wt7e3u0bt0a69evN7jOH3/8gebNm8Pe3h7dunUziLOiJk+ejObNm8PBwQFNmjTB9OnTUVRUVKbc119/DW9vbzg4OGDAgAHIzc01OL5s2TL4+fnBzs4OLVu2xJdffmlyLERUc5j0EEmMvb09tFqt+HrHjh1ITU1FfHw8YmNjUVRUhODgYDg7O2PPnj3Yt28fnJyc0LNnT/G8hQsXIiYmBt999x327t2Lmzdv4tdff33gdYcNG4Yff/wRS5YswenTp/H111/DyckJ3t7e2LBhAwAgNTUVmZmZiIqKAgBERkZi1apViI6OxsmTJxEREYEhQ4YgMTERQEly1q9fP/Tu3RspKSkYNWoUpkyZYvLvxNnZGTExMTh16hSioqLw7bffYtGiRQZlzp8/j7Vr1+L333/Hli1b8Ndff+Htt98Wj69evRozZszAxx9/jNOnT2Pu3LmYPn06Vq5caXI8RFRDBCJ6bIWGhgp9+vQRBEEQ9Hq9EB8fLygUCmHChAnicXd3d6GwsFA85/vvvxdatGgh6PV6cV9hYaFgb28vbN26VRAEQfD09BTmz58vHi8qKhIaNmwoXksQBKFLly7CuHHjBEEQhNTUVAGAEB8fX26cu3btEgAIt27dEvcVFBQIDg4Owv79+w3Kjhw5Uhg0aJAgCIIwdepUwd/f3+D45MmTy9R1PwDCr7/+avT4ggULhMDAQPH1hx9+KFhbWwuXL18W923evFmwsrISMjMzBUEQhCeeeEJYs2aNQT1z5swR1Gq1IAiCkJaWJgAQ/vrrL6PXJaKaxTE9RI+52NhYODk5oaioCHq9Hq+//jpmzpwpHg8ICDAYx3P06FGcP38ezs7OBvUUFBTgwoULyM3NRWZmJjp06CAes7GxQfv27ct0cZVKSUmBtbU1unTpUuG4z58/jzt37uCFF14w2K/VatG2bVsAwOnTpw3iAAC1Wl3ha5T6+eefsWTJEly4cAF5eXkoLi6GUqk0KNOoUSM0aNDA4Dp6vR6pqalwdnbGhQsXMHLkSLz55ptimeLiYqhUKpPjIaKawaSH6DHXrVs3fPXVV5DL5fDy8oKNjeHH2tHR0eB1Xl4eAgMDsXr16jJ11a9fv1Ix2Nvbm3xOXl4eACAuLs4g2QBKxilVlaSkJAwePBizZs1CcHAwVCoVfvrpJyxcuNDkWL/99tsySZi1tXWVxUpE1YtJD9FjztHREU2bNq1w+Xbt2uHnn3+Gm5tbmdaOUp6enjh48CCee+45ACUtGsnJyWjXrl255QMCAqDX65GYmIgePXqUOV7a0qTT6cR9/v7+UCgUSE9PN9pC5OfnJw7KLnXgwIGH3+Q99u/fDx8fH3zwwQfivr///rtMufT0dFy9ehVeXl7idaysrNCiRQu4u7vDy8sLFy9exODBg026PhHVHhzITGRhBg8ejHr16qFPnz7Ys2cP0tLSkJCQgHfffReXL18GAIwbNw7z5s3Dxo0bcebMGbz99tsPXGOncePGCA0NxYgRI7Bx40axzrVr1wIAfHx8IJPJEBsbi+vXryMvLw/Ozs6YMGECIiIisHLlSly4cAFHjhzB0qVLxcHBY8aMwblz5zBx4kSkpqZizZo1iImJMel+mzVrhvT0dPz000+4cOEClixZUu6gbDs7O4SGhuLo0aPYs2cP3n33XQwYMAAeHh4AgFmzZiEyMhJLlizB2bNncfz4caxYsQKfffaZSfEQUc1h0kNkYRwcHLB79240atQI/fr1g5+fH0aOHImCggKx5ee9997D0KFDERoaCrVaDWdnZ7zyyisPrPerr77Cq6++irfffhstW7bEm2++ifz8fABAgwYNMGvWLEyZMgXu7u4YO3YsAGDOnDmYPn06IiMj4efnh549eyIuLg6+vr4ASsbZbNiwARs3bkTr1q0RHR2NuXPnmnS/L7/8MiIiIjB27Fi0adMG+/fvx/Tp08uUa9q0Kfr164cXX3wRQUFBaNWqlcGU9FGjRmHZsmVYsWIFAgIC0KVLF8TExIixElHtJxOMjUwkIiIikhC29BAREZFFYNJDREREFoFJDxEREVkEJj1ERERkEZj0EBERkUVg0kNEREQWgUkPERERWQQmPURERGQRmPQQERGRRWDSQ0RERBaBSQ8RERFZhP8H2ikJJj5L0hAAAAAASUVORK5CYII=",
      "text/plain": [
<<<<<<< HEAD
       "<Figure size 640x480 with 2 Axes>"
      ]
     },
=======
       "array([0, 0, 0, 0, 1, 0, 0, 1, 0, 1, 1, 0, 0, 0, 1, 0, 0, 0, 0, 0, 0, 1,\n",
       "       1, 0, 0, 0, 0, 1, 1, 0, 0, 0, 1, 0, 0, 1, 0, 0, 1, 1, 0, 0, 0, 0,\n",
       "       0, 0, 0, 0, 0, 0, 0, 1, 0, 1, 0, 0, 0, 0, 1, 0, 0, 0, 0, 0, 0, 1,\n",
       "       0, 0, 0, 0, 0, 0, 0, 0, 0, 1, 0, 0, 0, 0, 0, 1, 1, 1, 0, 0, 0, 0,\n",
       "       0, 0])"
      ]
     },
     "execution_count": 45,
>>>>>>> 08f785dc4e9d2582dfe7b8b6b7863df5a5b25a9b
     "metadata": {},
     "output_type": "display_data"
    }
   ],
   "source": [
    "plot_cm(y_test_rel, rel_pred, labels=[\"unrelated\", \"related\"])"
   ]
  },
  {
   "cell_type": "code",
   "execution_count": 59,
   "metadata": {},
   "outputs": [],
   "source": [
    "param_cls = {\n",
    "    'eta': 0.3, \n",
    "    'max_depth': 20,\n",
    "    'num_class': 3\n",
    "    } \n",
    "\n",
    "steps = 100  # The number of training iterations"
   ]
  },
  {
   "cell_type": "code",
   "execution_count": 64,
   "metadata": {},
   "outputs": [],
   "source": [
    "cls_classifier = xgb.train(param_cls, D_train_cls, steps)"
   ]
  },
  {
   "cell_type": "code",
<<<<<<< HEAD
   "execution_count": 81,
   "metadata": {},
   "outputs": [
    {
     "name": "stdout",
     "output_type": "stream",
     "text": [
      "Precision = 0.8936086406010425\n",
      "Recall = 0.8731588057927628\n",
      "Accuracy = 0.9428141459744168\n",
      "Balanced accuracy = 0.8731588057927628\n"
     ]
    }
   ],
   "source": [
    "cls_pred = cls_classifier.predict(D_test_cls)\n",
    "print_metrics(y_test_cls, cls_pred, average=\"macro\")"
   ]
  },
  {
   "cell_type": "code",
   "execution_count": 82,
=======
   "execution_count": 46,
>>>>>>> 08f785dc4e9d2582dfe7b8b6b7863df5a5b25a9b
   "metadata": {},
   "outputs": [
    {
     "data": {
      "image/png": "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",
      "text/plain": [
<<<<<<< HEAD
       "<Figure size 640x480 with 2 Axes>"
      ]
     },
=======
       "array([0, 0, 0, 0, 1, 0, 0, 1, 0, 1, 1, 0, 0, 0, 1, 0, 0, 0, 0, 0, 0, 1,\n",
       "       1, 0, 0, 0, 0, 0, 1, 0, 0, 0, 1, 0, 0, 1, 0, 0, 1, 1, 0, 0, 0, 0,\n",
       "       0, 0, 0, 0, 0, 0, 0, 1, 0, 1, 0, 0, 0, 0, 1, 0, 0, 0, 0, 0, 0, 1,\n",
       "       0, 0, 0, 0, 0, 0, 0, 0, 0, 1, 0, 0, 0, 0, 0, 1, 1, 1, 0, 0, 0, 0,\n",
       "       0, 0])"
      ]
     },
     "execution_count": 46,
>>>>>>> 08f785dc4e9d2582dfe7b8b6b7863df5a5b25a9b
     "metadata": {},
     "output_type": "display_data"
    }
   ],
   "source": [
    "plot_cm(y_test_cls, cls_pred, labels=cls_labels)"
   ]
  },
  {
   "cell_type": "code",
   "execution_count": 53,
   "metadata": {},
   "outputs": [],
   "source": [
    "# Dodac pipeline"
   ]
  },
  {
   "cell_type": "code",
   "execution_count": 47,
   "metadata": {},
   "outputs": [],
   "source": [
    "param_cls = {\n",
    "    'eta': 0.3, \n",
    "    'max_depth': 20,\n",
    "    'num_class': 3\n",
    "    } \n",
    "\n",
    "steps = 100  # The number of training iterations"
   ]
  },
  {
   "cell_type": "code",
   "execution_count": 48,
   "metadata": {},
   "outputs": [],
   "source": [
    "model_cls = xgb.train(param_cls, D_train_cls, steps)"
   ]
  },
  {
   "cell_type": "code",
   "execution_count": 49,
   "metadata": {},
   "outputs": [
    {
     "name": "stdout",
     "output_type": "stream",
     "text": [
      "Precision = 0.8659209374717188\n",
      "Recall = 0.8409966132447281\n",
      "Accuracy = 0.9324571011317999\n",
      "Balanced accuracy = 0.8409966132447281\n"
     ]
    }
   ],
   "source": [
    "preds_cls = model_cls.predict(D_test_cls)\n",
    "print(\"Precision = {}\".format(precision_score(y_test_cls, preds_cls, average='macro')))\n",
    "print(\"Recall = {}\".format(recall_score(y_test_cls, preds_cls, average='macro')))\n",
    "print(\"Accuracy = {}\".format(accuracy_score(y_test_cls, preds_cls)))\n",
    "print(\"Balanced accuracy = {}\".format(balanced_accuracy_score(y_test_cls, preds_cls)))"
   ]
  },
  {
   "cell_type": "code",
   "execution_count": 54,
   "metadata": {},
   "outputs": [],
   "source": [
    "from sklearn.metrics import confusion_matrix, ConfusionMatrixDisplay"
   ]
  },
  {
   "cell_type": "code",
   "execution_count": 55,
   "metadata": {},
   "outputs": [],
   "source": [
    "cm = confusion_matrix(y_test_cls, preds_cls)"
   ]
  },
  {
   "cell_type": "code",
   "execution_count": 56,
   "metadata": {},
   "outputs": [],
   "source": [
    "disp = ConfusionMatrixDisplay(cm, display_labels=cls_labels)"
   ]
  },
  {
   "cell_type": "code",
   "execution_count": 57,
   "metadata": {},
   "outputs": [
    {
     "data": {
      "text/plain": [
       "<sklearn.metrics._plot.confusion_matrix.ConfusionMatrixDisplay at 0x1d8eccf2dd0>"
      ]
     },
     "execution_count": 57,
     "metadata": {},
     "output_type": "execute_result"
    },
    {
     "data": {
      "image/png": "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",
      "text/plain": [
       "<Figure size 640x480 with 2 Axes>"
      ]
     },
     "metadata": {},
     "output_type": "display_data"
    }
   ],
   "source": [
    "disp.plot()"
   ]
  },
  {
   "cell_type": "code",
   "execution_count": null,
   "metadata": {},
   "outputs": [],
   "source": []
  }
 ],
 "metadata": {
  "kernelspec": {
   "display_name": "Python 3.10.4 ('venv': venv)",
   "language": "python",
   "name": "python3"
  },
  "language_info": {
   "codemirror_mode": {
    "name": "ipython",
    "version": 3
   },
   "file_extension": ".py",
   "mimetype": "text/x-python",
   "name": "python",
   "nbconvert_exporter": "python",
   "pygments_lexer": "ipython3",
   "version": "3.10.4"
  },
  "orig_nbformat": 4,
  "vscode": {
   "interpreter": {
    "hash": "94b3bfe163e1866afd3b3db8ecc20722c474becdc4507c570d23aead5fc9a2bd"
   }
  }
 },
 "nbformat": 4,
 "nbformat_minor": 2
}
