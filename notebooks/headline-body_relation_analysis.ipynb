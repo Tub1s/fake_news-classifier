{
 "cells": [
  {
   "cell_type": "code",
   "execution_count": 15,
   "metadata": {},
   "outputs": [],
   "source": [
    "# Utility \n",
    "from typing import List\n",
    "\n",
    "# Data manipulation\n",
    "import pandas as pd\n",
    "import numpy as np\n",
    "\n",
    "# Scientific\n",
    "from scipy.sparse import hstack\n",
    "from scipy.sparse import csr_matrix\n",
    "\n",
    "# Machine learning\n",
    "import xgboost as xgb\n",
    "from xgboost import XGBClassifier\n",
    "\n",
    "from sklearn.model_selection import train_test_split\n",
    "from sklearn.feature_extraction.text import TfidfVectorizer\n",
    "from sklearn.metrics import precision_score, recall_score, accuracy_score, balanced_accuracy_score, confusion_matrix, ConfusionMatrixDisplay\n",
    "from sklearn.preprocessing import LabelEncoder"
   ]
  },
  {
   "cell_type": "markdown",
   "metadata": {},
   "source": [
    "We begin by reading data from `bodies.csv` and `stances.csv`."
   ]
  },
  {
   "cell_type": "code",
   "execution_count": 16,
   "metadata": {},
   "outputs": [],
   "source": [
    "bodies = pd.read_csv(\"../data/bodies.csv\", )\n",
    "stances = pd.read_csv(\"../data/stances.csv\")"
   ]
  },
  {
   "cell_type": "code",
   "execution_count": 17,
   "metadata": {},
   "outputs": [
    {
     "data": {
      "text/html": [
       "<div>\n",
       "<style scoped>\n",
       "    .dataframe tbody tr th:only-of-type {\n",
       "        vertical-align: middle;\n",
       "    }\n",
       "\n",
       "    .dataframe tbody tr th {\n",
       "        vertical-align: top;\n",
       "    }\n",
       "\n",
       "    .dataframe thead th {\n",
       "        text-align: right;\n",
       "    }\n",
       "</style>\n",
       "<table border=\"1\" class=\"dataframe\">\n",
       "  <thead>\n",
       "    <tr style=\"text-align: right;\">\n",
       "      <th></th>\n",
       "      <th>Body ID</th>\n",
       "      <th>articleBody</th>\n",
       "    </tr>\n",
       "  </thead>\n",
       "  <tbody>\n",
       "    <tr>\n",
       "      <th>0</th>\n",
       "      <td>0</td>\n",
       "      <td>A small meteorite crashed into a wooded area i...</td>\n",
       "    </tr>\n",
       "    <tr>\n",
       "      <th>1</th>\n",
       "      <td>4</td>\n",
       "      <td>Last week we hinted at what was to come as Ebo...</td>\n",
       "    </tr>\n",
       "    <tr>\n",
       "      <th>2</th>\n",
       "      <td>5</td>\n",
       "      <td>(NEWSER) – Wonder how long a Quarter Pounder w...</td>\n",
       "    </tr>\n",
       "    <tr>\n",
       "      <th>3</th>\n",
       "      <td>6</td>\n",
       "      <td>Posting photos of a gun-toting child online, I...</td>\n",
       "    </tr>\n",
       "    <tr>\n",
       "      <th>4</th>\n",
       "      <td>7</td>\n",
       "      <td>At least 25 suspected Boko Haram insurgents we...</td>\n",
       "    </tr>\n",
       "    <tr>\n",
       "      <th>...</th>\n",
       "      <td>...</td>\n",
       "      <td>...</td>\n",
       "    </tr>\n",
       "    <tr>\n",
       "      <th>1678</th>\n",
       "      <td>2528</td>\n",
       "      <td>Intelligence agencies hunting for identity of ...</td>\n",
       "    </tr>\n",
       "    <tr>\n",
       "      <th>1679</th>\n",
       "      <td>2529</td>\n",
       "      <td>While Daleks \"know no fear\" and \"must not fear...</td>\n",
       "    </tr>\n",
       "    <tr>\n",
       "      <th>1680</th>\n",
       "      <td>2530</td>\n",
       "      <td>More than 200 schoolgirls were kidnapped in Ap...</td>\n",
       "    </tr>\n",
       "    <tr>\n",
       "      <th>1681</th>\n",
       "      <td>2531</td>\n",
       "      <td>A Guantanamo Bay prisoner released last year a...</td>\n",
       "    </tr>\n",
       "    <tr>\n",
       "      <th>1682</th>\n",
       "      <td>2532</td>\n",
       "      <td>ANN ARBOR, Mich. – A pizza delivery man in Mic...</td>\n",
       "    </tr>\n",
       "  </tbody>\n",
       "</table>\n",
       "<p>1683 rows × 2 columns</p>\n",
       "</div>"
      ],
      "text/plain": [
       "      Body ID                                        articleBody\n",
       "0           0  A small meteorite crashed into a wooded area i...\n",
       "1           4  Last week we hinted at what was to come as Ebo...\n",
       "2           5  (NEWSER) – Wonder how long a Quarter Pounder w...\n",
       "3           6  Posting photos of a gun-toting child online, I...\n",
       "4           7  At least 25 suspected Boko Haram insurgents we...\n",
       "...       ...                                                ...\n",
       "1678     2528  Intelligence agencies hunting for identity of ...\n",
       "1679     2529  While Daleks \"know no fear\" and \"must not fear...\n",
       "1680     2530  More than 200 schoolgirls were kidnapped in Ap...\n",
       "1681     2531  A Guantanamo Bay prisoner released last year a...\n",
       "1682     2532  ANN ARBOR, Mich. – A pizza delivery man in Mic...\n",
       "\n",
       "[1683 rows x 2 columns]"
      ]
     },
     "execution_count": 17,
     "metadata": {},
     "output_type": "execute_result"
    }
   ],
   "source": [
    "bodies"
   ]
  },
  {
   "cell_type": "code",
   "execution_count": 18,
   "metadata": {},
   "outputs": [
    {
     "data": {
      "text/plain": [
       "<bound method NDFrame.head of                                                 Headline  Body ID     Stance\n",
       "0      Police find mass graves with at least '15 bodi...      712  unrelated\n",
       "1      Hundreds of Palestinians flee floods in Gaza a...      158      agree\n",
       "2      Christian Bale passes on role of Steve Jobs, a...      137  unrelated\n",
       "3      HBO and Apple in Talks for $15/Month Apple TV ...     1034  unrelated\n",
       "4      Spider burrowed through tourist's stomach and ...     1923   disagree\n",
       "...                                                  ...      ...        ...\n",
       "49967  Urgent: The Leader of ISIL 'Abu Bakr al-Baghda...     1681  unrelated\n",
       "49968  Brian Williams slams social media for speculat...     2419  unrelated\n",
       "49969  Mexico Says Missing Students Not Found In Firs...     1156      agree\n",
       "49970  US Lawmaker: Ten ISIS Fighters Have Been Appre...     1012    discuss\n",
       "49971  Shots Heard In Alleged Brown Shooting Recordin...     2044  unrelated\n",
       "\n",
       "[49972 rows x 3 columns]>"
      ]
     },
     "execution_count": 18,
     "metadata": {},
     "output_type": "execute_result"
    }
   ],
   "source": [
    "stances.head"
   ]
  },
  {
   "cell_type": "markdown",
   "metadata": {},
   "source": [
    "Our dataset consists of __1683__ unique article bodies and __49972__ matching headlines.  \n",
    "We can see that both DataFrames share __Body ID__ column which will be necessary for combining those tables into one DataFrame.  \n",
    "We are renaming columns for consistency."
   ]
  },
  {
   "cell_type": "code",
   "execution_count": 19,
   "metadata": {},
   "outputs": [],
   "source": [
    "bodies = bodies.rename(columns={\"Body ID\": \"body_id\", \"articleBody\": \"article_body\"})\n",
    "stances = stances.rename(columns={\"Body ID\": \"body_id\"})\n",
    "stances.columns = stances.columns.str.lower()"
   ]
  },
  {
   "cell_type": "code",
   "execution_count": 20,
   "metadata": {},
   "outputs": [
    {
     "data": {
      "text/plain": [
       "array(['body_id', 'article_body'], dtype=object)"
      ]
     },
     "execution_count": 20,
     "metadata": {},
     "output_type": "execute_result"
    }
   ],
   "source": [
    "bodies.columns.values"
   ]
  },
  {
   "cell_type": "code",
   "execution_count": 21,
   "metadata": {},
   "outputs": [
    {
     "data": {
      "text/plain": [
       "array(['headline', 'body_id', 'stance'], dtype=object)"
      ]
     },
     "execution_count": 21,
     "metadata": {},
     "output_type": "execute_result"
    }
   ],
   "source": [
    "stances.columns.values"
   ]
  },
  {
   "cell_type": "code",
   "execution_count": 22,
   "metadata": {},
   "outputs": [],
   "source": [
    "stances_uniqe_body_ids = np.unique(stances.body_id.values)"
   ]
  },
  {
   "cell_type": "markdown",
   "metadata": {},
   "source": [
    "We are making sure that number of unique __body_ids__ match between both frames."
   ]
  },
  {
   "cell_type": "code",
   "execution_count": 23,
   "metadata": {},
   "outputs": [
    {
     "name": "stdout",
     "output_type": "stream",
     "text": [
      "Matching body_ids?\n"
     ]
    },
    {
     "data": {
      "text/plain": [
       "True"
      ]
     },
     "execution_count": 23,
     "metadata": {},
     "output_type": "execute_result"
    }
   ],
   "source": [
    "print(\"Matching body_ids?\")\n",
    "sorted(bodies.body_id.values) == sorted(stances_uniqe_body_ids)"
   ]
  },
  {
   "cell_type": "markdown",
   "metadata": {},
   "source": [
    "Dataset consists of 4 stances across all headlines:\n",
    "- agree: headline and body are related and agree (e.g. positive headline and positive body)\n",
    "- disagree: headline and body are related and disagree (e.g. positive headline and negative body)\n",
    "- discuss: headline and body are related but neither agree or disagree (e.g. question in headline)\n",
    "- unrelated: headline and body are not related"
   ]
  },
  {
   "cell_type": "code",
   "execution_count": 24,
   "metadata": {},
   "outputs": [
    {
     "name": "stdout",
     "output_type": "stream",
     "text": [
      "Unique stances: ['agree' 'disagree' 'discuss' 'unrelated']\n"
     ]
    }
   ],
   "source": [
    "print(f\"Unique stances: {np.unique(stances.stance)}\")"
   ]
  },
  {
   "cell_type": "markdown",
   "metadata": {},
   "source": [
    "We join both DataFrames on __body_id__ column."
   ]
  },
  {
   "cell_type": "code",
   "execution_count": 25,
   "metadata": {},
   "outputs": [],
   "source": [
    "df = pd.merge(bodies, stances, on=\"body_id\")"
   ]
  },
  {
   "cell_type": "markdown",
   "metadata": {},
   "source": [
    "As we can see our final dataset consists of mostly unrelated headline-body combinations.  \n",
    "This means that dataset is __imbalanced__.  \n",
    "\n",
    "It's important to note that each unique body has several combinations."
   ]
  },
  {
   "cell_type": "code",
   "execution_count": 26,
   "metadata": {},
   "outputs": [
    {
     "name": "stdout",
     "output_type": "stream",
     "text": [
      "Class split in the dataset\n"
     ]
    },
    {
     "data": {
      "text/plain": [
       "unrelated    36545\n",
       "discuss       8909\n",
       "agree         3678\n",
       "disagree       840\n",
       "Name: stance, dtype: int64"
      ]
     },
     "execution_count": 26,
     "metadata": {},
     "output_type": "execute_result"
    }
   ],
   "source": [
    "print(\"Class split in the dataset\")\n",
    "df['stance'].value_counts()"
   ]
  },
  {
   "cell_type": "code",
   "execution_count": 27,
   "metadata": {},
   "outputs": [
    {
     "name": "stdout",
     "output_type": "stream",
     "text": [
      "Class split in the dataset (% of all labels)\n"
     ]
    },
    {
     "data": {
      "text/plain": [
       "unrelated    73.130953\n",
       "discuss      17.827984\n",
       "agree         7.360122\n",
       "disagree      1.680941\n",
       "Name: stance, dtype: float64"
      ]
     },
     "execution_count": 27,
     "metadata": {},
     "output_type": "execute_result"
    }
   ],
   "source": [
    "print(\"Class split in the dataset (% of all labels)\")\n",
    "df['stance'].value_counts(normalize=True) * 100"
   ]
  },
  {
   "cell_type": "code",
   "execution_count": 28,
   "metadata": {},
   "outputs": [
    {
     "data": {
      "text/html": [
       "<div>\n",
       "<style scoped>\n",
       "    .dataframe tbody tr th:only-of-type {\n",
       "        vertical-align: middle;\n",
       "    }\n",
       "\n",
       "    .dataframe tbody tr th {\n",
       "        vertical-align: top;\n",
       "    }\n",
       "\n",
       "    .dataframe thead th {\n",
       "        text-align: right;\n",
       "    }\n",
       "</style>\n",
       "<table border=\"1\" class=\"dataframe\">\n",
       "  <thead>\n",
       "    <tr style=\"text-align: right;\">\n",
       "      <th></th>\n",
       "      <th>body_id</th>\n",
       "      <th>article_body</th>\n",
       "      <th>headline</th>\n",
       "      <th>stance</th>\n",
       "    </tr>\n",
       "  </thead>\n",
       "  <tbody>\n",
       "    <tr>\n",
       "      <th>0</th>\n",
       "      <td>0</td>\n",
       "      <td>A small meteorite crashed into a wooded area i...</td>\n",
       "      <td>Soldier shot, Parliament locked down after gun...</td>\n",
       "      <td>unrelated</td>\n",
       "    </tr>\n",
       "    <tr>\n",
       "      <th>1</th>\n",
       "      <td>0</td>\n",
       "      <td>A small meteorite crashed into a wooded area i...</td>\n",
       "      <td>Tourist dubbed ‘Spider Man’ after spider burro...</td>\n",
       "      <td>unrelated</td>\n",
       "    </tr>\n",
       "    <tr>\n",
       "      <th>2</th>\n",
       "      <td>0</td>\n",
       "      <td>A small meteorite crashed into a wooded area i...</td>\n",
       "      <td>Luke Somers 'killed in failed rescue attempt i...</td>\n",
       "      <td>unrelated</td>\n",
       "    </tr>\n",
       "    <tr>\n",
       "      <th>3</th>\n",
       "      <td>0</td>\n",
       "      <td>A small meteorite crashed into a wooded area i...</td>\n",
       "      <td>BREAKING: Soldier shot at War Memorial in Ottawa</td>\n",
       "      <td>unrelated</td>\n",
       "    </tr>\n",
       "    <tr>\n",
       "      <th>4</th>\n",
       "      <td>0</td>\n",
       "      <td>A small meteorite crashed into a wooded area i...</td>\n",
       "      <td>Giant 8ft 9in catfish weighing 19 stone caught...</td>\n",
       "      <td>unrelated</td>\n",
       "    </tr>\n",
       "    <tr>\n",
       "      <th>...</th>\n",
       "      <td>...</td>\n",
       "      <td>...</td>\n",
       "      <td>...</td>\n",
       "      <td>...</td>\n",
       "    </tr>\n",
       "    <tr>\n",
       "      <th>49967</th>\n",
       "      <td>2532</td>\n",
       "      <td>ANN ARBOR, Mich. – A pizza delivery man in Mic...</td>\n",
       "      <td>Pizza delivery man gets tipped more than $2,00...</td>\n",
       "      <td>agree</td>\n",
       "    </tr>\n",
       "    <tr>\n",
       "      <th>49968</th>\n",
       "      <td>2532</td>\n",
       "      <td>ANN ARBOR, Mich. – A pizza delivery man in Mic...</td>\n",
       "      <td>Pizza delivery man gets $2,000 tip</td>\n",
       "      <td>agree</td>\n",
       "    </tr>\n",
       "    <tr>\n",
       "      <th>49969</th>\n",
       "      <td>2532</td>\n",
       "      <td>ANN ARBOR, Mich. – A pizza delivery man in Mic...</td>\n",
       "      <td>Luckiest Pizza Delivery Guy Ever Gets $2,000 Tip</td>\n",
       "      <td>agree</td>\n",
       "    </tr>\n",
       "    <tr>\n",
       "      <th>49970</th>\n",
       "      <td>2532</td>\n",
       "      <td>ANN ARBOR, Mich. – A pizza delivery man in Mic...</td>\n",
       "      <td>Ann Arbor pizza delivery driver surprised with...</td>\n",
       "      <td>agree</td>\n",
       "    </tr>\n",
       "    <tr>\n",
       "      <th>49971</th>\n",
       "      <td>2532</td>\n",
       "      <td>ANN ARBOR, Mich. – A pizza delivery man in Mic...</td>\n",
       "      <td>Ann Arbor pizza delivery driver surprised with...</td>\n",
       "      <td>agree</td>\n",
       "    </tr>\n",
       "  </tbody>\n",
       "</table>\n",
       "<p>49972 rows × 4 columns</p>\n",
       "</div>"
      ],
      "text/plain": [
       "       body_id                                       article_body  \\\n",
       "0            0  A small meteorite crashed into a wooded area i...   \n",
       "1            0  A small meteorite crashed into a wooded area i...   \n",
       "2            0  A small meteorite crashed into a wooded area i...   \n",
       "3            0  A small meteorite crashed into a wooded area i...   \n",
       "4            0  A small meteorite crashed into a wooded area i...   \n",
       "...        ...                                                ...   \n",
       "49967     2532  ANN ARBOR, Mich. – A pizza delivery man in Mic...   \n",
       "49968     2532  ANN ARBOR, Mich. – A pizza delivery man in Mic...   \n",
       "49969     2532  ANN ARBOR, Mich. – A pizza delivery man in Mic...   \n",
       "49970     2532  ANN ARBOR, Mich. – A pizza delivery man in Mic...   \n",
       "49971     2532  ANN ARBOR, Mich. – A pizza delivery man in Mic...   \n",
       "\n",
       "                                                headline     stance  \n",
       "0      Soldier shot, Parliament locked down after gun...  unrelated  \n",
       "1      Tourist dubbed ‘Spider Man’ after spider burro...  unrelated  \n",
       "2      Luke Somers 'killed in failed rescue attempt i...  unrelated  \n",
       "3       BREAKING: Soldier shot at War Memorial in Ottawa  unrelated  \n",
       "4      Giant 8ft 9in catfish weighing 19 stone caught...  unrelated  \n",
       "...                                                  ...        ...  \n",
       "49967  Pizza delivery man gets tipped more than $2,00...      agree  \n",
       "49968                 Pizza delivery man gets $2,000 tip      agree  \n",
       "49969   Luckiest Pizza Delivery Guy Ever Gets $2,000 Tip      agree  \n",
       "49970  Ann Arbor pizza delivery driver surprised with...      agree  \n",
       "49971  Ann Arbor pizza delivery driver surprised with...      agree  \n",
       "\n",
       "[49972 rows x 4 columns]"
      ]
     },
     "execution_count": 28,
     "metadata": {},
     "output_type": "execute_result"
    }
   ],
   "source": [
    "df"
   ]
  },
  {
   "cell_type": "markdown",
   "metadata": {},
   "source": [
    "For the purpose of this project we need to consider two stages of classification:\n",
    "1. Relation classifiaction\n",
    "2. Stance classification\n",
    "\n",
    "All combinations are first classified by __relation classifier__. If headline and body are __unrelated__ they are not further analyzed. In case combination is classified as __related__ it is fed into __stance classifier__ that returns type of relation between headline and body.\n",
    "\n",
    "In this step we create additional column that contains information about relation status of those features."
   ]
  },
  {
   "cell_type": "code",
   "execution_count": 29,
   "metadata": {},
   "outputs": [
    {
     "data": {
      "text/html": [
       "<div>\n",
       "<style scoped>\n",
       "    .dataframe tbody tr th:only-of-type {\n",
       "        vertical-align: middle;\n",
       "    }\n",
       "\n",
       "    .dataframe tbody tr th {\n",
       "        vertical-align: top;\n",
       "    }\n",
       "\n",
       "    .dataframe thead th {\n",
       "        text-align: right;\n",
       "    }\n",
       "</style>\n",
       "<table border=\"1\" class=\"dataframe\">\n",
       "  <thead>\n",
       "    <tr style=\"text-align: right;\">\n",
       "      <th></th>\n",
       "      <th>body_id</th>\n",
       "      <th>article_body</th>\n",
       "      <th>headline</th>\n",
       "      <th>stance</th>\n",
       "      <th>relation</th>\n",
       "    </tr>\n",
       "  </thead>\n",
       "  <tbody>\n",
       "    <tr>\n",
       "      <th>0</th>\n",
       "      <td>0</td>\n",
       "      <td>A small meteorite crashed into a wooded area i...</td>\n",
       "      <td>Soldier shot, Parliament locked down after gun...</td>\n",
       "      <td>unrelated</td>\n",
       "      <td>unrelated</td>\n",
       "    </tr>\n",
       "    <tr>\n",
       "      <th>1</th>\n",
       "      <td>0</td>\n",
       "      <td>A small meteorite crashed into a wooded area i...</td>\n",
       "      <td>Tourist dubbed ‘Spider Man’ after spider burro...</td>\n",
       "      <td>unrelated</td>\n",
       "      <td>unrelated</td>\n",
       "    </tr>\n",
       "    <tr>\n",
       "      <th>2</th>\n",
       "      <td>0</td>\n",
       "      <td>A small meteorite crashed into a wooded area i...</td>\n",
       "      <td>Luke Somers 'killed in failed rescue attempt i...</td>\n",
       "      <td>unrelated</td>\n",
       "      <td>unrelated</td>\n",
       "    </tr>\n",
       "    <tr>\n",
       "      <th>3</th>\n",
       "      <td>0</td>\n",
       "      <td>A small meteorite crashed into a wooded area i...</td>\n",
       "      <td>BREAKING: Soldier shot at War Memorial in Ottawa</td>\n",
       "      <td>unrelated</td>\n",
       "      <td>unrelated</td>\n",
       "    </tr>\n",
       "    <tr>\n",
       "      <th>4</th>\n",
       "      <td>0</td>\n",
       "      <td>A small meteorite crashed into a wooded area i...</td>\n",
       "      <td>Giant 8ft 9in catfish weighing 19 stone caught...</td>\n",
       "      <td>unrelated</td>\n",
       "      <td>unrelated</td>\n",
       "    </tr>\n",
       "    <tr>\n",
       "      <th>...</th>\n",
       "      <td>...</td>\n",
       "      <td>...</td>\n",
       "      <td>...</td>\n",
       "      <td>...</td>\n",
       "      <td>...</td>\n",
       "    </tr>\n",
       "    <tr>\n",
       "      <th>49967</th>\n",
       "      <td>2532</td>\n",
       "      <td>ANN ARBOR, Mich. – A pizza delivery man in Mic...</td>\n",
       "      <td>Pizza delivery man gets tipped more than $2,00...</td>\n",
       "      <td>agree</td>\n",
       "      <td>related</td>\n",
       "    </tr>\n",
       "    <tr>\n",
       "      <th>49968</th>\n",
       "      <td>2532</td>\n",
       "      <td>ANN ARBOR, Mich. – A pizza delivery man in Mic...</td>\n",
       "      <td>Pizza delivery man gets $2,000 tip</td>\n",
       "      <td>agree</td>\n",
       "      <td>related</td>\n",
       "    </tr>\n",
       "    <tr>\n",
       "      <th>49969</th>\n",
       "      <td>2532</td>\n",
       "      <td>ANN ARBOR, Mich. – A pizza delivery man in Mic...</td>\n",
       "      <td>Luckiest Pizza Delivery Guy Ever Gets $2,000 Tip</td>\n",
       "      <td>agree</td>\n",
       "      <td>related</td>\n",
       "    </tr>\n",
       "    <tr>\n",
       "      <th>49970</th>\n",
       "      <td>2532</td>\n",
       "      <td>ANN ARBOR, Mich. – A pizza delivery man in Mic...</td>\n",
       "      <td>Ann Arbor pizza delivery driver surprised with...</td>\n",
       "      <td>agree</td>\n",
       "      <td>related</td>\n",
       "    </tr>\n",
       "    <tr>\n",
       "      <th>49971</th>\n",
       "      <td>2532</td>\n",
       "      <td>ANN ARBOR, Mich. – A pizza delivery man in Mic...</td>\n",
       "      <td>Ann Arbor pizza delivery driver surprised with...</td>\n",
       "      <td>agree</td>\n",
       "      <td>related</td>\n",
       "    </tr>\n",
       "  </tbody>\n",
       "</table>\n",
       "<p>49972 rows × 5 columns</p>\n",
       "</div>"
      ],
      "text/plain": [
       "       body_id                                       article_body  \\\n",
       "0            0  A small meteorite crashed into a wooded area i...   \n",
       "1            0  A small meteorite crashed into a wooded area i...   \n",
       "2            0  A small meteorite crashed into a wooded area i...   \n",
       "3            0  A small meteorite crashed into a wooded area i...   \n",
       "4            0  A small meteorite crashed into a wooded area i...   \n",
       "...        ...                                                ...   \n",
       "49967     2532  ANN ARBOR, Mich. – A pizza delivery man in Mic...   \n",
       "49968     2532  ANN ARBOR, Mich. – A pizza delivery man in Mic...   \n",
       "49969     2532  ANN ARBOR, Mich. – A pizza delivery man in Mic...   \n",
       "49970     2532  ANN ARBOR, Mich. – A pizza delivery man in Mic...   \n",
       "49971     2532  ANN ARBOR, Mich. – A pizza delivery man in Mic...   \n",
       "\n",
       "                                                headline     stance   relation  \n",
       "0      Soldier shot, Parliament locked down after gun...  unrelated  unrelated  \n",
       "1      Tourist dubbed ‘Spider Man’ after spider burro...  unrelated  unrelated  \n",
       "2      Luke Somers 'killed in failed rescue attempt i...  unrelated  unrelated  \n",
       "3       BREAKING: Soldier shot at War Memorial in Ottawa  unrelated  unrelated  \n",
       "4      Giant 8ft 9in catfish weighing 19 stone caught...  unrelated  unrelated  \n",
       "...                                                  ...        ...        ...  \n",
       "49967  Pizza delivery man gets tipped more than $2,00...      agree    related  \n",
       "49968                 Pizza delivery man gets $2,000 tip      agree    related  \n",
       "49969   Luckiest Pizza Delivery Guy Ever Gets $2,000 Tip      agree    related  \n",
       "49970  Ann Arbor pizza delivery driver surprised with...      agree    related  \n",
       "49971  Ann Arbor pizza delivery driver surprised with...      agree    related  \n",
       "\n",
       "[49972 rows x 5 columns]"
      ]
     },
     "execution_count": 29,
     "metadata": {},
     "output_type": "execute_result"
    }
   ],
   "source": [
    "mappings = { key: \"related\" for key in [\"agree\", \"disagree\", \"discuss\"]}\n",
    "mappings.update({\"unrelated\": \"unrelated\"})\n",
    "df[\"relation\"] = df.apply(lambda row: mappings[row[\"stance\"]], axis=1)\n",
    "df"
   ]
  },
  {
   "cell_type": "markdown",
   "metadata": {},
   "source": [
    "Headline-body combinations that are related make up only about 27% of the whole dataset.\n",
    "In this project we will focus on utilzing dataset as it is, which means we won't utilize any __resampling strategies__."
   ]
  },
  {
   "cell_type": "code",
   "execution_count": 30,
   "metadata": {},
   "outputs": [
    {
     "name": "stdout",
     "output_type": "stream",
     "text": [
      "Class split for relation analysis\n"
     ]
    },
    {
     "data": {
      "text/plain": [
       "unrelated    36545\n",
       "related      13427\n",
       "Name: relation, dtype: int64"
      ]
     },
     "execution_count": 30,
     "metadata": {},
     "output_type": "execute_result"
    }
   ],
   "source": [
    "print(\"Class split for relation analysis\")\n",
    "df['relation'].value_counts()"
   ]
  },
  {
   "cell_type": "code",
   "execution_count": 31,
   "metadata": {},
   "outputs": [
    {
     "name": "stdout",
     "output_type": "stream",
     "text": [
      "Class split for relation analysis (% of all labels)\n"
     ]
    },
    {
     "data": {
      "text/plain": [
       "unrelated    73.130953\n",
       "related      26.869047\n",
       "Name: relation, dtype: float64"
      ]
     },
     "execution_count": 31,
     "metadata": {},
     "output_type": "execute_result"
    }
   ],
   "source": [
    "print(\"Class split for relation analysis (% of all labels)\")\n",
    "df['relation'].value_counts(normalize=True) * 100"
   ]
  },
  {
   "cell_type": "code",
   "execution_count": 32,
   "metadata": {},
   "outputs": [],
   "source": [
    "example_unrelated = df[df[\"relation\"] == \"unrelated\"].first_valid_index()\n",
    "example_related = df[df[\"relation\"] == \"related\"].first_valid_index()"
   ]
  },
  {
   "cell_type": "code",
   "execution_count": 33,
   "metadata": {},
   "outputs": [],
   "source": [
    "def formatted_print(df, idx):\n",
    "    data = df.iloc[idx]\n",
    "    print(f\"Headline-Body relation: {data.relation.capitalize()}\")\n",
    "    print(\"---\")\n",
    "    print(data.headline)\n",
    "    print(\"---\")\n",
    "    print(data.article_body)"
   ]
  },
  {
   "cell_type": "code",
   "execution_count": 34,
   "metadata": {},
   "outputs": [
    {
     "name": "stdout",
     "output_type": "stream",
     "text": [
      "Headline-Body relation: Unrelated\n",
      "---\n",
      "Soldier shot, Parliament locked down after gunfire erupts at war memorial\n",
      "---\n",
      "A small meteorite crashed into a wooded area in Nicaragua's capital of Managua overnight, the government said Sunday. Residents reported hearing a mysterious boom that left a 16-foot deep crater near the city's airport, the Associated Press reports. \n",
      "\n",
      "Government spokeswoman Rosario Murillo said a committee formed by the government to study the event determined it was a \"relatively small\" meteorite that \"appears to have come off an asteroid that was passing close to Earth.\" House-sized asteroid 2014 RC, which measured 60 feet in diameter, skimmed the Earth this weekend, ABC News reports. \n",
      "Murillo said Nicaragua will ask international experts to help local scientists in understanding what happened.\n",
      "\n",
      "The crater left by the meteorite had a radius of 39 feet and a depth of 16 feet,  said Humberto Saballos, a volcanologist with the Nicaraguan Institute of Territorial Studies who was on the committee. He said it is still not clear if the meteorite disintegrated or was buried.\n",
      "\n",
      "Humberto Garcia, of the Astronomy Center at the National Autonomous University of Nicaragua, said the meteorite could be related to an asteroid that was forecast to pass by the planet Saturday night.\n",
      "\n",
      "\"We have to study it more because it could be ice or rock,\" he said.\n",
      "\n",
      "Wilfried Strauch, an adviser to the Institute of Territorial Studies, said it was \"very strange that no one reported a streak of light. We have to ask if anyone has a photo or something.\"\n",
      "\n",
      "Local residents reported hearing a loud boom Saturday night, but said they didn't see anything strange in the sky.\n",
      "\n",
      "\"I was sitting on my porch and I saw nothing, then all of a sudden I heard a large blast. We thought it was a bomb because we felt an expansive wave,\" Jorge Santamaria told The Associated Press.\n",
      "\n",
      "The site of the crater is near Managua's international airport and an air force base. Only journalists from state media were allowed to visit it.\n"
     ]
    }
   ],
   "source": [
    "formatted_print(df, example_unrelated)"
   ]
  },
  {
   "cell_type": "code",
   "execution_count": 35,
   "metadata": {},
   "outputs": [
    {
     "name": "stdout",
     "output_type": "stream",
     "text": [
      "Headline-Body relation: Related\n",
      "---\n",
      "Small Meteorite Strikes in Nicaragua's Capital City of Managua\n",
      "---\n",
      "A small meteorite crashed into a wooded area in Nicaragua's capital of Managua overnight, the government said Sunday. Residents reported hearing a mysterious boom that left a 16-foot deep crater near the city's airport, the Associated Press reports. \n",
      "\n",
      "Government spokeswoman Rosario Murillo said a committee formed by the government to study the event determined it was a \"relatively small\" meteorite that \"appears to have come off an asteroid that was passing close to Earth.\" House-sized asteroid 2014 RC, which measured 60 feet in diameter, skimmed the Earth this weekend, ABC News reports. \n",
      "Murillo said Nicaragua will ask international experts to help local scientists in understanding what happened.\n",
      "\n",
      "The crater left by the meteorite had a radius of 39 feet and a depth of 16 feet,  said Humberto Saballos, a volcanologist with the Nicaraguan Institute of Territorial Studies who was on the committee. He said it is still not clear if the meteorite disintegrated or was buried.\n",
      "\n",
      "Humberto Garcia, of the Astronomy Center at the National Autonomous University of Nicaragua, said the meteorite could be related to an asteroid that was forecast to pass by the planet Saturday night.\n",
      "\n",
      "\"We have to study it more because it could be ice or rock,\" he said.\n",
      "\n",
      "Wilfried Strauch, an adviser to the Institute of Territorial Studies, said it was \"very strange that no one reported a streak of light. We have to ask if anyone has a photo or something.\"\n",
      "\n",
      "Local residents reported hearing a loud boom Saturday night, but said they didn't see anything strange in the sky.\n",
      "\n",
      "\"I was sitting on my porch and I saw nothing, then all of a sudden I heard a large blast. We thought it was a bomb because we felt an expansive wave,\" Jorge Santamaria told The Associated Press.\n",
      "\n",
      "The site of the crater is near Managua's international airport and an air force base. Only journalists from state media were allowed to visit it.\n"
     ]
    }
   ],
   "source": [
    "formatted_print(df, example_related)"
   ]
  },
  {
   "cell_type": "markdown",
   "metadata": {},
   "source": [
    "We drop \"body_id\" column as it's no longer needed."
   ]
  },
  {
   "cell_type": "code",
   "execution_count": 36,
   "metadata": {},
   "outputs": [
    {
     "data": {
      "text/html": [
       "<div>\n",
       "<style scoped>\n",
       "    .dataframe tbody tr th:only-of-type {\n",
       "        vertical-align: middle;\n",
       "    }\n",
       "\n",
       "    .dataframe tbody tr th {\n",
       "        vertical-align: top;\n",
       "    }\n",
       "\n",
       "    .dataframe thead th {\n",
       "        text-align: right;\n",
       "    }\n",
       "</style>\n",
       "<table border=\"1\" class=\"dataframe\">\n",
       "  <thead>\n",
       "    <tr style=\"text-align: right;\">\n",
       "      <th></th>\n",
       "      <th>article_body</th>\n",
       "      <th>headline</th>\n",
       "      <th>stance</th>\n",
       "      <th>relation</th>\n",
       "    </tr>\n",
       "  </thead>\n",
       "  <tbody>\n",
       "    <tr>\n",
       "      <th>0</th>\n",
       "      <td>A small meteorite crashed into a wooded area i...</td>\n",
       "      <td>Soldier shot, Parliament locked down after gun...</td>\n",
       "      <td>unrelated</td>\n",
       "      <td>unrelated</td>\n",
       "    </tr>\n",
       "    <tr>\n",
       "      <th>1</th>\n",
       "      <td>A small meteorite crashed into a wooded area i...</td>\n",
       "      <td>Tourist dubbed ‘Spider Man’ after spider burro...</td>\n",
       "      <td>unrelated</td>\n",
       "      <td>unrelated</td>\n",
       "    </tr>\n",
       "    <tr>\n",
       "      <th>2</th>\n",
       "      <td>A small meteorite crashed into a wooded area i...</td>\n",
       "      <td>Luke Somers 'killed in failed rescue attempt i...</td>\n",
       "      <td>unrelated</td>\n",
       "      <td>unrelated</td>\n",
       "    </tr>\n",
       "    <tr>\n",
       "      <th>3</th>\n",
       "      <td>A small meteorite crashed into a wooded area i...</td>\n",
       "      <td>BREAKING: Soldier shot at War Memorial in Ottawa</td>\n",
       "      <td>unrelated</td>\n",
       "      <td>unrelated</td>\n",
       "    </tr>\n",
       "    <tr>\n",
       "      <th>4</th>\n",
       "      <td>A small meteorite crashed into a wooded area i...</td>\n",
       "      <td>Giant 8ft 9in catfish weighing 19 stone caught...</td>\n",
       "      <td>unrelated</td>\n",
       "      <td>unrelated</td>\n",
       "    </tr>\n",
       "    <tr>\n",
       "      <th>...</th>\n",
       "      <td>...</td>\n",
       "      <td>...</td>\n",
       "      <td>...</td>\n",
       "      <td>...</td>\n",
       "    </tr>\n",
       "    <tr>\n",
       "      <th>49967</th>\n",
       "      <td>ANN ARBOR, Mich. – A pizza delivery man in Mic...</td>\n",
       "      <td>Pizza delivery man gets tipped more than $2,00...</td>\n",
       "      <td>agree</td>\n",
       "      <td>related</td>\n",
       "    </tr>\n",
       "    <tr>\n",
       "      <th>49968</th>\n",
       "      <td>ANN ARBOR, Mich. – A pizza delivery man in Mic...</td>\n",
       "      <td>Pizza delivery man gets $2,000 tip</td>\n",
       "      <td>agree</td>\n",
       "      <td>related</td>\n",
       "    </tr>\n",
       "    <tr>\n",
       "      <th>49969</th>\n",
       "      <td>ANN ARBOR, Mich. – A pizza delivery man in Mic...</td>\n",
       "      <td>Luckiest Pizza Delivery Guy Ever Gets $2,000 Tip</td>\n",
       "      <td>agree</td>\n",
       "      <td>related</td>\n",
       "    </tr>\n",
       "    <tr>\n",
       "      <th>49970</th>\n",
       "      <td>ANN ARBOR, Mich. – A pizza delivery man in Mic...</td>\n",
       "      <td>Ann Arbor pizza delivery driver surprised with...</td>\n",
       "      <td>agree</td>\n",
       "      <td>related</td>\n",
       "    </tr>\n",
       "    <tr>\n",
       "      <th>49971</th>\n",
       "      <td>ANN ARBOR, Mich. – A pizza delivery man in Mic...</td>\n",
       "      <td>Ann Arbor pizza delivery driver surprised with...</td>\n",
       "      <td>agree</td>\n",
       "      <td>related</td>\n",
       "    </tr>\n",
       "  </tbody>\n",
       "</table>\n",
       "<p>49972 rows × 4 columns</p>\n",
       "</div>"
      ],
      "text/plain": [
       "                                            article_body  \\\n",
       "0      A small meteorite crashed into a wooded area i...   \n",
       "1      A small meteorite crashed into a wooded area i...   \n",
       "2      A small meteorite crashed into a wooded area i...   \n",
       "3      A small meteorite crashed into a wooded area i...   \n",
       "4      A small meteorite crashed into a wooded area i...   \n",
       "...                                                  ...   \n",
       "49967  ANN ARBOR, Mich. – A pizza delivery man in Mic...   \n",
       "49968  ANN ARBOR, Mich. – A pizza delivery man in Mic...   \n",
       "49969  ANN ARBOR, Mich. – A pizza delivery man in Mic...   \n",
       "49970  ANN ARBOR, Mich. – A pizza delivery man in Mic...   \n",
       "49971  ANN ARBOR, Mich. – A pizza delivery man in Mic...   \n",
       "\n",
       "                                                headline     stance   relation  \n",
       "0      Soldier shot, Parliament locked down after gun...  unrelated  unrelated  \n",
       "1      Tourist dubbed ‘Spider Man’ after spider burro...  unrelated  unrelated  \n",
       "2      Luke Somers 'killed in failed rescue attempt i...  unrelated  unrelated  \n",
       "3       BREAKING: Soldier shot at War Memorial in Ottawa  unrelated  unrelated  \n",
       "4      Giant 8ft 9in catfish weighing 19 stone caught...  unrelated  unrelated  \n",
       "...                                                  ...        ...        ...  \n",
       "49967  Pizza delivery man gets tipped more than $2,00...      agree    related  \n",
       "49968                 Pizza delivery man gets $2,000 tip      agree    related  \n",
       "49969   Luckiest Pizza Delivery Guy Ever Gets $2,000 Tip      agree    related  \n",
       "49970  Ann Arbor pizza delivery driver surprised with...      agree    related  \n",
       "49971  Ann Arbor pizza delivery driver surprised with...      agree    related  \n",
       "\n",
       "[49972 rows x 4 columns]"
      ]
     },
     "execution_count": 36,
     "metadata": {},
     "output_type": "execute_result"
    }
   ],
   "source": [
    "df = df.drop(columns=\"body_id\")\n",
    "df"
   ]
  },
  {
   "cell_type": "markdown",
   "metadata": {},
   "source": [
    "We split dataset into sets of __features X__ and __labels y__.\n",
    "\n",
    "Given nature of the project, we need to use two separate sets of labels for two stages of classification."
   ]
  },
  {
   "cell_type": "code",
   "execution_count": 37,
   "metadata": {},
   "outputs": [
    {
     "data": {
      "text/html": [
       "<div>\n",
       "<style scoped>\n",
       "    .dataframe tbody tr th:only-of-type {\n",
       "        vertical-align: middle;\n",
       "    }\n",
       "\n",
       "    .dataframe tbody tr th {\n",
       "        vertical-align: top;\n",
       "    }\n",
       "\n",
       "    .dataframe thead th {\n",
       "        text-align: right;\n",
       "    }\n",
       "</style>\n",
       "<table border=\"1\" class=\"dataframe\">\n",
       "  <thead>\n",
       "    <tr style=\"text-align: right;\">\n",
       "      <th></th>\n",
       "      <th>article_body</th>\n",
       "      <th>headline</th>\n",
       "    </tr>\n",
       "  </thead>\n",
       "  <tbody>\n",
       "    <tr>\n",
       "      <th>0</th>\n",
       "      <td>A small meteorite crashed into a wooded area i...</td>\n",
       "      <td>Soldier shot, Parliament locked down after gun...</td>\n",
       "    </tr>\n",
       "    <tr>\n",
       "      <th>1</th>\n",
       "      <td>A small meteorite crashed into a wooded area i...</td>\n",
       "      <td>Tourist dubbed ‘Spider Man’ after spider burro...</td>\n",
       "    </tr>\n",
       "    <tr>\n",
       "      <th>2</th>\n",
       "      <td>A small meteorite crashed into a wooded area i...</td>\n",
       "      <td>Luke Somers 'killed in failed rescue attempt i...</td>\n",
       "    </tr>\n",
       "    <tr>\n",
       "      <th>3</th>\n",
       "      <td>A small meteorite crashed into a wooded area i...</td>\n",
       "      <td>BREAKING: Soldier shot at War Memorial in Ottawa</td>\n",
       "    </tr>\n",
       "    <tr>\n",
       "      <th>4</th>\n",
       "      <td>A small meteorite crashed into a wooded area i...</td>\n",
       "      <td>Giant 8ft 9in catfish weighing 19 stone caught...</td>\n",
       "    </tr>\n",
       "    <tr>\n",
       "      <th>...</th>\n",
       "      <td>...</td>\n",
       "      <td>...</td>\n",
       "    </tr>\n",
       "    <tr>\n",
       "      <th>49967</th>\n",
       "      <td>ANN ARBOR, Mich. – A pizza delivery man in Mic...</td>\n",
       "      <td>Pizza delivery man gets tipped more than $2,00...</td>\n",
       "    </tr>\n",
       "    <tr>\n",
       "      <th>49968</th>\n",
       "      <td>ANN ARBOR, Mich. – A pizza delivery man in Mic...</td>\n",
       "      <td>Pizza delivery man gets $2,000 tip</td>\n",
       "    </tr>\n",
       "    <tr>\n",
       "      <th>49969</th>\n",
       "      <td>ANN ARBOR, Mich. – A pizza delivery man in Mic...</td>\n",
       "      <td>Luckiest Pizza Delivery Guy Ever Gets $2,000 Tip</td>\n",
       "    </tr>\n",
       "    <tr>\n",
       "      <th>49970</th>\n",
       "      <td>ANN ARBOR, Mich. – A pizza delivery man in Mic...</td>\n",
       "      <td>Ann Arbor pizza delivery driver surprised with...</td>\n",
       "    </tr>\n",
       "    <tr>\n",
       "      <th>49971</th>\n",
       "      <td>ANN ARBOR, Mich. – A pizza delivery man in Mic...</td>\n",
       "      <td>Ann Arbor pizza delivery driver surprised with...</td>\n",
       "    </tr>\n",
       "  </tbody>\n",
       "</table>\n",
       "<p>49972 rows × 2 columns</p>\n",
       "</div>"
      ],
      "text/plain": [
       "                                            article_body  \\\n",
       "0      A small meteorite crashed into a wooded area i...   \n",
       "1      A small meteorite crashed into a wooded area i...   \n",
       "2      A small meteorite crashed into a wooded area i...   \n",
       "3      A small meteorite crashed into a wooded area i...   \n",
       "4      A small meteorite crashed into a wooded area i...   \n",
       "...                                                  ...   \n",
       "49967  ANN ARBOR, Mich. – A pizza delivery man in Mic...   \n",
       "49968  ANN ARBOR, Mich. – A pizza delivery man in Mic...   \n",
       "49969  ANN ARBOR, Mich. – A pizza delivery man in Mic...   \n",
       "49970  ANN ARBOR, Mich. – A pizza delivery man in Mic...   \n",
       "49971  ANN ARBOR, Mich. – A pizza delivery man in Mic...   \n",
       "\n",
       "                                                headline  \n",
       "0      Soldier shot, Parliament locked down after gun...  \n",
       "1      Tourist dubbed ‘Spider Man’ after spider burro...  \n",
       "2      Luke Somers 'killed in failed rescue attempt i...  \n",
       "3       BREAKING: Soldier shot at War Memorial in Ottawa  \n",
       "4      Giant 8ft 9in catfish weighing 19 stone caught...  \n",
       "...                                                  ...  \n",
       "49967  Pizza delivery man gets tipped more than $2,00...  \n",
       "49968                 Pizza delivery man gets $2,000 tip  \n",
       "49969   Luckiest Pizza Delivery Guy Ever Gets $2,000 Tip  \n",
       "49970  Ann Arbor pizza delivery driver surprised with...  \n",
       "49971  Ann Arbor pizza delivery driver surprised with...  \n",
       "\n",
       "[49972 rows x 2 columns]"
      ]
     },
     "execution_count": 37,
     "metadata": {},
     "output_type": "execute_result"
    }
   ],
   "source": [
    "X, y = df[[\"article_body\", \"headline\"]], df[[\"stance\", \"relation\"]]\n",
    "X"
   ]
  },
  {
   "cell_type": "code",
   "execution_count": 38,
   "metadata": {},
   "outputs": [
    {
     "data": {
      "text/html": [
       "<div>\n",
       "<style scoped>\n",
       "    .dataframe tbody tr th:only-of-type {\n",
       "        vertical-align: middle;\n",
       "    }\n",
       "\n",
       "    .dataframe tbody tr th {\n",
       "        vertical-align: top;\n",
       "    }\n",
       "\n",
       "    .dataframe thead th {\n",
       "        text-align: right;\n",
       "    }\n",
       "</style>\n",
       "<table border=\"1\" class=\"dataframe\">\n",
       "  <thead>\n",
       "    <tr style=\"text-align: right;\">\n",
       "      <th></th>\n",
       "      <th>stance</th>\n",
       "      <th>relation</th>\n",
       "    </tr>\n",
       "  </thead>\n",
       "  <tbody>\n",
       "    <tr>\n",
       "      <th>0</th>\n",
       "      <td>unrelated</td>\n",
       "      <td>unrelated</td>\n",
       "    </tr>\n",
       "    <tr>\n",
       "      <th>1</th>\n",
       "      <td>unrelated</td>\n",
       "      <td>unrelated</td>\n",
       "    </tr>\n",
       "    <tr>\n",
       "      <th>2</th>\n",
       "      <td>unrelated</td>\n",
       "      <td>unrelated</td>\n",
       "    </tr>\n",
       "    <tr>\n",
       "      <th>3</th>\n",
       "      <td>unrelated</td>\n",
       "      <td>unrelated</td>\n",
       "    </tr>\n",
       "    <tr>\n",
       "      <th>4</th>\n",
       "      <td>unrelated</td>\n",
       "      <td>unrelated</td>\n",
       "    </tr>\n",
       "    <tr>\n",
       "      <th>...</th>\n",
       "      <td>...</td>\n",
       "      <td>...</td>\n",
       "    </tr>\n",
       "    <tr>\n",
       "      <th>49967</th>\n",
       "      <td>agree</td>\n",
       "      <td>related</td>\n",
       "    </tr>\n",
       "    <tr>\n",
       "      <th>49968</th>\n",
       "      <td>agree</td>\n",
       "      <td>related</td>\n",
       "    </tr>\n",
       "    <tr>\n",
       "      <th>49969</th>\n",
       "      <td>agree</td>\n",
       "      <td>related</td>\n",
       "    </tr>\n",
       "    <tr>\n",
       "      <th>49970</th>\n",
       "      <td>agree</td>\n",
       "      <td>related</td>\n",
       "    </tr>\n",
       "    <tr>\n",
       "      <th>49971</th>\n",
       "      <td>agree</td>\n",
       "      <td>related</td>\n",
       "    </tr>\n",
       "  </tbody>\n",
       "</table>\n",
       "<p>49972 rows × 2 columns</p>\n",
       "</div>"
      ],
      "text/plain": [
       "          stance   relation\n",
       "0      unrelated  unrelated\n",
       "1      unrelated  unrelated\n",
       "2      unrelated  unrelated\n",
       "3      unrelated  unrelated\n",
       "4      unrelated  unrelated\n",
       "...          ...        ...\n",
       "49967      agree    related\n",
       "49968      agree    related\n",
       "49969      agree    related\n",
       "49970      agree    related\n",
       "49971      agree    related\n",
       "\n",
       "[49972 rows x 2 columns]"
      ]
     },
     "execution_count": 38,
     "metadata": {},
     "output_type": "execute_result"
    }
   ],
   "source": [
    "y"
   ]
  },
  {
   "cell_type": "markdown",
   "metadata": {},
   "source": [
    "We start processing our data by splitting dataset into two subsets:\n",
    "- Train: used during training of our models\n",
    "- Test: used for measuring performance of trained models\n",
    "\n",
    "We use 80:20 split which means 20% of the original dataset will be used for testing purposes only.  \n",
    "To make sure repeated experiments will yield consistent results we set constant \"random_state\" value."
   ]
  },
  {
   "cell_type": "code",
   "execution_count": 39,
   "metadata": {},
   "outputs": [],
   "source": [
    "X_train, X_test, y_train, y_test = train_test_split(X, y, test_size = 0.2, random_state=0)"
   ]
  },
  {
   "cell_type": "code",
   "execution_count": 40,
   "metadata": {},
   "outputs": [
    {
     "data": {
      "text/plain": [
       "((39977, 2), (9995, 2))"
      ]
     },
     "execution_count": 40,
     "metadata": {},
     "output_type": "execute_result"
    }
   ],
   "source": [
    "y_train.shape, y_test.shape"
   ]
  },
  {
   "cell_type": "code",
   "execution_count": 41,
   "metadata": {},
   "outputs": [
    {
     "data": {
      "text/html": [
       "<div>\n",
       "<style scoped>\n",
       "    .dataframe tbody tr th:only-of-type {\n",
       "        vertical-align: middle;\n",
       "    }\n",
       "\n",
       "    .dataframe tbody tr th {\n",
       "        vertical-align: top;\n",
       "    }\n",
       "\n",
       "    .dataframe thead th {\n",
       "        text-align: right;\n",
       "    }\n",
       "</style>\n",
       "<table border=\"1\" class=\"dataframe\">\n",
       "  <thead>\n",
       "    <tr style=\"text-align: right;\">\n",
       "      <th></th>\n",
       "      <th>stance</th>\n",
       "      <th>relation</th>\n",
       "    </tr>\n",
       "  </thead>\n",
       "  <tbody>\n",
       "    <tr>\n",
       "      <th>13462</th>\n",
       "      <td>unrelated</td>\n",
       "      <td>unrelated</td>\n",
       "    </tr>\n",
       "    <tr>\n",
       "      <th>22169</th>\n",
       "      <td>unrelated</td>\n",
       "      <td>unrelated</td>\n",
       "    </tr>\n",
       "    <tr>\n",
       "      <th>9426</th>\n",
       "      <td>unrelated</td>\n",
       "      <td>unrelated</td>\n",
       "    </tr>\n",
       "    <tr>\n",
       "      <th>17403</th>\n",
       "      <td>unrelated</td>\n",
       "      <td>unrelated</td>\n",
       "    </tr>\n",
       "    <tr>\n",
       "      <th>13912</th>\n",
       "      <td>unrelated</td>\n",
       "      <td>unrelated</td>\n",
       "    </tr>\n",
       "    <tr>\n",
       "      <th>...</th>\n",
       "      <td>...</td>\n",
       "      <td>...</td>\n",
       "    </tr>\n",
       "    <tr>\n",
       "      <th>21243</th>\n",
       "      <td>unrelated</td>\n",
       "      <td>unrelated</td>\n",
       "    </tr>\n",
       "    <tr>\n",
       "      <th>45891</th>\n",
       "      <td>discuss</td>\n",
       "      <td>related</td>\n",
       "    </tr>\n",
       "    <tr>\n",
       "      <th>42613</th>\n",
       "      <td>discuss</td>\n",
       "      <td>related</td>\n",
       "    </tr>\n",
       "    <tr>\n",
       "      <th>43567</th>\n",
       "      <td>discuss</td>\n",
       "      <td>related</td>\n",
       "    </tr>\n",
       "    <tr>\n",
       "      <th>2732</th>\n",
       "      <td>agree</td>\n",
       "      <td>related</td>\n",
       "    </tr>\n",
       "  </tbody>\n",
       "</table>\n",
       "<p>39977 rows × 2 columns</p>\n",
       "</div>"
      ],
      "text/plain": [
       "          stance   relation\n",
       "13462  unrelated  unrelated\n",
       "22169  unrelated  unrelated\n",
       "9426   unrelated  unrelated\n",
       "17403  unrelated  unrelated\n",
       "13912  unrelated  unrelated\n",
       "...          ...        ...\n",
       "21243  unrelated  unrelated\n",
       "45891    discuss    related\n",
       "42613    discuss    related\n",
       "43567    discuss    related\n",
       "2732       agree    related\n",
       "\n",
       "[39977 rows x 2 columns]"
      ]
     },
     "execution_count": 41,
     "metadata": {},
     "output_type": "execute_result"
    }
   ],
   "source": [
    "y_train"
   ]
  },
  {
   "cell_type": "markdown",
   "metadata": {},
   "source": [
    "In this part we prepare two separate sets of labels for training and testing both __relation classifier__ and __stance classifier__.  \n",
    "Former requires labels based on \"relation\" column that, which have to be changed into binary format where related is represented by 1 and unrelated by 0.  \n",
    "Latter first requires dropping all rows that contain unrelated combinations and \"relation\" as it is not needed in second step of classification process. We drop unrelated combinations because we assume that for training and testing purpose we want to only interact with __correctly__ classified samples from first stage.  \n",
    "Finally we transform our labels into number form. We end up with three pairs of values:\n",
    "- agree -> 0\n",
    "- disagree -> 1\n",
    "- discuss -> 2\n",
    "\n",
    "In this step we need to extract indices of rows that contain related samples, as they will be necessary for __stance classifier__ testing as we will need to test only on samples that were correctly predicted by __relation classifier__."
   ]
  },
  {
   "cell_type": "code",
   "execution_count": 42,
   "metadata": {},
   "outputs": [
    {
     "data": {
      "text/plain": [
       "array(['agree', 'disagree', 'discuss'], dtype=object)"
      ]
     },
     "execution_count": 42,
     "metadata": {},
     "output_type": "execute_result"
    }
   ],
   "source": [
    "# Prepare labels for relation classifier training and testing \n",
    "y_train_rel = np.array(y_train[\"relation\"])\n",
    "y_train_rel = np.where(y_train_rel == \"related\", 1, 0)\n",
    "\n",
    "y_test_rel = np.array(y_test[\"relation\"])\n",
    "y_test_rel = np.where(y_test_rel == \"related\", 1, 0)\n",
    "\n",
    "\n",
    "# Find all rows that are contain related headline-body combinations\n",
    "y_train_cls = y_train[\"stance\"] != \"unrelated\"\n",
    "y_test_cls = y_test[\"stance\"] != \"unrelated\"\n",
    "\n",
    "# Extract index numbers for related headline-body combinations\n",
    "y_train_cls_indices = y_train_cls[y_train_cls].index\n",
    "y_test_cls_indices = y_test_cls[y_test_cls].index\n",
    "\n",
    "# Prepare labels for stance classifier training and testing\n",
    "y_train_cls = np.array(y_train.loc[y_train_cls].drop(columns=[\"relation\"])).ravel()\n",
    "y_test_cls = np.array(y_test.loc[y_test_cls].drop(columns=[\"relation\"])).ravel()\n",
    "\n",
    "# Perform encoding on stance classification labels\n",
    "label_encoder = LabelEncoder()\n",
    "y_train_cls = label_encoder.fit_transform(y_train_cls)\n",
    "y_test_cls = label_encoder.fit_transform(y_test_cls)\n",
    "cls_labels = label_encoder.classes_\n",
    "cls_labels"
   ]
  },
  {
   "cell_type": "code",
   "execution_count": 43,
   "metadata": {},
   "outputs": [],
   "source": [
    "# Create stance classification train and test subsets\n",
    "X_train_cls = X_train.loc[y_train_cls_indices]\n",
    "X_test_cls = X_test.loc[y_test_cls_indices]"
   ]
  },
  {
   "cell_type": "markdown",
   "metadata": {},
   "source": [
    "Last step in data preparation process will consist of several operations.  \n",
    "We will vectorize and process both __features__ (headline and article_body) separetly. \n",
    "For this project we use TF-IDF vectorizer that will remove stop words, split all words and turn them into lower case. Vectorizer will yield number of features matching number of unique words and each feature will contain TF-IDF value for that particular word, that is calculated based on how frequently word appears in dataset and number of documents in dataset.  \n",
    "Both headline and body vectorizers are fit only __once__ with full training dataset, and later only used to transform other subsets into the same representation. This way we avoid _leakage_ between train and test datsets. It's important to note that we need to save both vectorizers and with our model if we want to use our model in the future.  \n",
    "It's important to mention that we need to concatenate features extracted with both vectorizers into a single matrix, so that both are utilized in training.\n",
    "\n",
    "Other more sophisticated ways of feature extraction can be used to further increase performance of models."
   ]
  },
  {
   "cell_type": "code",
   "execution_count": 44,
   "metadata": {},
   "outputs": [],
   "source": [
    "class TFIDFTransform:\n",
    "    def __init__(self, headline_vectorizer, body_vectorizer):\n",
    "        self._headline_vectorizer = headline_vectorizer\n",
    "        self._body_vectorizer = body_vectorizer\n",
    "\n",
    "\n",
    "    def fit_transform(self, df):\n",
    "        headline, body = df[\"headline\"], df[\"article_body\"]\n",
    "\n",
    "        X_headline = self._headline_vectorizer.fit_transform(headline)\n",
    "        X_body = self._body_vectorizer.fit_transform(body)\n",
    "\n",
    "        X = hstack((X_headline, X_body))\n",
    "        return X\n",
    "\n",
    "    def transform(self, df):\n",
    "        headline, body = df[\"headline\"], df[\"article_body\"]\n",
    "\n",
    "        X_headline = self._headline_vectorizer.transform(headline)\n",
    "        X_body = self._body_vectorizer.transform(body)\n",
    "\n",
    "        X = hstack((X_headline, X_body))\n",
    "        return X"
   ]
  },
  {
   "cell_type": "code",
   "execution_count": 45,
   "metadata": {},
   "outputs": [],
   "source": [
    "headline_vectorizer = TfidfVectorizer(analyzer=\"word\", stop_words=\"english\", lowercase=True, token_pattern=r\"\\w+\")\n",
    "body_vectorizer = TfidfVectorizer(analyzer=\"word\", stop_words=\"english\", lowercase=True, token_pattern=r\"\\w+\")\n",
    "\n",
    "tfidf_transform = TFIDFTransform(headline_vectorizer=headline_vectorizer, body_vectorizer=body_vectorizer)"
   ]
  },
  {
   "cell_type": "code",
   "execution_count": 46,
   "metadata": {},
   "outputs": [],
   "source": [
    "X_train_rel_vec = tfidf_transform.fit_transform(X_train)\n",
    "X_train_cls_vec = tfidf_transform.transform(X_train_cls)\n",
    "X_test_rel_vec = tfidf_transform.transform(X_test)\n",
    "X_test_cls_vec = tfidf_transform.transform(X_test_cls)"
   ]
  },
  {
   "cell_type": "markdown",
   "metadata": {},
   "source": [
    "After vectorization we end up with 25950 features that will be used in classification."
   ]
  },
  {
   "cell_type": "code",
   "execution_count": 47,
   "metadata": {},
   "outputs": [
    {
     "data": {
      "text/plain": [
       "(39977, 26001)"
      ]
     },
     "execution_count": 47,
     "metadata": {},
     "output_type": "execute_result"
    }
   ],
   "source": [
    "X_train_rel_vec.shape"
   ]
  },
  {
   "cell_type": "code",
   "execution_count": 48,
   "metadata": {},
   "outputs": [
    {
     "data": {
      "text/plain": [
       "(9995, 26001)"
      ]
     },
     "execution_count": 48,
     "metadata": {},
     "output_type": "execute_result"
    }
   ],
   "source": [
    "X_test_rel_vec.shape"
   ]
  },
  {
   "cell_type": "markdown",
   "metadata": {},
   "source": [
    "In this short example we will utilize XGBoost algorithm thus we transform our data into relevant format."
   ]
  },
  {
   "cell_type": "code",
   "execution_count": 49,
   "metadata": {},
   "outputs": [],
   "source": [
    "D_train_rel = xgb.DMatrix(X_train_rel_vec, label=y_train_rel)\n",
    "D_test_rel = xgb.DMatrix(X_test_rel_vec, label=y_test_rel)\n",
    "\n",
    "D_train_cls = xgb.DMatrix(X_train_cls_vec, label=y_train_cls)\n",
    "D_test_cls = xgb.DMatrix(X_test_cls_vec, label=y_test_cls)"
   ]
  },
  {
   "cell_type": "code",
   "execution_count": 50,
   "metadata": {},
   "outputs": [
    {
     "data": {
      "text/plain": [
       "(10660,)"
      ]
     },
     "execution_count": 50,
     "metadata": {},
     "output_type": "execute_result"
    }
   ],
   "source": [
    "y_train_cls.shape"
   ]
  },
  {
   "cell_type": "code",
   "execution_count": 51,
   "metadata": {},
   "outputs": [
    {
     "data": {
      "text/plain": [
       "(39977,)"
      ]
     },
     "execution_count": 51,
     "metadata": {},
     "output_type": "execute_result"
    }
   ],
   "source": [
    "y_train_rel.shape"
   ]
  },
  {
   "cell_type": "code",
   "execution_count": 52,
   "metadata": {},
   "outputs": [],
   "source": [
    "def print_metrics(y_true: np.ndarray | List[int], y_pred: np.ndarray | List[int], average: str=\"binary\") -> None:\n",
    "    print(\"Precision = {}\".format(precision_score(y_true, y_pred, average=average)))\n",
    "    print(\"Recall = {}\".format(recall_score(y_true, y_pred, average=average)))\n",
    "    print(\"Accuracy = {}\".format(accuracy_score(y_true, y_pred)))\n",
    "    print(\"Balanced accuracy = {}\".format(balanced_accuracy_score(y_true, y_pred)))\n",
    "\n",
    "def plot_cm(y_true: np.ndarray | List[int], y_pred: np.ndarray | List[int], labels: List[str]) -> None:\n",
    "    cm = confusion_matrix(y_true, y_pred)\n",
    "    disp = ConfusionMatrixDisplay(cm, display_labels=labels)\n",
    "    disp.plot()"
   ]
  },
  {
   "cell_type": "code",
   "execution_count": 53,
   "metadata": {},
   "outputs": [],
   "source": [
    "# Booster hyper-parameters\n",
    "param = {\n",
    "    'eta': 0.3, \n",
    "    'max_depth': 12\n",
    "    } \n",
    "\n",
    "steps = 100  # The number of training iterations"
   ]
  },
  {
   "cell_type": "code",
   "execution_count": 54,
   "metadata": {},
   "outputs": [],
   "source": [
    "rel_classifier = xgb.train(param, D_train_rel, steps)"
   ]
  },
  {
   "cell_type": "markdown",
   "metadata": {},
   "source": [
    "As we can see basic model is correct in predicting which headline-body combinations are related in 90% of cases!  \n",
    "At this stage it's important to note that we are currently using __hold out__ strategy that might not show real performance of the model, because we can only see how well model works on __one specific subset__ of our whole dataset. To further investige performance we could use create training loop with different __seed__ values that we would use during train-test split, and average performance of our model across k different runs.  \n",
    "Another option would be to employ k-fold Cross-Valdiation strategy.  \n",
    "But even then internal model structure might vary because of probabilistic nature of machine learning."
   ]
  },
  {
   "cell_type": "code",
   "execution_count": 55,
   "metadata": {},
   "outputs": [
    {
     "name": "stdout",
     "output_type": "stream",
     "text": [
      "Precision = 0.9870283018867925\n",
      "Recall = 0.9074810263823636\n",
      "Accuracy = 0.9710855427713857\n",
      "Balanced accuracy = 0.951457724037889\n"
     ]
    }
   ],
   "source": [
    "rel_pred = rel_classifier.predict(D_test_rel)\n",
    "rel_pred = np.where(rel_pred < 0.5, 0, 1)\n",
    "\n",
    "print_metrics(y_test_rel, rel_pred)"
   ]
  },
  {
   "cell_type": "code",
   "execution_count": 56,
   "metadata": {},
   "outputs": [
    {
     "data": {
      "image/png": "[encoded data removed]",
      "text/plain": [
       "<Figure size 640x480 with 2 Axes>"
      ]
     },
     "metadata": {},
     "output_type": "display_data"
    }
   ],
   "source": [
    "plot_cm(y_test_rel, rel_pred, labels=[\"unrelated\", \"related\"])"
   ]
  },
  {
   "cell_type": "code",
   "execution_count": 57,
   "metadata": {},
   "outputs": [],
   "source": [
    "param_cls = {\n",
    "    'eta': 0.3, \n",
    "    'max_depth': 20,\n",
    "    'num_class': 3\n",
    "    } \n",
    "\n",
    "steps = 100  # The number of training iterations"
   ]
  },
  {
   "cell_type": "code",
   "execution_count": 58,
   "metadata": {},
   "outputs": [],
   "source": [
    "cls_classifier = xgb.train(param_cls, D_train_cls, steps)"
   ]
  },
  {
   "cell_type": "markdown",
   "metadata": {},
   "source": [
    "Stance classifier achieves about 85% of balanced accuracy (that considers how much imbalance there is between classes)."
   ]
  },
  {
   "cell_type": "code",
   "execution_count": 59,
   "metadata": {},
   "outputs": [
    {
     "name": "stdout",
     "output_type": "stream",
     "text": [
      "Precision = 0.8696302465319109\n",
      "Recall = 0.8463269241128498\n",
      "Accuracy = 0.9400072280448138\n",
      "Balanced accuracy = 0.8463269241128498\n"
     ]
    }
   ],
   "source": [
    "cls_pred = cls_classifier.predict(D_test_cls)\n",
    "print_metrics(y_test_cls, cls_pred, average=\"macro\")"
   ]
  },
  {
   "cell_type": "markdown",
   "metadata": {},
   "source": [
    "We can see that classifiers struggles the most with \"disagree\" stance which is least common in the dataset. We could try to find better combination of hyper-parameters to further increase quality of our model or consider experimenting with __resampling__ our dataset to lower class imbalance."
   ]
  },
  {
   "cell_type": "code",
   "execution_count": 60,
   "metadata": {},
   "outputs": [
    {
     "data": {
      "image/png": "[encoded data removed]",
      "text/plain": [
       "<Figure size 640x480 with 2 Axes>"
      ]
     },
     "metadata": {},
     "output_type": "display_data"
    }
   ],
   "source": [
    "plot_cm(y_test_cls, cls_pred, labels=cls_labels)"
   ]
  },
  {
   "cell_type": "markdown",
   "metadata": {},
   "source": [
    "In final step we build simple, global pipeline that will utilize our two models for predictions.  "
   ]
  },
  {
   "cell_type": "code",
   "execution_count": 61,
   "metadata": {},
   "outputs": [],
   "source": [
    "# Find array indices of correctly predicted labels that are also related from relation classifier\n",
    "def find_correct_related_predictions(y_test: List[int] | np.ndarray, y_pred: List[int] | np.ndarray) -> List[int]:\n",
    "    matching_indices = []\n",
    "    for i in range(len(y_pred)):\n",
    "        if (y_pred[i] == y_test[i]) and y_pred[i] == 1:\n",
    "            matching_indices.append(i)\n",
    "    \n",
    "    return matching_indices\n",
    "\n",
    "# Find row indices (DataFrame) of correctly predicted labels in pre-transformation label set\n",
    "def find_cls_matching_indices(y_test: pd.DataFrame, y_test_indices: List[int], matching_indices: List[int]):\n",
    "    X_indices = y_test.iloc[matching_indices].index\n",
    "\n",
    "    y_indices = []\n",
    "    for idx in X_indices:\n",
    "        y_indices.append(y_test_indices.index(idx))\n",
    "\n",
    "    return X_indices, y_indices"
   ]
  },
  {
   "cell_type": "code",
   "execution_count": 62,
   "metadata": {},
   "outputs": [],
   "source": [
    "#Test prediction pipeline\n",
    "def predict():\n",
    "    # Classify if related \n",
    "    rel_pred = rel_classifier.predict(D_test_rel)\n",
    "    rel_pred = np.where(rel_pred < 0.5, 0, 1)\n",
    "\n",
    "    # Find subset of test stance classication set that contains only samples that were predicted\n",
    "    # correctly in the previous step (in this case about 10% of total stance test set is lost)\n",
    "    matching_indices = find_correct_related_predictions(y_test_rel, rel_pred)\n",
    "    X_test_indices, y_test_indices = find_cls_matching_indices(y_test, list(y_test_cls_indices), matching_indices)\n",
    "    \n",
    "    # Prepare data for prediction\n",
    "    X_test_cls_vec = tfidf_transform.transform(X_test_cls.loc[X_test_indices])\n",
    "    D_test_cls = xgb.DMatrix(X_test_cls_vec, label=y_test_cls[y_test_indices])\n",
    "\n",
    "    # Classify stance\n",
    "    cls_pred = cls_classifier.predict(D_test_cls)\n",
    "    print_metrics(y_test_cls[y_test_indices], cls_pred, average=\"macro\")\n",
    "    plot_cm(y_test_cls[y_test_indices], cls_pred, labels=cls_labels)"
   ]
  },
  {
   "cell_type": "markdown",
   "metadata": {},
   "source": [
    "We finish with classification system that can correctly classify stance of about 86-88% (if our future data has roughly the same distribution) of related headline-body combinations."
   ]
  },
  {
   "cell_type": "code",
   "execution_count": 63,
   "metadata": {},
   "outputs": [
    {
     "name": "stdout",
     "output_type": "stream",
     "text": [
      "Precision = 0.8810485299578082\n",
      "Recall = 0.8567509172658055\n",
      "Accuracy = 0.9442453205894066\n",
      "Balanced accuracy = 0.8567509172658055\n"
     ]
    },
    {
     "data": {
      "image/png": "[encoded data removed]",
      "text/plain": [
       "<Figure size 640x480 with 2 Axes>"
      ]
     },
     "metadata": {},
     "output_type": "display_data"
    }
   ],
   "source": [
    "predict()"
   ]
  },
  {
   "cell_type": "markdown",
   "metadata": {},
   "source": [
    "That concludes this simple experiment. In the future we can further investigate things: dataset resampling, model optimization (through hyper-parameters), using/combining different model architectures like Transformers (+ XGBoost)."
   ]
  }
 ],
 "metadata": {
  "kernelspec": {
   "display_name": "Python 3.10.4 ('venv': venv)",
   "language": "python",
   "name": "python3"
  },
  "language_info": {
   "codemirror_mode": {
    "name": "ipython",
    "version": 3
   },
   "file_extension": ".py",
   "mimetype": "text/x-python",
   "name": "python",
   "nbconvert_exporter": "python",
   "pygments_lexer": "ipython3",
   "version": "3.10.4"
  },
  "orig_nbformat": 4,
  "vscode": {
   "interpreter": {
    "hash": "94b3bfe163e1866afd3b3db8ecc20722c474becdc4507c570d23aead5fc9a2bd"
   }
  }
 },
 "nbformat": 4,
 "nbformat_minor": 2
}
