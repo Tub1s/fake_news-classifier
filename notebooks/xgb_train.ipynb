{
 "cells": [
  {
   "cell_type": "code",
   "execution_count": 1,
   "metadata": {},
   "outputs": [],
   "source": [
    "# Utility \n",
    "import os\n",
    "import pickle\n",
    "import toml\n",
    "\n",
    "# Data manipulation\n",
    "import pandas as pd\n",
    "import numpy as np\n",
    "\n",
    "# Machine learning\n",
    "import xgboost as xgb\n",
    "\n",
    "from sklearn.model_selection import train_test_split\n",
    "from sklearn.feature_extraction.text import TfidfVectorizer\n",
    "from sklearn.preprocessing import LabelEncoder\n",
    "\n",
    "#Additional\n",
    "from features.preprocessing import dataset_preprocessor, df_preprocessor\n",
    "from features.fake_news_classifier import TFIDFTransform"
   ]
  },
  {
   "cell_type": "code",
   "execution_count": 2,
   "metadata": {},
   "outputs": [],
   "source": [
    "CONFIG_PATH = \"../config.toml\"\n",
    "config = toml.load(CONFIG_PATH)\n",
    "\n",
    "global_cfg = config[\"global\"]\n",
    "headvec_cfg = config[\"headline_vectorizer\"]\n",
    "bodyvec_cfg = config[\"body_vectorizer\"]\n",
    "rel_params = config[\"rel_params\"]\n",
    "cls_params = config[\"cls_params\"]"
   ]
  },
  {
   "cell_type": "code",
   "execution_count": 3,
   "metadata": {},
   "outputs": [],
   "source": [
    "bodies = pd.read_csv(\"../data/bodies.csv\", )\n",
    "stances = pd.read_csv(\"../data/stances.csv\")"
   ]
  },
  {
   "cell_type": "code",
   "execution_count": 4,
   "metadata": {},
   "outputs": [],
   "source": [
    "df = df_preprocessor(bodies, stances)\n",
    "X, y = df[[\"article_body\", \"headline\"]], df[[\"stance\", \"relation\"]]"
   ]
  },
  {
   "cell_type": "code",
   "execution_count": 5,
   "metadata": {},
   "outputs": [],
   "source": [
    "label_encoder = LabelEncoder()\n",
    "X_train, X_test, y_train, y_test = train_test_split(X, y, test_size = global_cfg[\"test_size\"], random_state=global_cfg[\"random_state\"])\n",
    "X_train_rel, X_train_cls, y_train_rel, y_train_cls, train_cls_indices = dataset_preprocessor(X_train, y_train, label_encoder)\n",
    "X_test_rel, X_test_cls, y_test_rel, y_test_cls, test_cls_indices = dataset_preprocessor(X_test, y_test, label_encoder)"
   ]
  },
  {
   "cell_type": "code",
   "execution_count": 6,
   "metadata": {},
   "outputs": [],
   "source": [
    "headline_vectorizer = TfidfVectorizer(analyzer=headvec_cfg[\"analyzer\"], stop_words=headvec_cfg[\"stop_words\"], \n",
    "                                      lowercase=headvec_cfg[\"lowercase\"], token_pattern=r'\\w+')\n",
    "body_vectorizer = TfidfVectorizer(analyzer=bodyvec_cfg[\"analyzer\"], stop_words=bodyvec_cfg[\"stop_words\"], \n",
    "                                  lowercase=bodyvec_cfg[\"lowercase\"], token_pattern=r'\\w+')\n",
    "tfidf_transform = TFIDFTransform(headline_vectorizer=headline_vectorizer, body_vectorizer=body_vectorizer)"
   ]
  },
  {
   "cell_type": "code",
   "execution_count": 7,
   "metadata": {},
   "outputs": [],
   "source": [
    "X_train_rel_vec = tfidf_transform.fit_transform(X_train_rel)\n",
    "X_train_cls_vec = tfidf_transform.transform(X_train_cls)\n",
    "\n",
    "D_train_rel = xgb.DMatrix(X_train_rel_vec, label=y_train_rel)\n",
    "D_train_cls = xgb.DMatrix(X_train_cls_vec, label=y_train_cls)"
   ]
  },
  {
   "cell_type": "code",
   "execution_count": 8,
   "metadata": {},
   "outputs": [],
   "source": [
    "rel_classifier = xgb.train(rel_params, D_train_rel, global_cfg[\"steps\"])\n",
    "cls_classifier = xgb.train(cls_params, D_train_cls, global_cfg[\"steps\"])\n",
    "\n",
    "rel_classifier.save_model(\"../models/rel_classifier.json\")\n",
    "cls_classifier.save_model(\"../models/cls_classifier.json\")\n",
    "    \n",
    "os.makedirs(\"../models/\", exist_ok=True)\n",
    "\n",
    "with open(\"../models/transform.pkl\", \"wb\") as f:\n",
    "    pickle.dump(tfidf_transform, f)"
   ]
  }
 ],
 "metadata": {
  "kernelspec": {
   "display_name": "Python 3.10.4 ('venv': venv)",
   "language": "python",
   "name": "python3"
  },
  "language_info": {
   "codemirror_mode": {
    "name": "ipython",
    "version": 3
   },
   "file_extension": ".py",
   "mimetype": "text/x-python",
   "name": "python",
   "nbconvert_exporter": "python",
   "pygments_lexer": "ipython3",
   "version": "3.10.4"
  },
  "orig_nbformat": 4,
  "vscode": {
   "interpreter": {
    "hash": "94b3bfe163e1866afd3b3db8ecc20722c474becdc4507c570d23aead5fc9a2bd"
   }
  }
 },
 "nbformat": 4,
 "nbformat_minor": 2
}
