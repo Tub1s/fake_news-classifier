{
 "cells": [
  {
   "cell_type": "code",
   "execution_count": 1,
   "metadata": {},
   "outputs": [],
   "source": [
    "TRAIN = False\n",
    "\n",
    "# Utility \n",
    "import os\n",
    "import tqdm\n",
    "import pickle\n",
    "from typing import List\n",
    "\n",
    "# Data manipulation\n",
    "import pandas as pd\n",
    "import numpy as np\n",
    "\n",
    "# Scientific\n",
    "from scipy.sparse import hstack\n",
    "from scipy.sparse import csr_matrix\n",
    "\n",
    "# Machine learning\n",
    "import xgboost as xgb\n",
    "from xgboost import XGBClassifier\n",
    "\n",
    "from sklearn.model_selection import train_test_split\n",
    "from sklearn.feature_extraction.text import TfidfVectorizer\n",
    "from sklearn.preprocessing import LabelEncoder\n",
    "\n",
    "from features.preprocessing import data_preprocessor\n",
    "from features.fake_news_classifier import TFIDFTransform, FakeNewsClassifier"
   ]
  },
  {
   "cell_type": "code",
   "execution_count": 2,
   "metadata": {},
   "outputs": [],
   "source": [
    "bodies = pd.read_csv(\"../data/bodies.csv\", )\n",
    "stances = pd.read_csv(\"../data/stances.csv\")"
   ]
  },
  {
   "cell_type": "code",
   "execution_count": 3,
   "metadata": {},
   "outputs": [],
   "source": [
    "bodies = bodies.rename(columns={\"Body ID\": \"body_id\", \"articleBody\": \"article_body\"})\n",
    "stances = stances.rename(columns={\"Body ID\": \"body_id\"})\n",
    "stances.columns = stances.columns.str.lower()\n",
    "\n",
    "df = pd.merge(bodies, stances, on=\"body_id\")"
   ]
  },
  {
   "cell_type": "code",
   "execution_count": 4,
   "metadata": {},
   "outputs": [],
   "source": [
    "mappings = { key: \"related\" for key in [\"agree\", \"disagree\", \"discuss\"]}\n",
    "mappings.update({\"unrelated\": \"unrelated\"})\n",
    "df[\"relation\"] = df.apply(lambda row: mappings[row[\"stance\"]], axis=1)\n",
    "df = df.drop(columns=[\"body_id\"])"
   ]
  },
  {
   "cell_type": "code",
   "execution_count": 5,
   "metadata": {},
   "outputs": [],
   "source": [
    "X, y = df[[\"article_body\", \"headline\"]], df[[\"stance\", \"relation\"]]"
   ]
  },
  {
   "cell_type": "code",
   "execution_count": 6,
   "metadata": {},
   "outputs": [],
   "source": [
    "label_encoder = LabelEncoder()\n",
    "X_train, X_test, y_train, y_test = train_test_split(X, y, test_size = 0.2, random_state=0)\n",
    "X_train_rel, X_train_cls, y_train_rel, y_train_cls, train_cls_indices = data_preprocessor(X_train, y_train, label_encoder)\n",
    "X_test_rel, X_test_cls, y_test_rel, y_test_cls, test_cls_indices = data_preprocessor(X_test, y_test, label_encoder)"
   ]
  },
  {
   "cell_type": "code",
   "execution_count": 7,
   "metadata": {},
   "outputs": [],
   "source": [
    "if TRAIN:\n",
    "    headline_vectorizer = TfidfVectorizer(analyzer=\"word\", stop_words=\"english\", lowercase=True, token_pattern=r\"\\w+\")\n",
    "    body_vectorizer = TfidfVectorizer(analyzer=\"word\", stop_words=\"english\", lowercase=True, token_pattern=r\"\\w+\")\n",
    "\n",
    "    tfidf_transform = TFIDFTransform(headline_vectorizer=headline_vectorizer, body_vectorizer=body_vectorizer)"
   ]
  },
  {
   "cell_type": "code",
   "execution_count": 8,
   "metadata": {},
   "outputs": [],
   "source": [
    "if TRAIN:\n",
    "    X_train_rel_vec = tfidf_transform.fit_transform(X_train_rel)\n",
    "    X_train_cls_vec = tfidf_transform.transform(X_train_cls)\n",
    "    X_test_rel_vec = tfidf_transform.transform(X_test_rel)\n",
    "    X_test_cls_vec = tfidf_transform.transform(X_test_cls)"
   ]
  },
  {
   "cell_type": "code",
   "execution_count": 9,
   "metadata": {},
   "outputs": [],
   "source": [
    "if TRAIN:\n",
    "    D_train_rel = xgb.DMatrix(X_train_rel_vec, label=y_train_rel)\n",
    "    D_train_cls = xgb.DMatrix(X_train_cls_vec, label=y_train_cls)"
   ]
  },
  {
   "cell_type": "code",
   "execution_count": 10,
   "metadata": {},
   "outputs": [],
   "source": [
    "if TRAIN:\n",
    "    steps = 100\n",
    "\n",
    "    rel_params = {\n",
    "        'eta': 0.3, \n",
    "        'max_depth': 12\n",
    "    } \n",
    "\n",
    "    cls_params = {\n",
    "        'eta': 0.3, \n",
    "        'max_depth': 20,\n",
    "        'num_class': 3\n",
    "    } \n",
    "\n",
    "    rel_classifier = xgb.train(rel_params, D_train_rel, steps)\n",
    "    cls_classifier = xgb.train(cls_params, D_train_cls, steps)\n",
    "\n",
    "    rel_classifier.save_model(\"../models/rel_classifier.json\")\n",
    "    cls_classifier.save_model(\"../models/cls_classifier.json\")\n",
    "    \n",
    "    with open(\"../models/transform.pkl\", \"wb\") as f:\n",
    "        pickle.dump(tfidf_transform, f)\n",
    "\n",
    "else:\n",
    "    rel_classifier = xgb.Booster()\n",
    "    rel_classifier.load_model(\"../models/rel_classifier.json\")\n",
    "\n",
    "    cls_classifier = xgb.Booster()\n",
    "    cls_classifier.load_model(\"../models/cls_classifier.json\")\n",
    "\n",
    "    with open(\"../models/transform.pkl\", \"rb\") as f:\n",
    "        tfidf_transform = pickle.load(f)\n"
   ]
  },
  {
   "cell_type": "code",
   "execution_count": 15,
   "metadata": {},
   "outputs": [],
   "source": [
    "classifier = FakeNewsClassifier(rel_classifier, cls_classifier, tfidf_transform)"
   ]
  },
  {
   "cell_type": "code",
   "execution_count": 16,
   "metadata": {},
   "outputs": [],
   "source": [
    "y_pred, y_true = classifier.predict_test(X_test_rel, y_test_rel, \n",
    "                                        X_test_cls, y_test_cls, \n",
    "                                        test_cls_indices, y_org=y_test)"
   ]
  },
  {
   "cell_type": "code",
   "execution_count": 17,
   "metadata": {},
   "outputs": [
    {
     "name": "stdout",
     "output_type": "stream",
     "text": [
      "Precision = 0.8810485299578082\n",
      "Recall = 0.8567509172658055\n",
      "Accuracy = 0.9442453205894066\n",
      "Balanced accuracy = 0.8567509172658055\n"
     ]
    }
   ],
   "source": [
    "classifier.print_metrics(y_true, y_pred)"
   ]
  },
  {
   "cell_type": "code",
   "execution_count": 19,
   "metadata": {},
   "outputs": [
    {
     "data": {
      "image/png": "[encoded data removed]",
      "text/plain": [
       "<Figure size 640x480 with 2 Axes>"
      ]
     },
     "metadata": {},
     "output_type": "display_data"
    }
   ],
   "source": [
    "classifier.plot_cm(y_true, y_pred, labels=label_encoder.classes_)"
   ]
  }
 ],
 "metadata": {
  "kernelspec": {
   "display_name": "Python 3.10.4 ('venv': venv)",
   "language": "python",
   "name": "python3"
  },
  "language_info": {
   "codemirror_mode": {
    "name": "ipython",
    "version": 3
   },
   "file_extension": ".py",
   "mimetype": "text/x-python",
   "name": "python",
   "nbconvert_exporter": "python",
   "pygments_lexer": "ipython3",
   "version": "3.10.4"
  },
  "orig_nbformat": 4,
  "vscode": {
   "interpreter": {
    "hash": "94b3bfe163e1866afd3b3db8ecc20722c474becdc4507c570d23aead5fc9a2bd"
   }
  }
 },
 "nbformat": 4,
 "nbformat_minor": 2
}
